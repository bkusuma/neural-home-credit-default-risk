{
  "cells": [
    {
      "cell_type": "code",
      "execution_count": 38,
      "metadata": {
        "id": "ysLOT3yFoo_r"
      },
      "outputs": [],
      "source": [
        "import pandas as pd\n",
        "pd.set_option(\"display.max_columns\", 200)\n",
        "\n",
        "import numpy as np\n",
        "\n",
        "import matplotlib.pyplot as plt\n",
        "\n",
        "import seaborn as sns"
      ]
    },
    {
      "cell_type": "code",
      "execution_count": null,
      "metadata": {
        "id": "lOFpPSOZoo_s"
      },
      "outputs": [],
      "source": [
        "input_path = \"../../kaggle/input/home-credit-default-risk/\" # on local machine\n",
        "# input_path = \"/kaggle/input/home-credit-default-risk/\" # Kaggle\n",
        "# input_path = \"/content/drive/MyDrive/kaggle/input/home-credit-default-risk/\" # Google Colab\n",
        "\n",
        "installments_payments = pd.read_csv(input_path + \"installments_payments.csv\")\n",
        "POS_CASH_balance = pd.read_csv(input_path + \"POS_CASH_balance.csv\")\n",
        "credit_card_balance = pd.read_csv(input_path + \"credit_card_balance.csv\")\n",
        "application_train = pd.read_csv(input_path + \"application_train.csv\")\n",
        "idx = pd.DataFrame(application_train['SK_ID_CURR'])"
      ]
    },
    {
      "cell_type": "code",
      "execution_count": 47,
      "metadata": {
        "id": "UJCAti3j_8g9"
      },
      "outputs": [],
      "source": [
        "# INSTALL pipeline\n",
        "installments_payments.drop(columns=\"SK_ID_PREV\", inplace=True)\n",
        "installments_payments.columns = [col + \"_INSTALL\" for col in installments_payments.columns]\n",
        "merge_INSTALL = pd.merge(idx, installments_payments, how=\"inner\", left_on=\"SK_ID_CURR\", right_on=\"SK_ID_CURR_INSTALL\")\n",
        "merge_INSTALL.drop(columns=\"SK_ID_CURR_INSTALL\", inplace=True)\n",
        "merge_INSTALL = merge_INSTALL.sort_values(by=\"NUM_INSTALMENT_NUMBER_INSTALL\", ascending=False).drop_duplicates(subset=[\"SK_ID_CURR\"])\n",
        "\n",
        "# POS pipeline\n",
        "POS_CASH_balance.drop(columns=\"SK_ID_PREV\", inplace=True)\n",
        "POS_CASH_balance.columns = [col + \"_POS\" for col in POS_CASH_balance.columns]\n",
        "merge_POS = pd.merge(idx, POS_CASH_balance, how=\"inner\", left_on=\"SK_ID_CURR\", right_on=\"SK_ID_CURR_POS\")\n",
        "merge_POS.drop(columns=\"SK_ID_CURR_POS\", inplace=True)\n",
        "merge_POS = merge_POS.sort_values(by=\"MONTHS_BALANCE_POS\", ascending=False).drop_duplicates(subset=[\"SK_ID_CURR\"])\n",
        "\n",
        "# CC pipeline\n",
        "credit_card_balance.drop(columns=\"SK_ID_PREV\", inplace=True)\n",
        "credit_card_balance.columns = [col + \"_CC\" for col in credit_card_balance.columns]\n",
        "merge_CC = pd.merge(idx, credit_card_balance, how=\"inner\", left_on=\"SK_ID_CURR\", right_on=\"SK_ID_CURR_CC\")\n",
        "merge_CC.drop(columns=\"SK_ID_CURR_CC\", inplace=True)\n",
        "merge_CC = merge_CC.sort_values(by=\"MONTHS_BALANCE_CC\", ascending=False).drop_duplicates(subset=[\"SK_ID_CURR\"])\n",
        "\n",
        "# Merge down\n",
        "balances_and_payments = pd.merge(merge_INSTALL, merge_POS, how=\"outer\", left_on=\"SK_ID_CURR\", right_on=\"SK_ID_CURR\")\n",
        "balances_and_payments = pd.merge(balances_and_payments, merge_CC, how=\"outer\", left_on=\"SK_ID_CURR\", right_on=\"SK_ID_CURR\")\n",
        "\n",
        "# Drop object columns\n",
        "# balances_and_payments.select_dtypes(include=\"object\")\n",
        "balances_and_payments.drop(labels=[\"NAME_CONTRACT_STATUS_POS\", \"NAME_CONTRACT_STATUS_CC\"], axis=1, inplace=True)"
      ]
    },
    {
      "cell_type": "code",
      "execution_count": 57,
      "metadata": {
        "id": "Irxf_kEloo_u"
      },
      "outputs": [],
      "source": [
        "balances_and_payments.to_csv(\"balances_and_payments.csv\", index=False) # export for use in primary notebook"
      ]
    }
  ],
  "metadata": {
    "colab": {
      "provenance": []
    },
    "kernelspec": {
      "display_name": "datascience",
      "language": "python",
      "name": "python3"
    },
    "language_info": {
      "codemirror_mode": {
        "name": "ipython",
        "version": 3
      },
      "file_extension": ".py",
      "mimetype": "text/x-python",
      "name": "python",
      "nbconvert_exporter": "python",
      "pygments_lexer": "ipython3",
      "version": "3.12.9"
    }
  },
  "nbformat": 4,
  "nbformat_minor": 0
}
