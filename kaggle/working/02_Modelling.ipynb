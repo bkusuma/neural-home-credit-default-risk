{
  "cells": [
    {
      "cell_type": "markdown",
      "metadata": {},
      "source": [
        "# Paths"
      ]
    },
    {
      "cell_type": "code",
      "execution_count": 1,
      "metadata": {},
      "outputs": [],
      "source": [
        "# ## local machine\n",
        "# src_path = '../src/'\n",
        "# lib_path = '../lib/'\n",
        "# input_path = '../../kaggle/input/home-credit-default-risk/'"
      ]
    },
    {
      "cell_type": "code",
      "execution_count": 2,
      "metadata": {
        "colab": {
          "base_uri": "https://localhost:8080/"
        },
        "id": "m91X3UCehefH",
        "outputId": "9325da7e-2173-4955-fea2-e88fa0402074"
      },
      "outputs": [],
      "source": [
        "# # Google Colab\n",
        "# # Load the Drive helper and mount\n",
        "# from google.colab import drive\n",
        "\n",
        "# # This will prompt for authorization.\n",
        "# drive.mount('/content/drive')\n",
        "\n",
        "# # After executing above, Drive files will be accessible in path \"/content/drive/MyDrive\"\n",
        "\n",
        "# # Google Colab\n",
        "# src_path = '/content/drive/MyDrive/kaggle/src'\n",
        "# lib_path = '/content/drive/MyDrive/kaggle/lib'\n",
        "# input_path = '/content/drive/MyDrive/kaggle/input/home-credit-default-risk/'"
      ]
    },
    {
      "cell_type": "code",
      "execution_count": 2,
      "metadata": {},
      "outputs": [],
      "source": [
        "# Kaggle\n",
        "# src_path = '/kaggle/src'\n",
        "src_path = '/kaggle/input/github-import/kaggle/src'\n",
        "lib_path = '/kaggle/lib/'\n",
        "input_path = '/kaggle/input/home-credit-default-risk/'"
      ]
    },
    {
      "cell_type": "code",
      "execution_count": 4,
      "metadata": {},
      "outputs": [],
      "source": [
        "# pip install torch"
      ]
    },
    {
      "cell_type": "code",
      "execution_count": 5,
      "metadata": {},
      "outputs": [],
      "source": [
        "# pip install fastai"
      ]
    },
    {
      "cell_type": "code",
      "execution_count": null,
      "metadata": {},
      "outputs": [],
      "source": [
        "# !pip install -U fastai\n",
        "# "
      ]
    },
    {
      "cell_type": "code",
      "execution_count": null,
      "metadata": {},
      "outputs": [
        {
          "name": "stdout",
          "output_type": "stream",
          "text": [
            "3.10.12\n"
          ]
        }
      ],
      "source": [
        "# from platform import python_version\n",
        "\n",
        "# print(python_version())"
      ]
    },
    {
      "cell_type": "code",
      "execution_count": null,
      "metadata": {},
      "outputs": [
        {
          "data": {
            "text/plain": [
              "'/usr/bin/python3'"
            ]
          },
          "execution_count": 17,
          "metadata": {},
          "output_type": "execute_result"
        }
      ],
      "source": [
        "# import sys\n",
        "# sys.executable"
      ]
    },
    {
      "cell_type": "code",
      "execution_count": null,
      "metadata": {},
      "outputs": [
        {
          "data": {
            "text/plain": [
              "<module 'posixpath' from '/usr/lib/python3.10/posixpath.py'>"
            ]
          },
          "execution_count": 16,
          "metadata": {},
          "output_type": "execute_result"
        }
      ],
      "source": [
        "# import os\n",
        "# os.path"
      ]
    },
    {
      "cell_type": "code",
      "execution_count": null,
      "metadata": {},
      "outputs": [],
      "source": [
        "# pip install -Uq fastai\n",
        "# conda install -c pytorch -c fastai fastai\n"
      ]
    },
    {
      "cell_type": "code",
      "execution_count": null,
      "metadata": {},
      "outputs": [
        {
          "name": "stdout",
          "output_type": "stream",
          "text": [
            "/usr/bin/python3\n",
            "3.10.12 (main, Nov  6 2024, 20:22:13) [GCC 11.4.0]\n",
            "sys.version_info(major=3, minor=10, micro=12, releaselevel='final', serial=0)\n"
          ]
        }
      ],
      "source": [
        "# import sys\n",
        "# print(sys.executable)\n",
        "# print(sys.version)\n",
        "# print(sys.version_info)"
      ]
    },
    {
      "cell_type": "code",
      "execution_count": null,
      "metadata": {},
      "outputs": [
        {
          "data": {
            "text/plain": [
              "<module 'posixpath' from '/usr/lib/python3.10/posixpath.py'>"
            ]
          },
          "execution_count": 19,
          "metadata": {},
          "output_type": "execute_result"
        }
      ],
      "source": [
        "# import os\n",
        "# os.path"
      ]
    },
    {
      "cell_type": "code",
      "execution_count": null,
      "metadata": {},
      "outputs": [
        {
          "name": "stdout",
          "output_type": "stream",
          "text": [
            "3.10.12 (main, Nov  6 2024, 20:22:13) [GCC 11.4.0]\n",
            "/usr/bin/python3\n"
          ]
        }
      ],
      "source": [
        "# import sys\n",
        "\n",
        "# print(sys.version)\n",
        "# print(sys.executable)"
      ]
    },
    {
      "cell_type": "code",
      "execution_count": null,
      "metadata": {},
      "outputs": [
        {
          "name": "stdout",
          "output_type": "stream",
          "text": [
            "Name: scikit-learn\n",
            "Version: 1.2.2\n",
            "Summary: A set of python modules for machine learning and data mining\n",
            "Home-page: http://scikit-learn.org\n",
            "Author: \n",
            "Author-email: \n",
            "License: new BSD\n",
            "Location: /usr/local/lib/python3.10/dist-packages\n",
            "Requires: joblib, numpy, scipy, threadpoolctl\n",
            "Required-by: bayesian-optimization, bigframes, Boruta, category_encoders, cesium, eli5, fastai, hep_ml, imbalanced-learn, librosa, lime, mlxtend, nilearn, pyLDAvis, rgf-python, scikit-learn-intelex, scikit-optimize, scikit-plot, sentence-transformers, shap, sklearn-pandas, TPOT, tsfresh, woodwork, yellowbrick\n",
            "Note: you may need to restart the kernel to use updated packages.\n"
          ]
        }
      ],
      "source": [
        "# pip show scikit-learn"
      ]
    },
    {
      "cell_type": "code",
      "execution_count": null,
      "metadata": {},
      "outputs": [
        {
          "name": "stdout",
          "output_type": "stream",
          "text": [
            "Requirement already satisfied: scikit-learn in /usr/local/lib/python3.10/dist-packages (1.2.2)\n",
            "Collecting scikit-learn\n",
            "  Downloading scikit_learn-1.6.1-cp310-cp310-manylinux_2_17_x86_64.manylinux2014_x86_64.whl.metadata (18 kB)\n",
            "Requirement already satisfied: numpy>=1.19.5 in /usr/local/lib/python3.10/dist-packages (from scikit-learn) (1.26.4)\n",
            "Requirement already satisfied: scipy>=1.6.0 in /usr/local/lib/python3.10/dist-packages (from scikit-learn) (1.13.1)\n",
            "Requirement already satisfied: joblib>=1.2.0 in /usr/local/lib/python3.10/dist-packages (from scikit-learn) (1.4.2)\n",
            "Requirement already satisfied: threadpoolctl>=3.1.0 in /usr/local/lib/python3.10/dist-packages (from scikit-learn) (3.5.0)\n",
            "Requirement already satisfied: mkl_fft in /usr/local/lib/python3.10/dist-packages (from numpy>=1.19.5->scikit-learn) (1.3.8)\n",
            "Requirement already satisfied: mkl_random in /usr/local/lib/python3.10/dist-packages (from numpy>=1.19.5->scikit-learn) (1.2.4)\n",
            "Requirement already satisfied: mkl_umath in /usr/local/lib/python3.10/dist-packages (from numpy>=1.19.5->scikit-learn) (0.1.1)\n",
            "Requirement already satisfied: mkl in /usr/local/lib/python3.10/dist-packages (from numpy>=1.19.5->scikit-learn) (2025.0.1)\n",
            "Requirement already satisfied: tbb4py in /usr/local/lib/python3.10/dist-packages (from numpy>=1.19.5->scikit-learn) (2022.0.0)\n",
            "Requirement already satisfied: mkl-service in /usr/local/lib/python3.10/dist-packages (from numpy>=1.19.5->scikit-learn) (2.4.1)\n",
            "Requirement already satisfied: intel-openmp>=2024 in /usr/local/lib/python3.10/dist-packages (from mkl->numpy>=1.19.5->scikit-learn) (2024.2.0)\n",
            "Requirement already satisfied: tbb==2022.* in /usr/local/lib/python3.10/dist-packages (from mkl->numpy>=1.19.5->scikit-learn) (2022.0.0)\n",
            "Requirement already satisfied: tcmlib==1.* in /usr/local/lib/python3.10/dist-packages (from tbb==2022.*->mkl->numpy>=1.19.5->scikit-learn) (1.2.0)\n",
            "Requirement already satisfied: intel-cmplr-lib-rt in /usr/local/lib/python3.10/dist-packages (from mkl_umath->numpy>=1.19.5->scikit-learn) (2024.2.0)\n",
            "Requirement already satisfied: intel-cmplr-lib-ur==2024.2.0 in /usr/local/lib/python3.10/dist-packages (from intel-openmp>=2024->mkl->numpy>=1.19.5->scikit-learn) (2024.2.0)\n",
            "Downloading scikit_learn-1.6.1-cp310-cp310-manylinux_2_17_x86_64.manylinux2014_x86_64.whl (13.5 MB)\n",
            "\u001b[2K   \u001b[90m━━━━━━━━━━━━━━━━━━━━━━━━━━━━━━━━━━━━━━━━\u001b[0m \u001b[32m13.5/13.5 MB\u001b[0m \u001b[31m91.5 MB/s\u001b[0m eta \u001b[36m0:00:00\u001b[0m:00:01\u001b[0m:01\u001b[0m\n",
            "\u001b[?25hInstalling collected packages: scikit-learn\n",
            "  Attempting uninstall: scikit-learn\n",
            "    Found existing installation: scikit-learn 1.2.2\n",
            "    Uninstalling scikit-learn-1.2.2:\n",
            "      Successfully uninstalled scikit-learn-1.2.2\n",
            "\u001b[31mERROR: pip's dependency resolver does not currently take into account all the packages that are installed. This behaviour is the source of the following dependency conflicts.\n",
            "category-encoders 2.7.0 requires scikit-learn<1.6.0,>=1.0.0, but you have scikit-learn 1.6.1 which is incompatible.\u001b[0m\u001b[31m\n",
            "\u001b[0mSuccessfully installed scikit-learn-1.6.1\n",
            "Note: you may need to restart the kernel to use updated packages.\n"
          ]
        }
      ],
      "source": [
        "# pip install -U scikit-learn"
      ]
    },
    {
      "cell_type": "markdown",
      "metadata": {
        "id": "nv8ivy2MhefE"
      },
      "source": [
        "# Imports"
      ]
    },
    {
      "cell_type": "code",
      "execution_count": 3,
      "metadata": {
        "id": "6b8K-qBlhefF"
      },
      "outputs": [],
      "source": [
        "import pandas as pd\n",
        "pd.set_option(\"display.max_columns\", 200)\n",
        "\n",
        "import numpy as np\n",
        "\n",
        "import matplotlib.pyplot as plt\n",
        "\n",
        "import seaborn as sns\n",
        "\n",
        "from sklearn.model_selection import train_test_split, cross_validate, GridSearchCV\n",
        "from sklearn.preprocessing import StandardScaler, OneHotEncoder\n",
        "from sklearn.impute import SimpleImputer\n",
        "from sklearn.compose import ColumnTransformer, make_column_selector, make_column_transformer\n",
        "from sklearn.pipeline import Pipeline\n",
        "from sklearn.linear_model import LogisticRegression, LogisticRegressionCV, RidgeClassifier, RidgeClassifierCV\n",
        "from sklearn.neighbors import KNeighborsClassifier\n",
        "from sklearn.metrics import roc_auc_score, make_scorer, RocCurveDisplay, PrecisionRecallDisplay\n",
        "from sklearn.tree import DecisionTreeClassifier\n",
        "from sklearn.svm import LinearSVC, SVC\n",
        "from sklearn.ensemble import RandomForestClassifier, HistGradientBoostingClassifier, StackingClassifier, AdaBoostClassifier\n",
        "from sklearn.naive_bayes import GaussianNB, BernoulliNB\n",
        "from sklearn.calibration import CalibratedClassifierCV\n",
        "from sklearn.frozen import FrozenEstimator\n",
        "\n",
        "from sklearn import set_config\n",
        "set_config(transform_output=\"pandas\")\n",
        "\n",
        "from xgboost import XGBClassifier, XGBRFClassifier\n",
        "\n",
        "from lightgbm import LGBMClassifier\n",
        "\n",
        "from category_encoders import HashingEncoder\n",
        "\n",
        "# import joblib\n",
        "# saved = joblib.load(lib_path + \"data_processing.joblib\")\n",
        "# preprocessor = saved[\"preprocessor\"]\n",
        "# non_co_cols = saved[\"non_co_cols\"]\n",
        "# merged_application_test = saved[\"merged_application_train\"]\n",
        "\n",
        "# /kaggle/input/preprocessor/data_processing.joblib\n",
        "\n",
        "import joblib\n",
        "saved = joblib.load(\"/kaggle/input/preprocessor/data_processing.joblib\")\n",
        "preprocessor = saved[\"preprocessor\"]\n",
        "non_co_cols = saved[\"non_co_cols\"]\n",
        "merged_application_test = saved[\"merged_application_train\"]\n",
        "\n",
        "# import sys\n",
        "# sys.path.insert(0, src_path)\n",
        "# from eval_classification import eval_classification\n",
        "# del sys.path[0]\n",
        "\n",
        "# /kaggle/input/github-import/kaggle/src/eval_classification.py\n",
        "\n",
        "import sys\n",
        "sys.path.insert(0, src_path)\n",
        "from eval_classification import eval_classification\n",
        "del sys.path[0]"
      ]
    },
    {
      "cell_type": "code",
      "execution_count": 24,
      "metadata": {},
      "outputs": [
        {
          "name": "stdout",
          "output_type": "stream",
          "text": [
            "The nltk version is 3.2.4.\n",
            "The scikit-learn version is 1.2.2.\n"
          ]
        }
      ],
      "source": [
        "import nltk\n",
        "import sklearn\n",
        "\n",
        "print('The nltk version is {}.'.format(nltk.__version__))\n",
        "print('The scikit-learn version is {}.'.format(sklearn.__version__))"
      ]
    },
    {
      "cell_type": "code",
      "execution_count": 4,
      "metadata": {
        "id": "6dSP9mqFhefH"
      },
      "outputs": [],
      "source": [
        "# separate data\n",
        "X = merged_application_test.drop(columns=[\"TARGET\", \"SK_ID_CURR\"])\n",
        "y = merged_application_test[\"TARGET\"].copy()"
      ]
    },
    {
      "cell_type": "code",
      "execution_count": 5,
      "metadata": {
        "id": "Q0Ke0pufhefI"
      },
      "outputs": [],
      "source": [
        "# split data 80/20 for training and testing\n",
        "X_train, X_test, y_train, y_test = train_test_split(X, y, train_size=0.8, test_size=0.2, random_state=42)"
      ]
    },
    {
      "cell_type": "code",
      "execution_count": 6,
      "metadata": {
        "id": "9Rqa7kP1hefI"
      },
      "outputs": [],
      "source": [
        "# fit data on preprocessor\n",
        "preprocessor.fit(X_train, y_train)\n",
        "\n",
        "# transform data\n",
        "X_train = preprocessor.transform(X_train)\n",
        "X_test = preprocessor.transform(X_test)"
      ]
    },
    {
      "cell_type": "code",
      "execution_count": 7,
      "metadata": {},
      "outputs": [],
      "source": [
        "# drop columns with collinear relationships (Pearson's correlation coefficients > 0.8)\n",
        "X_train.drop(columns=non_co_cols, inplace=True)\n",
        "X_test.drop(columns=non_co_cols, inplace=True)"
      ]
    },
    {
      "cell_type": "markdown",
      "metadata": {
        "id": "cck_179ehefI"
      },
      "source": [
        "# Model Testing"
      ]
    },
    {
      "cell_type": "markdown",
      "metadata": {
        "id": "axrY81pOhefI"
      },
      "source": [
        "## Logistic Regression"
      ]
    },
    {
      "cell_type": "code",
      "execution_count": 8,
      "metadata": {
        "colab": {
          "base_uri": "https://localhost:8080/",
          "height": 551
        },
        "id": "AohnySevhefI",
        "outputId": "649c88e5-f473-4f2a-fd8a-fc9085daabe1"
      },
      "outputs": [
        {
          "name": "stdout",
          "output_type": "stream",
          "text": [
            "                    Train Evaluation                                       Test Evaluation                   \n",
            "              precision    recall  f1-score   support                precision    recall  f1-score   support \n",
            "                                                                                                             \n",
            "           0       0.96      0.69      0.80    226132             0       0.96      0.69      0.80     56554 \n",
            "           1       0.16      0.68      0.26     19876             1       0.16      0.67      0.26      4949 \n",
            "                                                                                                             \n",
            "    accuracy                           0.69    246008      accuracy                           0.69     61503 \n",
            "   macro avg       0.56      0.68      0.53    246008     macro avg       0.56      0.68      0.53     61503 \n",
            "weighted avg       0.90      0.69      0.76    246008  weighted avg       0.90      0.69      0.76     61503 \n"
          ]
        },
        {
          "data": {
            "image/png": "[encoded data removed]",
            "text/plain": [
              "<Figure size 800x400 with 4 Axes>"
            ]
          },
          "metadata": {},
          "output_type": "display_data"
        }
      ],
      "source": [
        "logreg = LogisticRegression(max_iter=1000, class_weight=\"balanced\", random_state=42).fit(X_train, y_train)\n",
        "\n",
        "logreg_results = eval_classification(logreg, X_train, y_train, X_test, y_test,\n",
        "                              model_name=\"Logistic Regression\")"
      ]
    },
    {
      "cell_type": "code",
      "execution_count": 9,
      "metadata": {
        "colab": {
          "base_uri": "https://localhost:8080/",
          "height": 551
        },
        "id": "DDW95loahefI",
        "outputId": "588e23a1-60bc-4f02-9852-9f6dc6e5d082"
      },
      "outputs": [
        {
          "name": "stdout",
          "output_type": "stream",
          "text": [
            "                    Train Evaluation                                       Test Evaluation                   \n",
            "              precision    recall  f1-score   support                precision    recall  f1-score   support \n",
            "                                                                                                             \n",
            "           0       0.96      0.69      0.80    226132             0       0.96      0.69      0.80     56554 \n",
            "           1       0.16      0.67      0.26     19876             1       0.16      0.67      0.26      4949 \n",
            "                                                                                                             \n",
            "    accuracy                           0.69    246008      accuracy                           0.69     61503 \n",
            "   macro avg       0.56      0.68      0.53    246008     macro avg       0.56      0.68      0.53     61503 \n",
            "weighted avg       0.90      0.69      0.76    246008  weighted avg       0.90      0.69      0.76     61503 \n"
          ]
        },
        {
          "data": {
            "image/png": "[encoded data removed]",
            "text/plain": [
              "<Figure size 800x400 with 4 Axes>"
            ]
          },
          "metadata": {},
          "output_type": "display_data"
        }
      ],
      "source": [
        "logreg_cv = LogisticRegressionCV(max_iter=1000, class_weight=\"balanced\", scoring=\"roc_auc\", n_jobs=-1, random_state=42).fit(X_train, y_train)\n",
        "\n",
        "logreg_cv_results = eval_classification(logreg_cv, X_train, y_train, X_test, y_test,\n",
        "                              model_name=\"Logistic Regression CV\", results_frame=logreg_results)"
      ]
    },
    {
      "cell_type": "code",
      "execution_count": 10,
      "metadata": {},
      "outputs": [
        {
          "data": {
            "text/html": [
              "<div>\n",
              "<style scoped>\n",
              "    .dataframe tbody tr th:only-of-type {\n",
              "        vertical-align: middle;\n",
              "    }\n",
              "\n",
              "    .dataframe tbody tr th {\n",
              "        vertical-align: top;\n",
              "    }\n",
              "\n",
              "    .dataframe thead th {\n",
              "        text-align: right;\n",
              "    }\n",
              "</style>\n",
              "<table border=\"1\" class=\"dataframe\">\n",
              "  <thead>\n",
              "    <tr style=\"text-align: right;\">\n",
              "      <th></th>\n",
              "      <th>train_acc</th>\n",
              "      <th>test_acc</th>\n",
              "      <th>train_prec</th>\n",
              "      <th>test_prec</th>\n",
              "      <th>train_recall</th>\n",
              "      <th>test_recall</th>\n",
              "      <th>train_f1</th>\n",
              "      <th>test_f1</th>\n",
              "      <th>train_auc</th>\n",
              "      <th>test_auc</th>\n",
              "    </tr>\n",
              "  </thead>\n",
              "  <tbody>\n",
              "    <tr>\n",
              "      <th>Logistic Regression</th>\n",
              "      <td>0.688201</td>\n",
              "      <td>0.685284</td>\n",
              "      <td>0.160394</td>\n",
              "      <td>0.157677</td>\n",
              "      <td>0.675186</td>\n",
              "      <td>0.670438</td>\n",
              "      <td>0.259211</td>\n",
              "      <td>0.255309</td>\n",
              "      <td>0.745930</td>\n",
              "      <td>0.743762</td>\n",
              "    </tr>\n",
              "    <tr>\n",
              "      <th>Logistic Regression CV</th>\n",
              "      <td>0.688100</td>\n",
              "      <td>0.685316</td>\n",
              "      <td>0.160257</td>\n",
              "      <td>0.157692</td>\n",
              "      <td>0.674633</td>\n",
              "      <td>0.670438</td>\n",
              "      <td>0.258991</td>\n",
              "      <td>0.255329</td>\n",
              "      <td>0.745894</td>\n",
              "      <td>0.743784</td>\n",
              "    </tr>\n",
              "  </tbody>\n",
              "</table>\n",
              "</div>"
            ],
            "text/plain": [
              "                        train_acc  test_acc  train_prec  test_prec  \\\n",
              "Logistic Regression      0.688201  0.685284    0.160394   0.157677   \n",
              "Logistic Regression CV   0.688100  0.685316    0.160257   0.157692   \n",
              "\n",
              "                        train_recall  test_recall  train_f1   test_f1  \\\n",
              "Logistic Regression         0.675186     0.670438  0.259211  0.255309   \n",
              "Logistic Regression CV      0.674633     0.670438  0.258991  0.255329   \n",
              "\n",
              "                        train_auc  test_auc  \n",
              "Logistic Regression      0.745930  0.743762  \n",
              "Logistic Regression CV   0.745894  0.743784  "
            ]
          },
          "execution_count": 10,
          "metadata": {},
          "output_type": "execute_result"
        }
      ],
      "source": [
        "logreg_cv_results"
      ]
    },
    {
      "cell_type": "code",
      "execution_count": 11,
      "metadata": {},
      "outputs": [
        {
          "data": {
            "text/plain": [
              "{'Cs': 10,\n",
              " 'class_weight': 'balanced',\n",
              " 'cv': None,\n",
              " 'dual': False,\n",
              " 'fit_intercept': True,\n",
              " 'intercept_scaling': 1.0,\n",
              " 'l1_ratios': None,\n",
              " 'max_iter': 1000,\n",
              " 'multi_class': 'deprecated',\n",
              " 'n_jobs': -1,\n",
              " 'penalty': 'l2',\n",
              " 'random_state': 42,\n",
              " 'refit': True,\n",
              " 'scoring': 'roc_auc',\n",
              " 'solver': 'lbfgs',\n",
              " 'tol': 0.0001,\n",
              " 'verbose': 0}"
            ]
          },
          "execution_count": 11,
          "metadata": {},
          "output_type": "execute_result"
        }
      ],
      "source": [
        "logreg_cv.get_params()"
      ]
    },
    {
      "cell_type": "markdown",
      "metadata": {
        "id": "1Kh2Gj_EhefJ"
      },
      "source": [
        "## Decision Trees"
      ]
    },
    {
      "cell_type": "code",
      "execution_count": 12,
      "metadata": {
        "colab": {
          "base_uri": "https://localhost:8080/",
          "height": 555
        },
        "id": "6ztaskLdhefJ",
        "outputId": "6a73a290-8983-4822-ed92-4bf120942ecf"
      },
      "outputs": [
        {
          "name": "stdout",
          "output_type": "stream",
          "text": [
            "                    Train Evaluation                                       Test Evaluation                   \n",
            "              precision    recall  f1-score   support                precision    recall  f1-score   support \n",
            "                                                                                                             \n",
            "           0       1.00      1.00      1.00    226132             0       0.93      0.92      0.92     56554 \n",
            "           1       1.00      1.00      1.00     19876             1       0.16      0.17      0.16      4949 \n",
            "                                                                                                             \n",
            "    accuracy                           1.00    246008      accuracy                           0.86     61503 \n",
            "   macro avg       1.00      1.00      1.00    246008     macro avg       0.54      0.54      0.54     61503 \n",
            "weighted avg       1.00      1.00      1.00    246008  weighted avg       0.86      0.86      0.86     61503 \n"
          ]
        },
        {
          "data": {
            "image/png": "[encoded data removed]",
            "text/plain": [
              "<Figure size 800x400 with 4 Axes>"
            ]
          },
          "metadata": {},
          "output_type": "display_data"
        }
      ],
      "source": [
        "dt = DecisionTreeClassifier(random_state=42, class_weight=\"balanced\").fit(X_train, y_train)\n",
        "\n",
        "dt_results = eval_classification(dt, X_train, y_train, X_test, y_test,\n",
        "                                  model_name=\"Decision Tree\", results_frame=logreg_cv_results)"
      ]
    },
    {
      "cell_type": "code",
      "execution_count": 13,
      "metadata": {
        "colab": {
          "base_uri": "https://localhost:8080/"
        },
        "id": "gGXXilYqq-lX",
        "outputId": "1a64287d-3db4-4e84-83b7-5f8d1cb4298b"
      },
      "outputs": [
        {
          "data": {
            "text/plain": [
              "80"
            ]
          },
          "execution_count": 13,
          "metadata": {},
          "output_type": "execute_result"
        }
      ],
      "source": [
        "dt.get_depth()"
      ]
    },
    {
      "cell_type": "code",
      "execution_count": 14,
      "metadata": {},
      "outputs": [
        {
          "data": {
            "text/plain": [
              "{'ccp_alpha': 0.0,\n",
              " 'class_weight': 'balanced',\n",
              " 'criterion': 'gini',\n",
              " 'max_depth': None,\n",
              " 'max_features': None,\n",
              " 'max_leaf_nodes': None,\n",
              " 'min_impurity_decrease': 0.0,\n",
              " 'min_samples_leaf': 1,\n",
              " 'min_samples_split': 2,\n",
              " 'min_weight_fraction_leaf': 0.0,\n",
              " 'monotonic_cst': None,\n",
              " 'random_state': 42,\n",
              " 'splitter': 'best'}"
            ]
          },
          "execution_count": 14,
          "metadata": {},
          "output_type": "execute_result"
        }
      ],
      "source": [
        "dt.get_params()"
      ]
    },
    {
      "cell_type": "code",
      "execution_count": 15,
      "metadata": {
        "colab": {
          "base_uri": "https://localhost:8080/",
          "height": 551
        },
        "id": "v9c1wyQ8hefJ",
        "outputId": "f97c64b9-c300-4209-c743-d6bd8a9fce25"
      },
      "outputs": [
        {
          "name": "stdout",
          "output_type": "stream",
          "text": [
            "                    Train Evaluation                                       Test Evaluation                   \n",
            "              precision    recall  f1-score   support                precision    recall  f1-score   support \n",
            "                                                                                                             \n",
            "           0       0.96      0.69      0.80    226132             0       0.96      0.68      0.80     56554 \n",
            "           1       0.16      0.67      0.26     19876             1       0.15      0.64      0.24      4949 \n",
            "                                                                                                             \n",
            "    accuracy                           0.69    246008      accuracy                           0.68     61503 \n",
            "   macro avg       0.56      0.68      0.53    246008     macro avg       0.55      0.66      0.52     61503 \n",
            "weighted avg       0.90      0.69      0.76    246008  weighted avg       0.89      0.68      0.75     61503 \n"
          ]
        },
        {
          "data": {
            "image/png": "[encoded data removed]",
            "text/plain": [
              "<Figure size 800x400 with 4 Axes>"
            ]
          },
          "metadata": {},
          "output_type": "display_data"
        }
      ],
      "source": [
        "dt_params = {'max_depth' : [2, 4, 5, 8, 10, 16, 20, 40, 80]}\n",
        "dt_gs = GridSearchCV(dt, dt_params, scoring=\"roc_auc\", n_jobs=-1)\n",
        "dt_gs.fit(X_train, y_train)\n",
        "dt_cv = dt_gs.best_estimator_.fit(X_train, y_train)\n",
        "\n",
        "dt_cv_results = eval_classification(dt_cv, X_train, y_train, X_test, y_test,\n",
        "                                  model_name=\"Decision Tree CV\", results_frame=dt_results)"
      ]
    },
    {
      "cell_type": "code",
      "execution_count": 16,
      "metadata": {},
      "outputs": [
        {
          "data": {
            "text/plain": [
              "{'ccp_alpha': 0.0,\n",
              " 'class_weight': 'balanced',\n",
              " 'criterion': 'gini',\n",
              " 'max_depth': 8,\n",
              " 'max_features': None,\n",
              " 'max_leaf_nodes': None,\n",
              " 'min_impurity_decrease': 0.0,\n",
              " 'min_samples_leaf': 1,\n",
              " 'min_samples_split': 2,\n",
              " 'min_weight_fraction_leaf': 0.0,\n",
              " 'monotonic_cst': None,\n",
              " 'random_state': 42,\n",
              " 'splitter': 'best'}"
            ]
          },
          "execution_count": 16,
          "metadata": {},
          "output_type": "execute_result"
        }
      ],
      "source": [
        "dt_cv.get_params()"
      ]
    },
    {
      "cell_type": "code",
      "execution_count": 17,
      "metadata": {},
      "outputs": [
        {
          "data": {
            "text/html": [
              "<div>\n",
              "<style scoped>\n",
              "    .dataframe tbody tr th:only-of-type {\n",
              "        vertical-align: middle;\n",
              "    }\n",
              "\n",
              "    .dataframe tbody tr th {\n",
              "        vertical-align: top;\n",
              "    }\n",
              "\n",
              "    .dataframe thead th {\n",
              "        text-align: right;\n",
              "    }\n",
              "</style>\n",
              "<table border=\"1\" class=\"dataframe\">\n",
              "  <thead>\n",
              "    <tr style=\"text-align: right;\">\n",
              "      <th></th>\n",
              "      <th>train_acc</th>\n",
              "      <th>test_acc</th>\n",
              "      <th>train_prec</th>\n",
              "      <th>test_prec</th>\n",
              "      <th>train_recall</th>\n",
              "      <th>test_recall</th>\n",
              "      <th>train_f1</th>\n",
              "      <th>test_f1</th>\n",
              "      <th>train_auc</th>\n",
              "      <th>test_auc</th>\n",
              "    </tr>\n",
              "  </thead>\n",
              "  <tbody>\n",
              "    <tr>\n",
              "      <th>Logistic Regression</th>\n",
              "      <td>0.688201</td>\n",
              "      <td>0.685284</td>\n",
              "      <td>0.160394</td>\n",
              "      <td>0.157677</td>\n",
              "      <td>0.675186</td>\n",
              "      <td>0.670438</td>\n",
              "      <td>0.259211</td>\n",
              "      <td>0.255309</td>\n",
              "      <td>0.745930</td>\n",
              "      <td>0.743762</td>\n",
              "    </tr>\n",
              "    <tr>\n",
              "      <th>Logistic Regression CV</th>\n",
              "      <td>0.688100</td>\n",
              "      <td>0.685316</td>\n",
              "      <td>0.160257</td>\n",
              "      <td>0.157692</td>\n",
              "      <td>0.674633</td>\n",
              "      <td>0.670438</td>\n",
              "      <td>0.258991</td>\n",
              "      <td>0.255329</td>\n",
              "      <td>0.745894</td>\n",
              "      <td>0.743784</td>\n",
              "    </tr>\n",
              "    <tr>\n",
              "      <th>Decision Tree</th>\n",
              "      <td>1.000000</td>\n",
              "      <td>0.859633</td>\n",
              "      <td>1.000000</td>\n",
              "      <td>0.156215</td>\n",
              "      <td>1.000000</td>\n",
              "      <td>0.169125</td>\n",
              "      <td>1.000000</td>\n",
              "      <td>0.162414</td>\n",
              "      <td>1.000000</td>\n",
              "      <td>0.544592</td>\n",
              "    </tr>\n",
              "    <tr>\n",
              "      <th>Decision Tree CV</th>\n",
              "      <td>0.688075</td>\n",
              "      <td>0.680910</td>\n",
              "      <td>0.159953</td>\n",
              "      <td>0.150405</td>\n",
              "      <td>0.672821</td>\n",
              "      <td>0.637907</td>\n",
              "      <td>0.258460</td>\n",
              "      <td>0.243417</td>\n",
              "      <td>0.744455</td>\n",
              "      <td>0.712928</td>\n",
              "    </tr>\n",
              "  </tbody>\n",
              "</table>\n",
              "</div>"
            ],
            "text/plain": [
              "                        train_acc  test_acc  train_prec  test_prec  \\\n",
              "Logistic Regression      0.688201  0.685284    0.160394   0.157677   \n",
              "Logistic Regression CV   0.688100  0.685316    0.160257   0.157692   \n",
              "Decision Tree            1.000000  0.859633    1.000000   0.156215   \n",
              "Decision Tree CV         0.688075  0.680910    0.159953   0.150405   \n",
              "\n",
              "                        train_recall  test_recall  train_f1   test_f1  \\\n",
              "Logistic Regression         0.675186     0.670438  0.259211  0.255309   \n",
              "Logistic Regression CV      0.674633     0.670438  0.258991  0.255329   \n",
              "Decision Tree               1.000000     0.169125  1.000000  0.162414   \n",
              "Decision Tree CV            0.672821     0.637907  0.258460  0.243417   \n",
              "\n",
              "                        train_auc  test_auc  \n",
              "Logistic Regression      0.745930  0.743762  \n",
              "Logistic Regression CV   0.745894  0.743784  \n",
              "Decision Tree            1.000000  0.544592  \n",
              "Decision Tree CV         0.744455  0.712928  "
            ]
          },
          "execution_count": 17,
          "metadata": {},
          "output_type": "execute_result"
        }
      ],
      "source": [
        "dt_cv_results"
      ]
    },
    {
      "cell_type": "code",
      "execution_count": 18,
      "metadata": {},
      "outputs": [
        {
          "name": "stdout",
          "output_type": "stream",
          "text": [
            "                    Train Evaluation                                       Test Evaluation                   \n",
            "              precision    recall  f1-score   support                precision    recall  f1-score   support \n",
            "                                                                                                             \n",
            "           0       0.96      0.69      0.80    226132             0       0.96      0.68      0.80     56554 \n",
            "           1       0.16      0.67      0.26     19876             1       0.15      0.64      0.24      4949 \n",
            "                                                                                                             \n",
            "    accuracy                           0.69    246008      accuracy                           0.68     61503 \n",
            "   macro avg       0.56      0.68      0.53    246008     macro avg       0.55      0.66      0.52     61503 \n",
            "weighted avg       0.90      0.69      0.76    246008  weighted avg       0.89      0.68      0.75     61503 \n"
          ]
        },
        {
          "data": {
            "image/png": "[encoded data removed]",
            "text/plain": [
              "<Figure size 800x400 with 4 Axes>"
            ]
          },
          "metadata": {},
          "output_type": "display_data"
        }
      ],
      "source": [
        "bdt = AdaBoostClassifier(dt_cv, random_state=42).fit(X_train, y_train)\n",
        "\n",
        "bdt_results = eval_classification(bdt, X_train, y_train, X_test, y_test,\n",
        "                                  model_name=\"AdaBoosted Decision Tree\", results_frame=dt_cv_results)"
      ]
    },
    {
      "cell_type": "code",
      "execution_count": 19,
      "metadata": {},
      "outputs": [
        {
          "data": {
            "text/html": [
              "<div>\n",
              "<style scoped>\n",
              "    .dataframe tbody tr th:only-of-type {\n",
              "        vertical-align: middle;\n",
              "    }\n",
              "\n",
              "    .dataframe tbody tr th {\n",
              "        vertical-align: top;\n",
              "    }\n",
              "\n",
              "    .dataframe thead th {\n",
              "        text-align: right;\n",
              "    }\n",
              "</style>\n",
              "<table border=\"1\" class=\"dataframe\">\n",
              "  <thead>\n",
              "    <tr style=\"text-align: right;\">\n",
              "      <th></th>\n",
              "      <th>train_acc</th>\n",
              "      <th>test_acc</th>\n",
              "      <th>train_prec</th>\n",
              "      <th>test_prec</th>\n",
              "      <th>train_recall</th>\n",
              "      <th>test_recall</th>\n",
              "      <th>train_f1</th>\n",
              "      <th>test_f1</th>\n",
              "      <th>train_auc</th>\n",
              "      <th>test_auc</th>\n",
              "    </tr>\n",
              "  </thead>\n",
              "  <tbody>\n",
              "    <tr>\n",
              "      <th>Logistic Regression</th>\n",
              "      <td>0.688201</td>\n",
              "      <td>0.685284</td>\n",
              "      <td>0.160394</td>\n",
              "      <td>0.157677</td>\n",
              "      <td>0.675186</td>\n",
              "      <td>0.670438</td>\n",
              "      <td>0.259211</td>\n",
              "      <td>0.255309</td>\n",
              "      <td>0.745930</td>\n",
              "      <td>0.743762</td>\n",
              "    </tr>\n",
              "    <tr>\n",
              "      <th>Logistic Regression CV</th>\n",
              "      <td>0.688100</td>\n",
              "      <td>0.685316</td>\n",
              "      <td>0.160257</td>\n",
              "      <td>0.157692</td>\n",
              "      <td>0.674633</td>\n",
              "      <td>0.670438</td>\n",
              "      <td>0.258991</td>\n",
              "      <td>0.255329</td>\n",
              "      <td>0.745894</td>\n",
              "      <td>0.743784</td>\n",
              "    </tr>\n",
              "    <tr>\n",
              "      <th>Decision Tree</th>\n",
              "      <td>1.000000</td>\n",
              "      <td>0.859633</td>\n",
              "      <td>1.000000</td>\n",
              "      <td>0.156215</td>\n",
              "      <td>1.000000</td>\n",
              "      <td>0.169125</td>\n",
              "      <td>1.000000</td>\n",
              "      <td>0.162414</td>\n",
              "      <td>1.000000</td>\n",
              "      <td>0.544592</td>\n",
              "    </tr>\n",
              "    <tr>\n",
              "      <th>Decision Tree CV</th>\n",
              "      <td>0.688075</td>\n",
              "      <td>0.680910</td>\n",
              "      <td>0.159953</td>\n",
              "      <td>0.150405</td>\n",
              "      <td>0.672821</td>\n",
              "      <td>0.637907</td>\n",
              "      <td>0.258460</td>\n",
              "      <td>0.243417</td>\n",
              "      <td>0.744455</td>\n",
              "      <td>0.712928</td>\n",
              "    </tr>\n",
              "    <tr>\n",
              "      <th>AdaBoosted Decision Tree</th>\n",
              "      <td>0.688087</td>\n",
              "      <td>0.680812</td>\n",
              "      <td>0.159958</td>\n",
              "      <td>0.150295</td>\n",
              "      <td>0.672821</td>\n",
              "      <td>0.637503</td>\n",
              "      <td>0.258468</td>\n",
              "      <td>0.243244</td>\n",
              "      <td>0.750121</td>\n",
              "      <td>0.716780</td>\n",
              "    </tr>\n",
              "  </tbody>\n",
              "</table>\n",
              "</div>"
            ],
            "text/plain": [
              "                          train_acc  test_acc  train_prec  test_prec  \\\n",
              "Logistic Regression        0.688201  0.685284    0.160394   0.157677   \n",
              "Logistic Regression CV     0.688100  0.685316    0.160257   0.157692   \n",
              "Decision Tree              1.000000  0.859633    1.000000   0.156215   \n",
              "Decision Tree CV           0.688075  0.680910    0.159953   0.150405   \n",
              "AdaBoosted Decision Tree   0.688087  0.680812    0.159958   0.150295   \n",
              "\n",
              "                          train_recall  test_recall  train_f1   test_f1  \\\n",
              "Logistic Regression           0.675186     0.670438  0.259211  0.255309   \n",
              "Logistic Regression CV        0.674633     0.670438  0.258991  0.255329   \n",
              "Decision Tree                 1.000000     0.169125  1.000000  0.162414   \n",
              "Decision Tree CV              0.672821     0.637907  0.258460  0.243417   \n",
              "AdaBoosted Decision Tree      0.672821     0.637503  0.258468  0.243244   \n",
              "\n",
              "                          train_auc  test_auc  \n",
              "Logistic Regression        0.745930  0.743762  \n",
              "Logistic Regression CV     0.745894  0.743784  \n",
              "Decision Tree              1.000000  0.544592  \n",
              "Decision Tree CV           0.744455  0.712928  \n",
              "AdaBoosted Decision Tree   0.750121  0.716780  "
            ]
          },
          "execution_count": 19,
          "metadata": {},
          "output_type": "execute_result"
        }
      ],
      "source": [
        "bdt_results"
      ]
    },
    {
      "cell_type": "markdown",
      "metadata": {
        "id": "qEbrXSQghefK"
      },
      "source": [
        "## Random Forests"
      ]
    },
    {
      "cell_type": "code",
      "execution_count": 20,
      "metadata": {
        "colab": {
          "base_uri": "https://localhost:8080/",
          "height": 555
        },
        "id": "nH9a76KzhefK",
        "outputId": "9b309843-cb64-4ea0-eb6d-a35b4eb732a9"
      },
      "outputs": [
        {
          "name": "stdout",
          "output_type": "stream",
          "text": [
            "                    Train Evaluation                                       Test Evaluation                   \n",
            "              precision    recall  f1-score   support                precision    recall  f1-score   support \n",
            "                                                                                                             \n",
            "           0       1.00      1.00      1.00    226132             0       0.92      1.00      0.96     56554 \n",
            "           1       1.00      1.00      1.00     19876             1       0.58      0.00      0.01      4949 \n",
            "                                                                                                             \n",
            "    accuracy                           1.00    246008      accuracy                           0.92     61503 \n",
            "   macro avg       1.00      1.00      1.00    246008     macro avg       0.75      0.50      0.48     61503 \n",
            "weighted avg       1.00      1.00      1.00    246008  weighted avg       0.89      0.92      0.88     61503 \n"
          ]
        },
        {
          "data": {
            "image/png": "[encoded data removed]",
            "text/plain": [
              "<Figure size 800x400 with 4 Axes>"
            ]
          },
          "metadata": {},
          "output_type": "display_data"
        }
      ],
      "source": [
        "rf = RandomForestClassifier(random_state=42, n_jobs=-1, class_weight=\"balanced_subsample\").fit(X_train, y_train)\n",
        "\n",
        "rf_results = eval_classification(rf, X_train, y_train, X_test, y_test,\n",
        "                                  model_name=\"Random Forest\", results_frame=bdt_results)"
      ]
    },
    {
      "cell_type": "code",
      "execution_count": 21,
      "metadata": {},
      "outputs": [
        {
          "data": {
            "text/plain": [
              "82"
            ]
          },
          "execution_count": 21,
          "metadata": {},
          "output_type": "execute_result"
        }
      ],
      "source": [
        "estimators = rf.estimators_\n",
        "depths = [est.get_depth() for est in estimators]\n",
        "max(depths)"
      ]
    },
    {
      "cell_type": "code",
      "execution_count": 22,
      "metadata": {
        "colab": {
          "base_uri": "https://localhost:8080/",
          "height": 341
        },
        "id": "5G92gvOshefK",
        "outputId": "8cd8e86c-4965-498d-f9ec-75a46a4901fc"
      },
      "outputs": [
        {
          "name": "stderr",
          "output_type": "stream",
          "text": [
            "/usr/local/lib/python3.10/dist-packages/joblib/externals/loky/process_executor.py:752: UserWarning: A worker stopped while some jobs were given to the executor. This can be caused by a too short worker timeout or by a memory leak.\n",
            "  warnings.warn(\n"
          ]
        },
        {
          "name": "stdout",
          "output_type": "stream",
          "text": [
            "                    Train Evaluation                                       Test Evaluation                   \n",
            "              precision    recall  f1-score   support                precision    recall  f1-score   support \n",
            "                                                                                                             \n",
            "           0       0.96      0.72      0.83    226132             0       0.96      0.72      0.82     56554 \n",
            "           1       0.18      0.68      0.28     19876             1       0.17      0.64      0.26      4949 \n",
            "                                                                                                             \n",
            "    accuracy                           0.72    246008      accuracy                           0.71     61503 \n",
            "   macro avg       0.57      0.70      0.55    246008     macro avg       0.56      0.68      0.54     61503 \n",
            "weighted avg       0.90      0.72      0.78    246008  weighted avg       0.89      0.71      0.78     61503 \n"
          ]
        },
        {
          "data": {
            "image/png": "[encoded data removed]",
            "text/plain": [
              "<Figure size 800x400 with 4 Axes>"
            ]
          },
          "metadata": {},
          "output_type": "display_data"
        }
      ],
      "source": [
        "rf_params = {\"n_estimators\" : [20, 40, 60, 80],\n",
        "             \"max_depth\" : [2, 3, 8, 82, 83]}\n",
        "rf_gs = GridSearchCV(rf, rf_params, scoring=\"roc_auc\", n_jobs=-1)\n",
        "rf_gs.fit(X_train, y_train)\n",
        "rf_cv = rf_gs.best_estimator_.fit(X_train, y_train)\n",
        "\n",
        "rf_cv_results = eval_classification(rf_cv, X_train, y_train, X_test, y_test,\n",
        "                                  model_name=\"Random Forest CV\", results_frame=rf_results)"
      ]
    },
    {
      "cell_type": "code",
      "execution_count": 23,
      "metadata": {},
      "outputs": [
        {
          "data": {
            "text/plain": [
              "{'bootstrap': True,\n",
              " 'ccp_alpha': 0.0,\n",
              " 'class_weight': 'balanced_subsample',\n",
              " 'criterion': 'gini',\n",
              " 'max_depth': 8,\n",
              " 'max_features': 'sqrt',\n",
              " 'max_leaf_nodes': None,\n",
              " 'max_samples': None,\n",
              " 'min_impurity_decrease': 0.0,\n",
              " 'min_samples_leaf': 1,\n",
              " 'min_samples_split': 2,\n",
              " 'min_weight_fraction_leaf': 0.0,\n",
              " 'monotonic_cst': None,\n",
              " 'n_estimators': 80,\n",
              " 'n_jobs': -1,\n",
              " 'oob_score': False,\n",
              " 'random_state': 42,\n",
              " 'verbose': 0,\n",
              " 'warm_start': False}"
            ]
          },
          "execution_count": 23,
          "metadata": {},
          "output_type": "execute_result"
        }
      ],
      "source": [
        "rf_cv.get_params()"
      ]
    },
    {
      "cell_type": "code",
      "execution_count": 34,
      "metadata": {},
      "outputs": [
        {
          "name": "stdout",
          "output_type": "stream",
          "text": [
            "/kaggle/input/github-import/.gitignore\n",
            "/kaggle/input/github-import/README.md\n",
            "/kaggle/input/github-import/home-credit-default-risk.code-workspace\n",
            "/kaggle/input/github-import/kaggle/src/eval_regression.py\n",
            "/kaggle/input/github-import/kaggle/src/eval_classification.py\n",
            "/kaggle/input/github-import/kaggle/src/__init__.py\n",
            "/kaggle/input/github-import/kaggle/working/ZZ_scratch.ipynb\n",
            "/kaggle/input/github-import/kaggle/working/02_Modelling - stack split.ipynb\n",
            "/kaggle/input/github-import/kaggle/working/HomeCredit_columns_description.ipynb\n",
            "/kaggle/input/github-import/kaggle/working/ZZ_EDA.ipynb\n",
            "/kaggle/input/github-import/kaggle/working/00b_Exploratory_Data_Analysis_balances_and_payments.ipynb\n",
            "/kaggle/input/github-import/kaggle/working/03_Resampling.ipynb\n",
            "/kaggle/input/github-import/kaggle/working/01_Data_Processing.ipynb\n",
            "/kaggle/input/github-import/kaggle/working/00_Exploratory_Data_Analysis_application_train.ipynb\n",
            "/kaggle/input/github-import/kaggle/working/00a_Exploratory_Data_Analysis_bureaus.ipynb\n",
            "/kaggle/input/github-import/kaggle/working/02_Modelling.ipynb\n",
            "/kaggle/input/github-import/kaggle/working/submissions/02_bdt.csv\n",
            "/kaggle/input/github-import/kaggle/working/submissions/00b_six_neighbors.csv\n",
            "/kaggle/input/github-import/kaggle/working/submissions/02_stack_reset_to_10.csv\n",
            "/kaggle/input/github-import/kaggle/working/submissions/02_dtcv.csv\n",
            "/kaggle/input/github-import/kaggle/working/submissions/02_log_reg_CV.csv\n",
            "/kaggle/input/github-import/kaggle/working/submissions/02_post_non_co.csv\n",
            "/kaggle/input/github-import/kaggle/working/submissions/00e_six_neighbors.csv\n",
            "/kaggle/input/github-import/kaggle/working/submissions/02_stack_calib.csv\n",
            "/kaggle/input/github-import/kaggle/working/submissions/01_more_data_plus_process.csv\n",
            "/kaggle/input/github-import/kaggle/working/submissions/02_rfcv.csv\n",
            "/kaggle/input/github-import/kaggle/working/submissions/00d_merge_and_strip.csv\n",
            "/kaggle/input/github-import/kaggle/working/submissions/02_hgb_3_2.csv\n",
            "/kaggle/input/github-import/kaggle/working/submissions/02_no_forest.csv\n",
            "/kaggle/input/github-import/kaggle/working/submissions/02_stack_only.csv\n",
            "/kaggle/input/github-import/kaggle/working/submissions/00f_more_merges.csv\n",
            "/kaggle/input/github-import/kaggle/working/submissions/02_new_stack.csv\n",
            "/kaggle/input/github-import/kaggle/working/submissions/02_reset.csv\n",
            "/kaggle/input/github-import/kaggle/working/submissions/02_w_lsvc.csv\n",
            "/kaggle/input/github-import/kaggle/working/submissions/02_stack_preliminary.csv\n",
            "/kaggle/input/github-import/kaggle/working/submissions/02_hgb3.csv\n",
            "/kaggle/input/github-import/kaggle/working/submissions/02_no_gnb.csv\n",
            "/kaggle/input/github-import/kaggle/working/submissions/02_lrcv.csv\n",
            "/kaggle/input/github-import/kaggle/working/submissions/02_w_xgbrf.csv\n",
            "/kaggle/input/github-import/kaggle/working/submissions/02_hgb.csv\n",
            "/kaggle/input/github-import/kaggle/working/submissions/00c_class_1.csv\n",
            "/kaggle/input/github-import/kaggle/working/submissions/00a_quick_submission.csv\n",
            "/kaggle/input/github-import/kaggle/working/submissions/02_stack_only_no_gnb.csv\n",
            "/kaggle/input/telcom-customer-churn/Telco-Customer-Churn.csv\n",
            "/kaggle/input/jb-link-telco-customer-churn/telco_churn_data.csv\n",
            "/kaggle/input/churn-telco-europa/test_churn_kg.csv\n",
            "/kaggle/input/churn-telco-europa/train_churn_kg.csv\n",
            "/kaggle/input/preprocessor/data_processing.joblib\n",
            "/kaggle/input/telco-customer-churn/WA_Fn-UseC_-Telco-Customer-Churn.csv\n"
          ]
        }
      ],
      "source": [
        "import os\n",
        "for dirname, _, filenames in os.walk('/kaggle/input'):\n",
        "    for filename in filenames:\n",
        "        print(os.path.join(dirname, filename))\n",
        "\n",
        "# You can write up to 20GB to the current directory (/kaggle/working/) that gets preserved as output when you create a version using \"Save & Run All\" \n",
        "# You can also write temporary files to /kaggle/temp/, but they won't be saved outside of the current session"
      ]
    },
    {
      "cell_type": "code",
      "execution_count": 41,
      "metadata": {},
      "outputs": [
        {
          "name": "stdout",
          "output_type": "stream",
          "text": [
            "/bin/bash: line 1: docker: command not found\n"
          ]
        }
      ],
      "source": [
        "!docker run -it --rm condaforge/miniforge3:latest mamba info"
      ]
    },
    {
      "cell_type": "code",
      "execution_count": 37,
      "metadata": {},
      "outputs": [
        {
          "name": "stdout",
          "output_type": "stream",
          "text": [
            "Requirement already satisfied: mamba in /usr/local/lib/python3.10/dist-packages (0.11.3)\n",
            "Requirement already satisfied: clint in /usr/local/lib/python3.10/dist-packages (from mamba) (0.5.1)\n",
            "Requirement already satisfied: coverage in /usr/local/lib/python3.10/dist-packages (from mamba) (7.6.12)\n",
            "Requirement already satisfied: args in /usr/local/lib/python3.10/dist-packages (from clint->mamba) (0.1.0)\n",
            "Note: you may need to restart the kernel to use updated packages.\n"
          ]
        }
      ],
      "source": [
        "pip install mamba"
      ]
    },
    {
      "cell_type": "code",
      "execution_count": 42,
      "metadata": {},
      "outputs": [
        {
          "name": "stdout",
          "output_type": "stream",
          "text": [
            "/usr/local/lib/python3.10/dist-packages/clint/textui/prompt.py:68: SyntaxWarning: \"is not\" with a literal. Did you mean \"!=\"?\n",
            "  if prompt[-1] is not ' ':\n",
            "\n",
            "\n",
            "\u001b[32m\u001b[22m0 examples ran in 0.0000 seconds\u001b[39m\u001b[22m\n"
          ]
        }
      ],
      "source": [
        "!mamba activate"
      ]
    },
    {
      "cell_type": "code",
      "execution_count": 50,
      "metadata": {},
      "outputs": [],
      "source": [
        "import mamba"
      ]
    },
    {
      "cell_type": "code",
      "execution_count": 53,
      "metadata": {},
      "outputs": [
        {
          "ename": "SyntaxError",
          "evalue": "invalid syntax (<ipython-input-53-4fb8873c6448>, line 1)",
          "output_type": "error",
          "traceback": [
            "\u001b[0;36m  File \u001b[0;32m\"<ipython-input-53-4fb8873c6448>\"\u001b[0;36m, line \u001b[0;32m1\u001b[0m\n\u001b[0;31m    mamba init\u001b[0m\n\u001b[0m          ^\u001b[0m\n\u001b[0;31mSyntaxError\u001b[0m\u001b[0;31m:\u001b[0m invalid syntax\n"
          ]
        }
      ],
      "source": [
        "mamba init"
      ]
    },
    {
      "cell_type": "code",
      "execution_count": 54,
      "metadata": {},
      "outputs": [
        {
          "ename": "NameError",
          "evalue": "name 'version' is not defined",
          "output_type": "error",
          "traceback": [
            "\u001b[0;31m---------------------------------------------------------------------------\u001b[0m",
            "\u001b[0;31mNameError\u001b[0m                                 Traceback (most recent call last)",
            "\u001b[0;32m<ipython-input-54-033ed737aad0>\u001b[0m in \u001b[0;36m<cell line: 1>\u001b[0;34m()\u001b[0m\n\u001b[0;32m----> 1\u001b[0;31m \u001b[0mmamba\u001b[0m \u001b[0;34m-\u001b[0m\u001b[0;34m-\u001b[0m\u001b[0mversion\u001b[0m\u001b[0;34m\u001b[0m\u001b[0;34m\u001b[0m\u001b[0m\n\u001b[0m",
            "\u001b[0;31mNameError\u001b[0m: name 'version' is not defined"
          ]
        }
      ],
      "source": [
        "mamba --version\n"
      ]
    },
    {
      "cell_type": "code",
      "execution_count": 47,
      "metadata": {},
      "outputs": [
        {
          "ename": "SyntaxError",
          "evalue": "invalid syntax (<ipython-input-47-1ce895fa8f8f>, line 1)",
          "output_type": "error",
          "traceback": [
            "\u001b[0;36m  File \u001b[0;32m\"<ipython-input-47-1ce895fa8f8f>\"\u001b[0;36m, line \u001b[0;32m1\u001b[0m\n\u001b[0;31m    mamba create --name your_env_name python=3.10\u001b[0m\n\u001b[0m          ^\u001b[0m\n\u001b[0;31mSyntaxError\u001b[0m\u001b[0;31m:\u001b[0m invalid syntax\n"
          ]
        }
      ],
      "source": [
        "mamba create --name your_env_name python=3.10\n",
        "source activate your_env_name"
      ]
    },
    {
      "cell_type": "markdown",
      "metadata": {
        "id": "DADNk09UhefL"
      },
      "source": [
        "## Gradient Boosting Models"
      ]
    },
    {
      "cell_type": "code",
      "execution_count": 24,
      "metadata": {
        "colab": {
          "base_uri": "https://localhost:8080/",
          "height": 551
        },
        "id": "mGSbWjtNhefL",
        "outputId": "ed03a192-bf30-46fb-f6c6-3505de43c040"
      },
      "outputs": [
        {
          "name": "stdout",
          "output_type": "stream",
          "text": [
            "                    Train Evaluation                                       Test Evaluation                   \n",
            "              precision    recall  f1-score   support                precision    recall  f1-score   support \n",
            "                                                                                                             \n",
            "           0       0.97      0.72      0.83    226132             0       0.96      0.71      0.82     56554 \n",
            "           1       0.19      0.74      0.30     19876             1       0.17      0.69      0.28      4949 \n",
            "                                                                                                             \n",
            "    accuracy                           0.72    246008      accuracy                           0.71     61503 \n",
            "   macro avg       0.58      0.73      0.56    246008     macro avg       0.57      0.70      0.55     61503 \n",
            "weighted avg       0.91      0.72      0.79    246008  weighted avg       0.90      0.71      0.78     61503 \n"
          ]
        },
        {
          "data": {
            "image/png": "[encoded data removed]",
            "text/plain": [
              "<Figure size 800x400 with 4 Axes>"
            ]
          },
          "metadata": {},
          "output_type": "display_data"
        }
      ],
      "source": [
        "hgb = HistGradientBoostingClassifier(scoring=\"roc_auc\", random_state=42, class_weight=\"balanced\").fit(X_train, y_train)\n",
        "\n",
        "hgb_results = eval_classification(hgb, X_train, y_train, X_test, y_test,\n",
        "                                  model_name=\"Histogram-based Gradient Boosting Tree\", results_frame=rf_cv_results)"
      ]
    },
    {
      "cell_type": "code",
      "execution_count": 25,
      "metadata": {},
      "outputs": [
        {
          "data": {
            "text/html": [
              "<div>\n",
              "<style scoped>\n",
              "    .dataframe tbody tr th:only-of-type {\n",
              "        vertical-align: middle;\n",
              "    }\n",
              "\n",
              "    .dataframe tbody tr th {\n",
              "        vertical-align: top;\n",
              "    }\n",
              "\n",
              "    .dataframe thead th {\n",
              "        text-align: right;\n",
              "    }\n",
              "</style>\n",
              "<table border=\"1\" class=\"dataframe\">\n",
              "  <thead>\n",
              "    <tr style=\"text-align: right;\">\n",
              "      <th></th>\n",
              "      <th>train_acc</th>\n",
              "      <th>test_acc</th>\n",
              "      <th>train_prec</th>\n",
              "      <th>test_prec</th>\n",
              "      <th>train_recall</th>\n",
              "      <th>test_recall</th>\n",
              "      <th>train_f1</th>\n",
              "      <th>test_f1</th>\n",
              "      <th>train_auc</th>\n",
              "      <th>test_auc</th>\n",
              "    </tr>\n",
              "  </thead>\n",
              "  <tbody>\n",
              "    <tr>\n",
              "      <th>Logistic Regression</th>\n",
              "      <td>0.688201</td>\n",
              "      <td>0.685284</td>\n",
              "      <td>0.160394</td>\n",
              "      <td>0.157677</td>\n",
              "      <td>0.675186</td>\n",
              "      <td>0.670438</td>\n",
              "      <td>0.259211</td>\n",
              "      <td>0.255309</td>\n",
              "      <td>0.745930</td>\n",
              "      <td>0.743762</td>\n",
              "    </tr>\n",
              "    <tr>\n",
              "      <th>Logistic Regression CV</th>\n",
              "      <td>0.688100</td>\n",
              "      <td>0.685316</td>\n",
              "      <td>0.160257</td>\n",
              "      <td>0.157692</td>\n",
              "      <td>0.674633</td>\n",
              "      <td>0.670438</td>\n",
              "      <td>0.258991</td>\n",
              "      <td>0.255329</td>\n",
              "      <td>0.745894</td>\n",
              "      <td>0.743784</td>\n",
              "    </tr>\n",
              "    <tr>\n",
              "      <th>Decision Tree</th>\n",
              "      <td>1.000000</td>\n",
              "      <td>0.859633</td>\n",
              "      <td>1.000000</td>\n",
              "      <td>0.156215</td>\n",
              "      <td>1.000000</td>\n",
              "      <td>0.169125</td>\n",
              "      <td>1.000000</td>\n",
              "      <td>0.162414</td>\n",
              "      <td>1.000000</td>\n",
              "      <td>0.544592</td>\n",
              "    </tr>\n",
              "    <tr>\n",
              "      <th>Decision Tree CV</th>\n",
              "      <td>0.688075</td>\n",
              "      <td>0.680910</td>\n",
              "      <td>0.159953</td>\n",
              "      <td>0.150405</td>\n",
              "      <td>0.672821</td>\n",
              "      <td>0.637907</td>\n",
              "      <td>0.258460</td>\n",
              "      <td>0.243417</td>\n",
              "      <td>0.744455</td>\n",
              "      <td>0.712928</td>\n",
              "    </tr>\n",
              "    <tr>\n",
              "      <th>AdaBoosted Decision Tree</th>\n",
              "      <td>0.688087</td>\n",
              "      <td>0.680812</td>\n",
              "      <td>0.159958</td>\n",
              "      <td>0.150295</td>\n",
              "      <td>0.672821</td>\n",
              "      <td>0.637503</td>\n",
              "      <td>0.258468</td>\n",
              "      <td>0.243244</td>\n",
              "      <td>0.750121</td>\n",
              "      <td>0.716780</td>\n",
              "    </tr>\n",
              "    <tr>\n",
              "      <th>Random Forest</th>\n",
              "      <td>0.999976</td>\n",
              "      <td>0.919597</td>\n",
              "      <td>1.000000</td>\n",
              "      <td>0.583333</td>\n",
              "      <td>0.999698</td>\n",
              "      <td>0.002829</td>\n",
              "      <td>0.999849</td>\n",
              "      <td>0.005630</td>\n",
              "      <td>1.000000</td>\n",
              "      <td>0.735094</td>\n",
              "    </tr>\n",
              "    <tr>\n",
              "      <th>Random Forest CV</th>\n",
              "      <td>0.719302</td>\n",
              "      <td>0.711234</td>\n",
              "      <td>0.177597</td>\n",
              "      <td>0.166154</td>\n",
              "      <td>0.681475</td>\n",
              "      <td>0.644171</td>\n",
              "      <td>0.281765</td>\n",
              "      <td>0.264170</td>\n",
              "      <td>0.770335</td>\n",
              "      <td>0.743160</td>\n",
              "    </tr>\n",
              "    <tr>\n",
              "      <th>Histogram-based Gradient Boosting Tree</th>\n",
              "      <td>0.723598</td>\n",
              "      <td>0.711071</td>\n",
              "      <td>0.189000</td>\n",
              "      <td>0.172984</td>\n",
              "      <td>0.735661</td>\n",
              "      <td>0.685189</td>\n",
              "      <td>0.300737</td>\n",
              "      <td>0.276230</td>\n",
              "      <td>0.805845</td>\n",
              "      <td>0.769701</td>\n",
              "    </tr>\n",
              "  </tbody>\n",
              "</table>\n",
              "</div>"
            ],
            "text/plain": [
              "                                        train_acc  test_acc  train_prec  \\\n",
              "Logistic Regression                      0.688201  0.685284    0.160394   \n",
              "Logistic Regression CV                   0.688100  0.685316    0.160257   \n",
              "Decision Tree                            1.000000  0.859633    1.000000   \n",
              "Decision Tree CV                         0.688075  0.680910    0.159953   \n",
              "AdaBoosted Decision Tree                 0.688087  0.680812    0.159958   \n",
              "Random Forest                            0.999976  0.919597    1.000000   \n",
              "Random Forest CV                         0.719302  0.711234    0.177597   \n",
              "Histogram-based Gradient Boosting Tree   0.723598  0.711071    0.189000   \n",
              "\n",
              "                                        test_prec  train_recall  test_recall  \\\n",
              "Logistic Regression                      0.157677      0.675186     0.670438   \n",
              "Logistic Regression CV                   0.157692      0.674633     0.670438   \n",
              "Decision Tree                            0.156215      1.000000     0.169125   \n",
              "Decision Tree CV                         0.150405      0.672821     0.637907   \n",
              "AdaBoosted Decision Tree                 0.150295      0.672821     0.637503   \n",
              "Random Forest                            0.583333      0.999698     0.002829   \n",
              "Random Forest CV                         0.166154      0.681475     0.644171   \n",
              "Histogram-based Gradient Boosting Tree   0.172984      0.735661     0.685189   \n",
              "\n",
              "                                        train_f1   test_f1  train_auc  \\\n",
              "Logistic Regression                     0.259211  0.255309   0.745930   \n",
              "Logistic Regression CV                  0.258991  0.255329   0.745894   \n",
              "Decision Tree                           1.000000  0.162414   1.000000   \n",
              "Decision Tree CV                        0.258460  0.243417   0.744455   \n",
              "AdaBoosted Decision Tree                0.258468  0.243244   0.750121   \n",
              "Random Forest                           0.999849  0.005630   1.000000   \n",
              "Random Forest CV                        0.281765  0.264170   0.770335   \n",
              "Histogram-based Gradient Boosting Tree  0.300737  0.276230   0.805845   \n",
              "\n",
              "                                        test_auc  \n",
              "Logistic Regression                     0.743762  \n",
              "Logistic Regression CV                  0.743784  \n",
              "Decision Tree                           0.544592  \n",
              "Decision Tree CV                        0.712928  \n",
              "AdaBoosted Decision Tree                0.716780  \n",
              "Random Forest                           0.735094  \n",
              "Random Forest CV                        0.743160  \n",
              "Histogram-based Gradient Boosting Tree  0.769701  "
            ]
          },
          "execution_count": 25,
          "metadata": {},
          "output_type": "execute_result"
        }
      ],
      "source": [
        "hgb_results\n"
      ]
    },
    {
      "cell_type": "code",
      "execution_count": 26,
      "metadata": {},
      "outputs": [
        {
          "data": {
            "text/plain": [
              "{'categorical_features': 'from_dtype',\n",
              " 'class_weight': 'balanced',\n",
              " 'early_stopping': 'auto',\n",
              " 'interaction_cst': None,\n",
              " 'l2_regularization': 0.0,\n",
              " 'learning_rate': 0.1,\n",
              " 'loss': 'log_loss',\n",
              " 'max_bins': 255,\n",
              " 'max_depth': None,\n",
              " 'max_features': 1.0,\n",
              " 'max_iter': 100,\n",
              " 'max_leaf_nodes': 31,\n",
              " 'min_samples_leaf': 20,\n",
              " 'monotonic_cst': None,\n",
              " 'n_iter_no_change': 10,\n",
              " 'random_state': 42,\n",
              " 'scoring': 'roc_auc',\n",
              " 'tol': 1e-07,\n",
              " 'validation_fraction': 0.1,\n",
              " 'verbose': 0,\n",
              " 'warm_start': False}"
            ]
          },
          "execution_count": 26,
          "metadata": {},
          "output_type": "execute_result"
        }
      ],
      "source": [
        "hgb.get_params()"
      ]
    },
    {
      "cell_type": "code",
      "execution_count": 27,
      "metadata": {},
      "outputs": [
        {
          "data": {
            "text/plain": [
              "True"
            ]
          },
          "execution_count": 27,
          "metadata": {},
          "output_type": "execute_result"
        }
      ],
      "source": [
        "hgb.do_early_stopping_"
      ]
    },
    {
      "cell_type": "code",
      "execution_count": 28,
      "metadata": {},
      "outputs": [
        {
          "data": {
            "text/plain": [
              "100"
            ]
          },
          "execution_count": 28,
          "metadata": {},
          "output_type": "execute_result"
        }
      ],
      "source": [
        "hgb.n_iter_"
      ]
    },
    {
      "cell_type": "code",
      "execution_count": 29,
      "metadata": {},
      "outputs": [
        {
          "data": {
            "text/plain": [
              "1"
            ]
          },
          "execution_count": 29,
          "metadata": {},
          "output_type": "execute_result"
        }
      ],
      "source": [
        "hgb.n_trees_per_iteration_"
      ]
    },
    {
      "cell_type": "code",
      "execution_count": 30,
      "metadata": {},
      "outputs": [
        {
          "data": {
            "text/plain": [
              "array([0.5       , 0.71083154, 0.7166224 , 0.72094728, 0.72489517,\n",
              "       0.7280245 , 0.72897016, 0.73150539, 0.73237376, 0.73398016,\n",
              "       0.73669958, 0.73909156, 0.74043009, 0.74187594, 0.7432616 ,\n",
              "       0.74487339, 0.74598425, 0.74790094, 0.74929556, 0.7511118 ,\n",
              "       0.75332066, 0.75414278, 0.75554144, 0.75650998, 0.75784279,\n",
              "       0.75864997, 0.75953995, 0.76050634, 0.76185477, 0.76303706,\n",
              "       0.76400499, 0.76518055, 0.76558057, 0.76680082, 0.76769161,\n",
              "       0.76860852, 0.76946363, 0.77031106, 0.77111069, 0.7716191 ,\n",
              "       0.7719864 , 0.77220614, 0.77294465, 0.77325809, 0.77357167,\n",
              "       0.77420179, 0.77472595, 0.77520272, 0.7758319 , 0.77658387,\n",
              "       0.77704636, 0.77764942, 0.77807933, 0.77849847, 0.7789996 ,\n",
              "       0.77981742, 0.7800968 , 0.78069447, 0.78135515, 0.78165635,\n",
              "       0.78202715, 0.78233198, 0.78291336, 0.78355398, 0.78414587,\n",
              "       0.78475243, 0.7852607 , 0.78563083, 0.78615027, 0.78673273,\n",
              "       0.78690373, 0.78722121, 0.78787947, 0.78833173, 0.78866995,\n",
              "       0.78900952, 0.78970131, 0.79020756, 0.79072364, 0.79109915,\n",
              "       0.79182824, 0.79229342, 0.79247829, 0.79283078, 0.79338308,\n",
              "       0.79381689, 0.79419065, 0.79458313, 0.79497171, 0.79537079,\n",
              "       0.79579356, 0.79625201, 0.79666065, 0.79712139, 0.79745813,\n",
              "       0.79809526, 0.7985152 , 0.79887577, 0.79927256, 0.79982284,\n",
              "       0.80013009])"
            ]
          },
          "execution_count": 30,
          "metadata": {},
          "output_type": "execute_result"
        }
      ],
      "source": [
        "hgb.train_score_"
      ]
    },
    {
      "cell_type": "code",
      "execution_count": 31,
      "metadata": {},
      "outputs": [
        {
          "data": {
            "text/plain": [
              "array([0.5       , 0.71119584, 0.72053104, 0.72486972, 0.72710032,\n",
              "       0.72861987, 0.73063485, 0.73165666, 0.73292168, 0.73441097,\n",
              "       0.73536844, 0.73651412, 0.73852646, 0.74005129, 0.74135516,\n",
              "       0.74247374, 0.74374366, 0.74509417, 0.7465243 , 0.74780388,\n",
              "       0.7491252 , 0.74933701, 0.75075792, 0.75160913, 0.75237991,\n",
              "       0.75311565, 0.75363149, 0.75455665, 0.75544666, 0.75608494,\n",
              "       0.75684523, 0.75763452, 0.75799366, 0.75887196, 0.75923497,\n",
              "       0.75983578, 0.76032645, 0.76088077, 0.76142932, 0.76171002,\n",
              "       0.76197947, 0.76209693, 0.76244081, 0.76248078, 0.76260246,\n",
              "       0.7631933 , 0.76357686, 0.76379559, 0.76401677, 0.76419698,\n",
              "       0.7645298 , 0.76468384, 0.76490776, 0.7651157 , 0.76503357,\n",
              "       0.76545131, 0.7653753 , 0.76555508, 0.7658229 , 0.76603116,\n",
              "       0.76629445, 0.76666633, 0.7668801 , 0.76699415, 0.76719853,\n",
              "       0.76738944, 0.76795548, 0.76824641, 0.76846021, 0.76858451,\n",
              "       0.76856947, 0.76860996, 0.76903817, 0.76918687, 0.76919163,\n",
              "       0.76924804, 0.76926175, 0.76934643, 0.76959437, 0.76966362,\n",
              "       0.76941908, 0.76943299, 0.76943056, 0.76953077, 0.76963873,\n",
              "       0.76985595, 0.76982665, 0.76987436, 0.76994243, 0.77002772,\n",
              "       0.77005279, 0.77023379, 0.77028238, 0.77021082, 0.77025134,\n",
              "       0.77037847, 0.77053245, 0.77041048, 0.77044354, 0.77050436,\n",
              "       0.77064034])"
            ]
          },
          "execution_count": 31,
          "metadata": {},
          "output_type": "execute_result"
        }
      ],
      "source": [
        "hgb.validation_score_"
      ]
    },
    {
      "cell_type": "code",
      "execution_count": 32,
      "metadata": {},
      "outputs": [],
      "source": [
        "# hgb_gs1_params = {'interaction_cst': [None, 'pairwise', 'no_interactions'],\n",
        "#                   'validation_fraction': [0.1, 0.2],\n",
        "#                   'max_features': [0.1, 0.5, 0.9, 1.0],\n",
        "#                   'max_leaf_nodes': [15, 31, 63]}\n",
        "              \n",
        "# hgb_gs1 = GridSearchCV(hgb, hgb_gs1_params, scoring=\"roc_auc\", n_jobs=-1)\n",
        "# hgb_gs1.fit(X_train, y_train)\n",
        "# hgb_1 = hgb_gs1.best_estimator_.fit(X_train, y_train)"
      ]
    },
    {
      "cell_type": "code",
      "execution_count": 33,
      "metadata": {},
      "outputs": [
        {
          "name": "stderr",
          "output_type": "stream",
          "text": [
            "/usr/local/lib/python3.10/dist-packages/joblib/externals/loky/process_executor.py:752: UserWarning: A worker stopped while some jobs were given to the executor. This can be caused by a too short worker timeout or by a memory leak.\n",
            "  warnings.warn(\n"
          ]
        },
        {
          "ename": "KeyboardInterrupt",
          "evalue": "",
          "output_type": "error",
          "traceback": [
            "\u001b[0;31m---------------------------------------------------------------------------\u001b[0m",
            "\u001b[0;31mKeyboardInterrupt\u001b[0m                         Traceback (most recent call last)",
            "\u001b[0;32m<ipython-input-33-2528112cab98>\u001b[0m in \u001b[0;36m<cell line: 5>\u001b[0;34m()\u001b[0m\n\u001b[1;32m      3\u001b[0m \u001b[0;34m\u001b[0m\u001b[0m\n\u001b[1;32m      4\u001b[0m \u001b[0mhgb_gs2\u001b[0m \u001b[0;34m=\u001b[0m \u001b[0mGridSearchCV\u001b[0m\u001b[0;34m(\u001b[0m\u001b[0mhgb\u001b[0m\u001b[0;34m,\u001b[0m \u001b[0mhgb_gs2_params\u001b[0m\u001b[0;34m,\u001b[0m \u001b[0mscoring\u001b[0m\u001b[0;34m=\u001b[0m\u001b[0;34m\"roc_auc\"\u001b[0m\u001b[0;34m,\u001b[0m \u001b[0mn_jobs\u001b[0m\u001b[0;34m=\u001b[0m\u001b[0;34m-\u001b[0m\u001b[0;36m1\u001b[0m\u001b[0;34m)\u001b[0m\u001b[0;34m\u001b[0m\u001b[0;34m\u001b[0m\u001b[0m\n\u001b[0;32m----> 5\u001b[0;31m \u001b[0mhgb_gs2\u001b[0m\u001b[0;34m.\u001b[0m\u001b[0mfit\u001b[0m\u001b[0;34m(\u001b[0m\u001b[0mX_train\u001b[0m\u001b[0;34m,\u001b[0m \u001b[0my_train\u001b[0m\u001b[0;34m)\u001b[0m\u001b[0;34m\u001b[0m\u001b[0;34m\u001b[0m\u001b[0m\n\u001b[0m\u001b[1;32m      6\u001b[0m \u001b[0mhgb_2\u001b[0m \u001b[0;34m=\u001b[0m \u001b[0mhgb_gs2\u001b[0m\u001b[0;34m.\u001b[0m\u001b[0mbest_estimator_\u001b[0m\u001b[0;34m.\u001b[0m\u001b[0mfit\u001b[0m\u001b[0;34m(\u001b[0m\u001b[0mX_train\u001b[0m\u001b[0;34m,\u001b[0m \u001b[0my_train\u001b[0m\u001b[0;34m)\u001b[0m\u001b[0;34m\u001b[0m\u001b[0;34m\u001b[0m\u001b[0m\n",
            "\u001b[0;32m/usr/local/lib/python3.10/dist-packages/sklearn/base.py\u001b[0m in \u001b[0;36mwrapper\u001b[0;34m(estimator, *args, **kwargs)\u001b[0m\n\u001b[1;32m   1387\u001b[0m                 )\n\u001b[1;32m   1388\u001b[0m             ):\n\u001b[0;32m-> 1389\u001b[0;31m                 \u001b[0;32mreturn\u001b[0m \u001b[0mfit_method\u001b[0m\u001b[0;34m(\u001b[0m\u001b[0mestimator\u001b[0m\u001b[0;34m,\u001b[0m \u001b[0;34m*\u001b[0m\u001b[0margs\u001b[0m\u001b[0;34m,\u001b[0m \u001b[0;34m**\u001b[0m\u001b[0mkwargs\u001b[0m\u001b[0;34m)\u001b[0m\u001b[0;34m\u001b[0m\u001b[0;34m\u001b[0m\u001b[0m\n\u001b[0m\u001b[1;32m   1390\u001b[0m \u001b[0;34m\u001b[0m\u001b[0m\n\u001b[1;32m   1391\u001b[0m         \u001b[0;32mreturn\u001b[0m \u001b[0mwrapper\u001b[0m\u001b[0;34m\u001b[0m\u001b[0;34m\u001b[0m\u001b[0m\n",
            "\u001b[0;32m/usr/local/lib/python3.10/dist-packages/sklearn/model_selection/_search.py\u001b[0m in \u001b[0;36mfit\u001b[0;34m(self, X, y, **params)\u001b[0m\n\u001b[1;32m   1022\u001b[0m                 \u001b[0;32mreturn\u001b[0m \u001b[0mresults\u001b[0m\u001b[0;34m\u001b[0m\u001b[0;34m\u001b[0m\u001b[0m\n\u001b[1;32m   1023\u001b[0m \u001b[0;34m\u001b[0m\u001b[0m\n\u001b[0;32m-> 1024\u001b[0;31m             \u001b[0mself\u001b[0m\u001b[0;34m.\u001b[0m\u001b[0m_run_search\u001b[0m\u001b[0;34m(\u001b[0m\u001b[0mevaluate_candidates\u001b[0m\u001b[0;34m)\u001b[0m\u001b[0;34m\u001b[0m\u001b[0;34m\u001b[0m\u001b[0m\n\u001b[0m\u001b[1;32m   1025\u001b[0m \u001b[0;34m\u001b[0m\u001b[0m\n\u001b[1;32m   1026\u001b[0m             \u001b[0;31m# multimetric is determined here because in the case of a callable\u001b[0m\u001b[0;34m\u001b[0m\u001b[0;34m\u001b[0m\u001b[0m\n",
            "\u001b[0;32m/usr/local/lib/python3.10/dist-packages/sklearn/model_selection/_search.py\u001b[0m in \u001b[0;36m_run_search\u001b[0;34m(self, evaluate_candidates)\u001b[0m\n\u001b[1;32m   1569\u001b[0m     \u001b[0;32mdef\u001b[0m \u001b[0m_run_search\u001b[0m\u001b[0;34m(\u001b[0m\u001b[0mself\u001b[0m\u001b[0;34m,\u001b[0m \u001b[0mevaluate_candidates\u001b[0m\u001b[0;34m)\u001b[0m\u001b[0;34m:\u001b[0m\u001b[0;34m\u001b[0m\u001b[0;34m\u001b[0m\u001b[0m\n\u001b[1;32m   1570\u001b[0m         \u001b[0;34m\"\"\"Search all candidates in param_grid\"\"\"\u001b[0m\u001b[0;34m\u001b[0m\u001b[0;34m\u001b[0m\u001b[0m\n\u001b[0;32m-> 1571\u001b[0;31m         \u001b[0mevaluate_candidates\u001b[0m\u001b[0;34m(\u001b[0m\u001b[0mParameterGrid\u001b[0m\u001b[0;34m(\u001b[0m\u001b[0mself\u001b[0m\u001b[0;34m.\u001b[0m\u001b[0mparam_grid\u001b[0m\u001b[0;34m)\u001b[0m\u001b[0;34m)\u001b[0m\u001b[0;34m\u001b[0m\u001b[0;34m\u001b[0m\u001b[0m\n\u001b[0m\u001b[1;32m   1572\u001b[0m \u001b[0;34m\u001b[0m\u001b[0m\n\u001b[1;32m   1573\u001b[0m \u001b[0;34m\u001b[0m\u001b[0m\n",
            "\u001b[0;32m/usr/local/lib/python3.10/dist-packages/sklearn/model_selection/_search.py\u001b[0m in \u001b[0;36mevaluate_candidates\u001b[0;34m(candidate_params, cv, more_results)\u001b[0m\n\u001b[1;32m    968\u001b[0m                     )\n\u001b[1;32m    969\u001b[0m \u001b[0;34m\u001b[0m\u001b[0m\n\u001b[0;32m--> 970\u001b[0;31m                 out = parallel(\n\u001b[0m\u001b[1;32m    971\u001b[0m                     delayed(_fit_and_score)(\n\u001b[1;32m    972\u001b[0m                         \u001b[0mclone\u001b[0m\u001b[0;34m(\u001b[0m\u001b[0mbase_estimator\u001b[0m\u001b[0;34m)\u001b[0m\u001b[0;34m,\u001b[0m\u001b[0;34m\u001b[0m\u001b[0;34m\u001b[0m\u001b[0m\n",
            "\u001b[0;32m/usr/local/lib/python3.10/dist-packages/sklearn/utils/parallel.py\u001b[0m in \u001b[0;36m__call__\u001b[0;34m(self, iterable)\u001b[0m\n\u001b[1;32m     75\u001b[0m             \u001b[0;32mfor\u001b[0m \u001b[0mdelayed_func\u001b[0m\u001b[0;34m,\u001b[0m \u001b[0margs\u001b[0m\u001b[0;34m,\u001b[0m \u001b[0mkwargs\u001b[0m \u001b[0;32min\u001b[0m \u001b[0miterable\u001b[0m\u001b[0;34m\u001b[0m\u001b[0;34m\u001b[0m\u001b[0m\n\u001b[1;32m     76\u001b[0m         )\n\u001b[0;32m---> 77\u001b[0;31m         \u001b[0;32mreturn\u001b[0m \u001b[0msuper\u001b[0m\u001b[0;34m(\u001b[0m\u001b[0;34m)\u001b[0m\u001b[0;34m.\u001b[0m\u001b[0m__call__\u001b[0m\u001b[0;34m(\u001b[0m\u001b[0miterable_with_config\u001b[0m\u001b[0;34m)\u001b[0m\u001b[0;34m\u001b[0m\u001b[0;34m\u001b[0m\u001b[0m\n\u001b[0m\u001b[1;32m     78\u001b[0m \u001b[0;34m\u001b[0m\u001b[0m\n\u001b[1;32m     79\u001b[0m \u001b[0;34m\u001b[0m\u001b[0m\n",
            "\u001b[0;32m/usr/local/lib/python3.10/dist-packages/joblib/parallel.py\u001b[0m in \u001b[0;36m__call__\u001b[0;34m(self, iterable)\u001b[0m\n\u001b[1;32m   2005\u001b[0m         \u001b[0mnext\u001b[0m\u001b[0;34m(\u001b[0m\u001b[0moutput\u001b[0m\u001b[0;34m)\u001b[0m\u001b[0;34m\u001b[0m\u001b[0;34m\u001b[0m\u001b[0m\n\u001b[1;32m   2006\u001b[0m \u001b[0;34m\u001b[0m\u001b[0m\n\u001b[0;32m-> 2007\u001b[0;31m         \u001b[0;32mreturn\u001b[0m \u001b[0moutput\u001b[0m \u001b[0;32mif\u001b[0m \u001b[0mself\u001b[0m\u001b[0;34m.\u001b[0m\u001b[0mreturn_generator\u001b[0m \u001b[0;32melse\u001b[0m \u001b[0mlist\u001b[0m\u001b[0;34m(\u001b[0m\u001b[0moutput\u001b[0m\u001b[0;34m)\u001b[0m\u001b[0;34m\u001b[0m\u001b[0;34m\u001b[0m\u001b[0m\n\u001b[0m\u001b[1;32m   2008\u001b[0m \u001b[0;34m\u001b[0m\u001b[0m\n\u001b[1;32m   2009\u001b[0m     \u001b[0;32mdef\u001b[0m \u001b[0m__repr__\u001b[0m\u001b[0;34m(\u001b[0m\u001b[0mself\u001b[0m\u001b[0;34m)\u001b[0m\u001b[0;34m:\u001b[0m\u001b[0;34m\u001b[0m\u001b[0;34m\u001b[0m\u001b[0m\n",
            "\u001b[0;32m/usr/local/lib/python3.10/dist-packages/joblib/parallel.py\u001b[0m in \u001b[0;36m_get_outputs\u001b[0;34m(self, iterator, pre_dispatch)\u001b[0m\n\u001b[1;32m   1648\u001b[0m \u001b[0;34m\u001b[0m\u001b[0m\n\u001b[1;32m   1649\u001b[0m             \u001b[0;32mwith\u001b[0m \u001b[0mself\u001b[0m\u001b[0;34m.\u001b[0m\u001b[0m_backend\u001b[0m\u001b[0;34m.\u001b[0m\u001b[0mretrieval_context\u001b[0m\u001b[0;34m(\u001b[0m\u001b[0;34m)\u001b[0m\u001b[0;34m:\u001b[0m\u001b[0;34m\u001b[0m\u001b[0;34m\u001b[0m\u001b[0m\n\u001b[0;32m-> 1650\u001b[0;31m                 \u001b[0;32myield\u001b[0m \u001b[0;32mfrom\u001b[0m \u001b[0mself\u001b[0m\u001b[0;34m.\u001b[0m\u001b[0m_retrieve\u001b[0m\u001b[0;34m(\u001b[0m\u001b[0;34m)\u001b[0m\u001b[0;34m\u001b[0m\u001b[0;34m\u001b[0m\u001b[0m\n\u001b[0m\u001b[1;32m   1651\u001b[0m \u001b[0;34m\u001b[0m\u001b[0m\n\u001b[1;32m   1652\u001b[0m         \u001b[0;32mexcept\u001b[0m \u001b[0mGeneratorExit\u001b[0m\u001b[0;34m:\u001b[0m\u001b[0;34m\u001b[0m\u001b[0;34m\u001b[0m\u001b[0m\n",
            "\u001b[0;32m/usr/local/lib/python3.10/dist-packages/joblib/parallel.py\u001b[0m in \u001b[0;36m_retrieve\u001b[0;34m(self)\u001b[0m\n\u001b[1;32m   1760\u001b[0m                 (self._jobs[0].get_status(\n\u001b[1;32m   1761\u001b[0m                     timeout=self.timeout) == TASK_PENDING)):\n\u001b[0;32m-> 1762\u001b[0;31m                 \u001b[0mtime\u001b[0m\u001b[0;34m.\u001b[0m\u001b[0msleep\u001b[0m\u001b[0;34m(\u001b[0m\u001b[0;36m0.01\u001b[0m\u001b[0;34m)\u001b[0m\u001b[0;34m\u001b[0m\u001b[0;34m\u001b[0m\u001b[0m\n\u001b[0m\u001b[1;32m   1763\u001b[0m                 \u001b[0;32mcontinue\u001b[0m\u001b[0;34m\u001b[0m\u001b[0;34m\u001b[0m\u001b[0m\n\u001b[1;32m   1764\u001b[0m \u001b[0;34m\u001b[0m\u001b[0m\n",
            "\u001b[0;31mKeyboardInterrupt\u001b[0m: "
          ]
        }
      ],
      "source": [
        "hgb_gs2_params = {'max_bins': [2, 3, 7, 15, 31, 63, 127, 255],\n",
        "                  'max_iter': [10, 100, 1000]}\n",
        "              \n",
        "hgb_gs2 = GridSearchCV(hgb, hgb_gs2_params, scoring=\"roc_auc\", n_jobs=-1)\n",
        "hgb_gs2.fit(X_train, y_train)\n",
        "hgb_2 = hgb_gs2.best_estimator_.fit(X_train, y_train)"
      ]
    },
    {
      "cell_type": "code",
      "execution_count": null,
      "metadata": {},
      "outputs": [
        {
          "name": "stderr",
          "output_type": "stream",
          "text": [
            "/opt/anaconda3/envs/datascience/lib/python3.12/site-packages/joblib/externals/loky/process_executor.py:752: UserWarning: A worker stopped while some jobs were given to the executor. This can be caused by a too short worker timeout or by a memory leak.\n",
            "  warnings.warn(\n"
          ]
        },
        {
          "name": "stdout",
          "output_type": "stream",
          "text": [
            "                    Train Evaluation                                       Test Evaluation                   \n",
            "              precision    recall  f1-score   support                precision    recall  f1-score   support \n",
            "                                                                                                             \n",
            "           0       0.97      0.73      0.83    226132             0       0.96      0.72      0.82     56554 \n",
            "           1       0.18      0.71      0.29     19876             1       0.18      0.68      0.28      4949 \n",
            "                                                                                                             \n",
            "    accuracy                           0.72    246008      accuracy                           0.72     61503 \n",
            "   macro avg       0.58      0.72      0.56    246008     macro avg       0.57      0.70      0.55     61503 \n",
            "weighted avg       0.90      0.72      0.79    246008  weighted avg       0.90      0.72      0.78     61503 \n"
          ]
        },
        {
          "data": {
            "image/png": "[encoded data removed]",
            "text/plain": [
              "<Figure size 800x400 with 4 Axes>"
            ]
          },
          "metadata": {},
          "output_type": "display_data"
        }
      ],
      "source": [
        "hgb_gs3_params = {'interaction_cst': [None, 'pairwise', 'no_interactions'],\n",
        "                  'validation_fraction': [0.1, 0.2],\n",
        "                  'max_features': [0.1, 0.5, 0.9, 1.0],\n",
        "                  'max_leaf_nodes': [15, 31, 63]}\n",
        "              \n",
        "hgb_gs3 = GridSearchCV(hgb_2, hgb_gs3_params, scoring=\"roc_auc\", n_jobs=-1)\n",
        "hgb_gs3.fit(X_train, y_train)\n",
        "hgb_3 = hgb_gs3.best_estimator_.fit(X_train, y_train)\n",
        "\n",
        "hgb_tuned_results = eval_classification(hgb_3, X_train, y_train, X_test, y_test,\n",
        "                                  model_name=\"Tuned HGBoost\", results_frame=hgb_results)"
      ]
    },
    {
      "cell_type": "code",
      "execution_count": null,
      "metadata": {
        "colab": {
          "base_uri": "https://localhost:8080/",
          "height": 551
        },
        "id": "x2h-Uo_1hefL",
        "outputId": "2e735c0e-cfc5-4e5f-cb67-0fffb96910dd"
      },
      "outputs": [
        {
          "name": "stdout",
          "output_type": "stream",
          "text": [
            "                    Train Evaluation                                       Test Evaluation                   \n",
            "              precision    recall  f1-score   support                precision    recall  f1-score   support \n",
            "                                                                                                             \n",
            "           0       0.93      1.00      0.96    226132             0       0.92      0.99      0.96     56554 \n",
            "           1       0.81      0.11      0.19     19876             1       0.45      0.05      0.09      4949 \n",
            "                                                                                                             \n",
            "    accuracy                           0.93    246008      accuracy                           0.92     61503 \n",
            "   macro avg       0.87      0.55      0.58    246008     macro avg       0.69      0.52      0.52     61503 \n",
            "weighted avg       0.92      0.93      0.90    246008  weighted avg       0.88      0.92      0.89     61503 \n"
          ]
        },
        {
          "data": {
            "image/png": "[encoded data removed]",
            "text/plain": [
              "<Figure size 800x400 with 4 Axes>"
            ]
          },
          "metadata": {},
          "output_type": "display_data"
        }
      ],
      "source": [
        "xgb = XGBClassifier(eval_metric=\"auc\", objective=\"binary:logistic\", random_state=42).fit(X_train, y_train)\n",
        "\n",
        "xgb_results = eval_classification(xgb, X_train, y_train, X_test, y_test,\n",
        "                                  model_name=\"XGBoost\", results_frame=hgb_tuned_results)"
      ]
    },
    {
      "cell_type": "code",
      "execution_count": null,
      "metadata": {},
      "outputs": [
        {
          "data": {
            "text/html": [
              "<div>\n",
              "<style scoped>\n",
              "    .dataframe tbody tr th:only-of-type {\n",
              "        vertical-align: middle;\n",
              "    }\n",
              "\n",
              "    .dataframe tbody tr th {\n",
              "        vertical-align: top;\n",
              "    }\n",
              "\n",
              "    .dataframe thead th {\n",
              "        text-align: right;\n",
              "    }\n",
              "</style>\n",
              "<table border=\"1\" class=\"dataframe\">\n",
              "  <thead>\n",
              "    <tr style=\"text-align: right;\">\n",
              "      <th></th>\n",
              "      <th>train_acc</th>\n",
              "      <th>test_acc</th>\n",
              "      <th>train_prec</th>\n",
              "      <th>test_prec</th>\n",
              "      <th>train_recall</th>\n",
              "      <th>test_recall</th>\n",
              "      <th>train_f1</th>\n",
              "      <th>test_f1</th>\n",
              "      <th>train_auc</th>\n",
              "      <th>test_auc</th>\n",
              "    </tr>\n",
              "  </thead>\n",
              "  <tbody>\n",
              "    <tr>\n",
              "      <th>Logistic Regression</th>\n",
              "      <td>0.688201</td>\n",
              "      <td>0.685284</td>\n",
              "      <td>0.160394</td>\n",
              "      <td>0.157677</td>\n",
              "      <td>0.675186</td>\n",
              "      <td>0.670438</td>\n",
              "      <td>0.259211</td>\n",
              "      <td>0.255309</td>\n",
              "      <td>0.745930</td>\n",
              "      <td>0.743762</td>\n",
              "    </tr>\n",
              "    <tr>\n",
              "      <th>Logistic Regression CV</th>\n",
              "      <td>0.688100</td>\n",
              "      <td>0.685316</td>\n",
              "      <td>0.160257</td>\n",
              "      <td>0.157692</td>\n",
              "      <td>0.674633</td>\n",
              "      <td>0.670438</td>\n",
              "      <td>0.258991</td>\n",
              "      <td>0.255329</td>\n",
              "      <td>0.745894</td>\n",
              "      <td>0.743784</td>\n",
              "    </tr>\n",
              "    <tr>\n",
              "      <th>Decision Tree</th>\n",
              "      <td>1.000000</td>\n",
              "      <td>0.859487</td>\n",
              "      <td>1.000000</td>\n",
              "      <td>0.156465</td>\n",
              "      <td>1.000000</td>\n",
              "      <td>0.169933</td>\n",
              "      <td>1.000000</td>\n",
              "      <td>0.162921</td>\n",
              "      <td>1.000000</td>\n",
              "      <td>0.544881</td>\n",
              "    </tr>\n",
              "    <tr>\n",
              "      <th>Decision Tree CV</th>\n",
              "      <td>0.688075</td>\n",
              "      <td>0.680910</td>\n",
              "      <td>0.159953</td>\n",
              "      <td>0.150405</td>\n",
              "      <td>0.672821</td>\n",
              "      <td>0.637907</td>\n",
              "      <td>0.258460</td>\n",
              "      <td>0.243417</td>\n",
              "      <td>0.744455</td>\n",
              "      <td>0.712928</td>\n",
              "    </tr>\n",
              "    <tr>\n",
              "      <th>AdaBoosted Decision Tree</th>\n",
              "      <td>0.711578</td>\n",
              "      <td>0.702307</td>\n",
              "      <td>0.172694</td>\n",
              "      <td>0.158032</td>\n",
              "      <td>0.677953</td>\n",
              "      <td>0.623762</td>\n",
              "      <td>0.275270</td>\n",
              "      <td>0.252175</td>\n",
              "      <td>0.758932</td>\n",
              "      <td>0.721342</td>\n",
              "    </tr>\n",
              "    <tr>\n",
              "      <th>Random Forest</th>\n",
              "      <td>0.999967</td>\n",
              "      <td>0.919532</td>\n",
              "      <td>1.000000</td>\n",
              "      <td>0.500000</td>\n",
              "      <td>0.999598</td>\n",
              "      <td>0.001819</td>\n",
              "      <td>0.999799</td>\n",
              "      <td>0.003624</td>\n",
              "      <td>1.000000</td>\n",
              "      <td>0.736460</td>\n",
              "    </tr>\n",
              "    <tr>\n",
              "      <th>Random Forest CV</th>\n",
              "      <td>0.719192</td>\n",
              "      <td>0.711185</td>\n",
              "      <td>0.177501</td>\n",
              "      <td>0.166128</td>\n",
              "      <td>0.681274</td>\n",
              "      <td>0.644171</td>\n",
              "      <td>0.281626</td>\n",
              "      <td>0.264137</td>\n",
              "      <td>0.770360</td>\n",
              "      <td>0.743152</td>\n",
              "    </tr>\n",
              "    <tr>\n",
              "      <th>Histogram-based Gradient Boosting Tree</th>\n",
              "      <td>0.723598</td>\n",
              "      <td>0.711071</td>\n",
              "      <td>0.189000</td>\n",
              "      <td>0.172984</td>\n",
              "      <td>0.735661</td>\n",
              "      <td>0.685189</td>\n",
              "      <td>0.300737</td>\n",
              "      <td>0.276230</td>\n",
              "      <td>0.805845</td>\n",
              "      <td>0.769701</td>\n",
              "    </tr>\n",
              "    <tr>\n",
              "      <th>Tuned HGBoost</th>\n",
              "      <td>0.723684</td>\n",
              "      <td>0.716209</td>\n",
              "      <td>0.184681</td>\n",
              "      <td>0.175043</td>\n",
              "      <td>0.708694</td>\n",
              "      <td>0.680542</td>\n",
              "      <td>0.293007</td>\n",
              "      <td>0.278462</td>\n",
              "      <td>0.788419</td>\n",
              "      <td>0.768035</td>\n",
              "    </tr>\n",
              "    <tr>\n",
              "      <th>XGBoost</th>\n",
              "      <td>0.925974</td>\n",
              "      <td>0.918638</td>\n",
              "      <td>0.812617</td>\n",
              "      <td>0.450980</td>\n",
              "      <td>0.108875</td>\n",
              "      <td>0.051121</td>\n",
              "      <td>0.192023</td>\n",
              "      <td>0.091833</td>\n",
              "      <td>0.866603</td>\n",
              "      <td>0.760074</td>\n",
              "    </tr>\n",
              "  </tbody>\n",
              "</table>\n",
              "</div>"
            ],
            "text/plain": [
              "                                        train_acc  test_acc  train_prec  \\\n",
              "Logistic Regression                      0.688201  0.685284    0.160394   \n",
              "Logistic Regression CV                   0.688100  0.685316    0.160257   \n",
              "Decision Tree                            1.000000  0.859487    1.000000   \n",
              "Decision Tree CV                         0.688075  0.680910    0.159953   \n",
              "AdaBoosted Decision Tree                 0.711578  0.702307    0.172694   \n",
              "Random Forest                            0.999967  0.919532    1.000000   \n",
              "Random Forest CV                         0.719192  0.711185    0.177501   \n",
              "Histogram-based Gradient Boosting Tree   0.723598  0.711071    0.189000   \n",
              "Tuned HGBoost                            0.723684  0.716209    0.184681   \n",
              "XGBoost                                  0.925974  0.918638    0.812617   \n",
              "\n",
              "                                        test_prec  train_recall  test_recall  \\\n",
              "Logistic Regression                      0.157677      0.675186     0.670438   \n",
              "Logistic Regression CV                   0.157692      0.674633     0.670438   \n",
              "Decision Tree                            0.156465      1.000000     0.169933   \n",
              "Decision Tree CV                         0.150405      0.672821     0.637907   \n",
              "AdaBoosted Decision Tree                 0.158032      0.677953     0.623762   \n",
              "Random Forest                            0.500000      0.999598     0.001819   \n",
              "Random Forest CV                         0.166128      0.681274     0.644171   \n",
              "Histogram-based Gradient Boosting Tree   0.172984      0.735661     0.685189   \n",
              "Tuned HGBoost                            0.175043      0.708694     0.680542   \n",
              "XGBoost                                  0.450980      0.108875     0.051121   \n",
              "\n",
              "                                        train_f1   test_f1  train_auc  \\\n",
              "Logistic Regression                     0.259211  0.255309   0.745930   \n",
              "Logistic Regression CV                  0.258991  0.255329   0.745894   \n",
              "Decision Tree                           1.000000  0.162921   1.000000   \n",
              "Decision Tree CV                        0.258460  0.243417   0.744455   \n",
              "AdaBoosted Decision Tree                0.275270  0.252175   0.758932   \n",
              "Random Forest                           0.999799  0.003624   1.000000   \n",
              "Random Forest CV                        0.281626  0.264137   0.770360   \n",
              "Histogram-based Gradient Boosting Tree  0.300737  0.276230   0.805845   \n",
              "Tuned HGBoost                           0.293007  0.278462   0.788419   \n",
              "XGBoost                                 0.192023  0.091833   0.866603   \n",
              "\n",
              "                                        test_auc  \n",
              "Logistic Regression                     0.743762  \n",
              "Logistic Regression CV                  0.743784  \n",
              "Decision Tree                           0.544881  \n",
              "Decision Tree CV                        0.712928  \n",
              "AdaBoosted Decision Tree                0.721342  \n",
              "Random Forest                           0.736460  \n",
              "Random Forest CV                        0.743152  \n",
              "Histogram-based Gradient Boosting Tree  0.769701  \n",
              "Tuned HGBoost                           0.768035  \n",
              "XGBoost                                 0.760074  "
            ]
          },
          "execution_count": 60,
          "metadata": {},
          "output_type": "execute_result"
        }
      ],
      "source": [
        "xgb_results"
      ]
    },
    {
      "cell_type": "code",
      "execution_count": null,
      "metadata": {
        "colab": {
          "base_uri": "https://localhost:8080/",
          "height": 551
        },
        "id": "SrHfpBiBhefL",
        "outputId": "f7f2bcb3-baf3-4ea2-af6e-078cdf382182"
      },
      "outputs": [
        {
          "name": "stdout",
          "output_type": "stream",
          "text": [
            "                    Train Evaluation                                       Test Evaluation                   \n",
            "              precision    recall  f1-score   support                precision    recall  f1-score   support \n",
            "                                                                                                             \n",
            "           0       0.97      0.99      0.98    226132             0       0.93      0.97      0.95     56554 \n",
            "           1       0.87      0.66      0.75     19876             1       0.35      0.17      0.22      4949 \n",
            "                                                                                                             \n",
            "    accuracy                           0.96    246008      accuracy                           0.91     61503 \n",
            "   macro avg       0.92      0.83      0.87    246008     macro avg       0.64      0.57      0.59     61503 \n",
            "weighted avg       0.96      0.96      0.96    246008  weighted avg       0.88      0.91      0.89     61503 \n"
          ]
        },
        {
          "data": {
            "image/png": "[encoded data removed]",
            "text/plain": [
              "<Figure size 800x400 with 4 Axes>"
            ]
          },
          "metadata": {},
          "output_type": "display_data"
        }
      ],
      "source": [
        "xgbrf = XGBRFClassifier(eval_metric=\"auc\", objective=\"binary:logistic\", seed=42, n_estimators=200, max_depth=83).fit(X_train, y_train)\n",
        "\n",
        "xgbrf_results = eval_classification(xgbrf, X_train, y_train, X_test, y_test,\n",
        "                                  model_name=\"XGBoost Random Forest\", results_frame=xgb_results)"
      ]
    },
    {
      "cell_type": "markdown",
      "metadata": {
        "id": "sJ9Q-cf6hefL"
      },
      "source": [
        "## Naive Bayes algorithms"
      ]
    },
    {
      "cell_type": "code",
      "execution_count": null,
      "metadata": {
        "colab": {
          "base_uri": "https://localhost:8080/",
          "height": 551
        },
        "id": "HDPHRX2xhefL",
        "outputId": "7c97cfbf-b818-4388-83d4-c86ec485fda1"
      },
      "outputs": [
        {
          "name": "stdout",
          "output_type": "stream",
          "text": [
            "                    Train Evaluation                                       Test Evaluation                   \n",
            "              precision    recall  f1-score   support                precision    recall  f1-score   support \n",
            "                                                                                                             \n",
            "           0       0.96      0.03      0.06    226132             0       0.96      0.03      0.06     56554 \n",
            "           1       0.08      0.98      0.15     19876             1       0.08      0.98      0.15      4949 \n",
            "                                                                                                             \n",
            "    accuracy                           0.11    246008      accuracy                           0.11     61503 \n",
            "   macro avg       0.52      0.51      0.11    246008     macro avg       0.52      0.51      0.11     61503 \n",
            "weighted avg       0.89      0.11      0.07    246008  weighted avg       0.89      0.11      0.07     61503 \n"
          ]
        },
        {
          "data": {
            "image/png": "[encoded data removed]",
            "text/plain": [
              "<Figure size 800x400 with 4 Axes>"
            ]
          },
          "metadata": {},
          "output_type": "display_data"
        }
      ],
      "source": [
        "gnb = GaussianNB().fit(X_train, y_train)\n",
        "\n",
        "gnb_results = eval_classification(gnb, X_train, y_train, X_test, y_test,\n",
        "                                  model_name=\"Gaussian\", results_frame=xgbrf_results)"
      ]
    },
    {
      "cell_type": "code",
      "execution_count": null,
      "metadata": {
        "colab": {
          "base_uri": "https://localhost:8080/",
          "height": 551
        },
        "id": "AVAshygphefL",
        "outputId": "78bc0fc7-e910-4366-8915-0a5435bc68b2"
      },
      "outputs": [
        {
          "name": "stdout",
          "output_type": "stream",
          "text": [
            "                    Train Evaluation                                       Test Evaluation                   \n",
            "              precision    recall  f1-score   support                precision    recall  f1-score   support \n",
            "                                                                                                             \n",
            "           0       0.93      0.92      0.93    226132             0       0.93      0.92      0.93     56554 \n",
            "           1       0.19      0.21      0.20     19876             1       0.19      0.21      0.20      4949 \n",
            "                                                                                                             \n",
            "    accuracy                           0.87    246008      accuracy                           0.87     61503 \n",
            "   macro avg       0.56      0.57      0.56    246008     macro avg       0.56      0.57      0.56     61503 \n",
            "weighted avg       0.87      0.87      0.87    246008  weighted avg       0.87      0.87      0.87     61503 \n"
          ]
        },
        {
          "data": {
            "image/png": "[encoded data removed]",
            "text/plain": [
              "<Figure size 800x400 with 4 Axes>"
            ]
          },
          "metadata": {},
          "output_type": "display_data"
        }
      ],
      "source": [
        "bnb = BernoulliNB().fit(X_train, y_train)\n",
        "\n",
        "bnb_results = eval_classification(bnb, X_train, y_train, X_test, y_test,\n",
        "                                  model_name=\"Bernoulli\", results_frame=gnb_results)"
      ]
    },
    {
      "cell_type": "markdown",
      "metadata": {
        "id": "0i1ciGBRhefN"
      },
      "source": [
        "# Export and Submission"
      ]
    },
    {
      "cell_type": "markdown",
      "metadata": {},
      "source": [
        "## First we need to pick which model to use"
      ]
    },
    {
      "cell_type": "code",
      "execution_count": null,
      "metadata": {},
      "outputs": [
        {
          "data": {
            "text/html": [
              "<style type=\"text/css\">\n",
              "#T_5dc26_row0_col0, #T_5dc26_row1_col0, #T_5dc26_row3_col0, #T_5dc26_row8_col5 {\n",
              "  background-color: #1c7fb8;\n",
              "  color: #f1f1f1;\n",
              "}\n",
              "#T_5dc26_row0_col1, #T_5dc26_row1_col1, #T_5dc26_row7_col5 {\n",
              "  background-color: #1e80b8;\n",
              "  color: #f1f1f1;\n",
              "}\n",
              "#T_5dc26_row0_col2, #T_5dc26_row1_col2, #T_5dc26_row2_col7 {\n",
              "  background-color: #e4e1ef;\n",
              "  color: #000000;\n",
              "}\n",
              "#T_5dc26_row0_col3, #T_5dc26_row1_col3, #T_5dc26_row2_col3, #T_5dc26_row3_col2, #T_5dc26_row4_col3 {\n",
              "  background-color: #e5e1ef;\n",
              "  color: #000000;\n",
              "}\n",
              "#T_5dc26_row0_col4, #T_5dc26_row1_col4, #T_5dc26_row3_col4 {\n",
              "  background-color: #2383ba;\n",
              "  color: #f1f1f1;\n",
              "}\n",
              "#T_5dc26_row0_col5, #T_5dc26_row1_col5 {\n",
              "  background-color: #2484ba;\n",
              "  color: #f1f1f1;\n",
              "}\n",
              "#T_5dc26_row0_col6, #T_5dc26_row1_col6, #T_5dc26_row3_col6 {\n",
              "  background-color: #cdd0e5;\n",
              "  color: #000000;\n",
              "}\n",
              "#T_5dc26_row0_col7, #T_5dc26_row1_col7 {\n",
              "  background-color: #ced0e6;\n",
              "  color: #000000;\n",
              "}\n",
              "#T_5dc26_row0_col8, #T_5dc26_row0_col9, #T_5dc26_row1_col8, #T_5dc26_row1_col9, #T_5dc26_row3_col8, #T_5dc26_row6_col9, #T_5dc26_row10_col9 {\n",
              "  background-color: #0771b1;\n",
              "  color: #f1f1f1;\n",
              "}\n",
              "#T_5dc26_row2_col0, #T_5dc26_row2_col2, #T_5dc26_row2_col4, #T_5dc26_row2_col6, #T_5dc26_row2_col8, #T_5dc26_row5_col0, #T_5dc26_row5_col2, #T_5dc26_row5_col4, #T_5dc26_row5_col6, #T_5dc26_row5_col8 {\n",
              "  background-color: #023858;\n",
              "  color: #f1f1f1;\n",
              "}\n",
              "#T_5dc26_row2_col1 {\n",
              "  background-color: #045c90;\n",
              "  color: #f1f1f1;\n",
              "}\n",
              "#T_5dc26_row2_col5 {\n",
              "  background-color: #e2dfee;\n",
              "  color: #000000;\n",
              "}\n",
              "#T_5dc26_row2_col9 {\n",
              "  background-color: #5ea0ca;\n",
              "  color: #f1f1f1;\n",
              "}\n",
              "#T_5dc26_row3_col1, #T_5dc26_row6_col4, #T_5dc26_row12_col8, #T_5dc26_row12_col9 {\n",
              "  background-color: #2081b9;\n",
              "  color: #f1f1f1;\n",
              "}\n",
              "#T_5dc26_row3_col3, #T_5dc26_row11_col6, #T_5dc26_row11_col7 {\n",
              "  background-color: #e7e3f0;\n",
              "  color: #000000;\n",
              "}\n",
              "#T_5dc26_row3_col5 {\n",
              "  background-color: #308cbe;\n",
              "  color: #f1f1f1;\n",
              "}\n",
              "#T_5dc26_row3_col7 {\n",
              "  background-color: #d2d2e7;\n",
              "  color: #000000;\n",
              "}\n",
              "#T_5dc26_row3_col9, #T_5dc26_row4_col0, #T_5dc26_row6_col1, #T_5dc26_row7_col1 {\n",
              "  background-color: #1379b5;\n",
              "  color: #f1f1f1;\n",
              "}\n",
              "#T_5dc26_row4_col1 {\n",
              "  background-color: #187cb6;\n",
              "  color: #f1f1f1;\n",
              "}\n",
              "#T_5dc26_row4_col2, #T_5dc26_row7_col3, #T_5dc26_row8_col3 {\n",
              "  background-color: #e1dfed;\n",
              "  color: #000000;\n",
              "}\n",
              "#T_5dc26_row4_col4 {\n",
              "  background-color: #2182b9;\n",
              "  color: #f1f1f1;\n",
              "}\n",
              "#T_5dc26_row4_col5 {\n",
              "  background-color: #3790c0;\n",
              "  color: #f1f1f1;\n",
              "}\n",
              "#T_5dc26_row4_col6, #T_5dc26_row7_col7, #T_5dc26_row8_col7 {\n",
              "  background-color: #c8cde4;\n",
              "  color: #000000;\n",
              "}\n",
              "#T_5dc26_row4_col7 {\n",
              "  background-color: #d0d1e6;\n",
              "  color: #000000;\n",
              "}\n",
              "#T_5dc26_row4_col8, #T_5dc26_row9_col9 {\n",
              "  background-color: #056ead;\n",
              "  color: #f1f1f1;\n",
              "}\n",
              "#T_5dc26_row4_col9, #T_5dc26_row6_col0, #T_5dc26_row8_col4 {\n",
              "  background-color: #1077b4;\n",
              "  color: #f1f1f1;\n",
              "}\n",
              "#T_5dc26_row5_col1, #T_5dc26_row9_col1 {\n",
              "  background-color: #034d79;\n",
              "  color: #f1f1f1;\n",
              "}\n",
              "#T_5dc26_row5_col3 {\n",
              "  background-color: #73a9cf;\n",
              "  color: #f1f1f1;\n",
              "}\n",
              "#T_5dc26_row5_col5, #T_5dc26_row5_col7 {\n",
              "  background-color: #fff7fb;\n",
              "  color: #000000;\n",
              "}\n",
              "#T_5dc26_row5_col9, #T_5dc26_row7_col4 {\n",
              "  background-color: #0a73b2;\n",
              "  color: #f1f1f1;\n",
              "}\n",
              "#T_5dc26_row6_col2 {\n",
              "  background-color: #e0deed;\n",
              "  color: #000000;\n",
              "}\n",
              "#T_5dc26_row6_col3, #T_5dc26_row10_col5 {\n",
              "  background-color: #e3e0ee;\n",
              "  color: #000000;\n",
              "}\n",
              "#T_5dc26_row6_col5 {\n",
              "  background-color: #2f8bbe;\n",
              "  color: #f1f1f1;\n",
              "}\n",
              "#T_5dc26_row6_col6 {\n",
              "  background-color: #c5cce3;\n",
              "  color: #000000;\n",
              "}\n",
              "#T_5dc26_row6_col7 {\n",
              "  background-color: #cccfe5;\n",
              "  color: #000000;\n",
              "}\n",
              "#T_5dc26_row6_col8, #T_5dc26_row7_col9 {\n",
              "  background-color: #056caa;\n",
              "  color: #f1f1f1;\n",
              "}\n",
              "#T_5dc26_row7_col0 {\n",
              "  background-color: #0f76b3;\n",
              "  color: #f1f1f1;\n",
              "}\n",
              "#T_5dc26_row7_col2 {\n",
              "  background-color: #dedcec;\n",
              "  color: #000000;\n",
              "}\n",
              "#T_5dc26_row7_col6 {\n",
              "  background-color: #c0c9e2;\n",
              "  color: #000000;\n",
              "}\n",
              "#T_5dc26_row7_col8 {\n",
              "  background-color: #0566a0;\n",
              "  color: #f1f1f1;\n",
              "}\n",
              "#T_5dc26_row8_col0 {\n",
              "  background-color: #1278b4;\n",
              "  color: #f1f1f1;\n",
              "}\n",
              "#T_5dc26_row8_col1 {\n",
              "  background-color: #157ab5;\n",
              "  color: #f1f1f1;\n",
              "}\n",
              "#T_5dc26_row8_col2 {\n",
              "  background-color: #e0dded;\n",
              "  color: #000000;\n",
              "}\n",
              "#T_5dc26_row8_col6 {\n",
              "  background-color: #c2cbe2;\n",
              "  color: #000000;\n",
              "}\n",
              "#T_5dc26_row8_col8 {\n",
              "  background-color: #0569a4;\n",
              "  color: #f1f1f1;\n",
              "}\n",
              "#T_5dc26_row8_col9 {\n",
              "  background-color: #056dab;\n",
              "  color: #f1f1f1;\n",
              "}\n",
              "#T_5dc26_row9_col0 {\n",
              "  background-color: #034b76;\n",
              "  color: #f1f1f1;\n",
              "}\n",
              "#T_5dc26_row9_col2 {\n",
              "  background-color: #04649e;\n",
              "  color: #f1f1f1;\n",
              "}\n",
              "#T_5dc26_row9_col3 {\n",
              "  background-color: #88b1d4;\n",
              "  color: #000000;\n",
              "}\n",
              "#T_5dc26_row9_col4, #T_5dc26_row11_col0, #T_5dc26_row11_col1 {\n",
              "  background-color: #efe9f3;\n",
              "  color: #000000;\n",
              "}\n",
              "#T_5dc26_row9_col5 {\n",
              "  background-color: #f7f0f7;\n",
              "  color: #000000;\n",
              "}\n",
              "#T_5dc26_row9_col6, #T_5dc26_row12_col2, #T_5dc26_row12_col3 {\n",
              "  background-color: #dddbec;\n",
              "  color: #000000;\n",
              "}\n",
              "#T_5dc26_row9_col7 {\n",
              "  background-color: #f1ebf5;\n",
              "  color: #000000;\n",
              "}\n",
              "#T_5dc26_row9_col8, #T_5dc26_row12_col0, #T_5dc26_row12_col1 {\n",
              "  background-color: #045b8f;\n",
              "  color: #f1f1f1;\n",
              "}\n",
              "#T_5dc26_row10_col0 {\n",
              "  background-color: #034267;\n",
              "  color: #f1f1f1;\n",
              "}\n",
              "#T_5dc26_row10_col1 {\n",
              "  background-color: #03517e;\n",
              "  color: #f1f1f1;\n",
              "}\n",
              "#T_5dc26_row10_col2 {\n",
              "  background-color: #045a8d;\n",
              "  color: #f1f1f1;\n",
              "}\n",
              "#T_5dc26_row10_col3 {\n",
              "  background-color: #b0c2de;\n",
              "  color: #000000;\n",
              "}\n",
              "#T_5dc26_row10_col4 {\n",
              "  background-color: #2987bc;\n",
              "  color: #f1f1f1;\n",
              "}\n",
              "#T_5dc26_row10_col6 {\n",
              "  background-color: #056faf;\n",
              "  color: #f1f1f1;\n",
              "}\n",
              "#T_5dc26_row10_col7 {\n",
              "  background-color: #d6d6e9;\n",
              "  color: #000000;\n",
              "}\n",
              "#T_5dc26_row10_col8 {\n",
              "  background-color: #023a5b;\n",
              "  color: #f1f1f1;\n",
              "}\n",
              "#T_5dc26_row11_col2, #T_5dc26_row11_col3 {\n",
              "  background-color: #f3edf5;\n",
              "  color: #000000;\n",
              "}\n",
              "#T_5dc26_row11_col4, #T_5dc26_row11_col5 {\n",
              "  background-color: #023c5f;\n",
              "  color: #f1f1f1;\n",
              "}\n",
              "#T_5dc26_row11_col8, #T_5dc26_row11_col9 {\n",
              "  background-color: #6ba5cd;\n",
              "  color: #f1f1f1;\n",
              "}\n",
              "#T_5dc26_row12_col4, #T_5dc26_row12_col5 {\n",
              "  background-color: #d9d8ea;\n",
              "  color: #000000;\n",
              "}\n",
              "#T_5dc26_row12_col6, #T_5dc26_row12_col7 {\n",
              "  background-color: #dbdaeb;\n",
              "  color: #000000;\n",
              "}\n",
              "</style>\n",
              "<table id=\"T_5dc26\">\n",
              "  <thead>\n",
              "    <tr>\n",
              "      <th class=\"blank level0\" >&nbsp;</th>\n",
              "      <th id=\"T_5dc26_level0_col0\" class=\"col_heading level0 col0\" >train_acc</th>\n",
              "      <th id=\"T_5dc26_level0_col1\" class=\"col_heading level0 col1\" >test_acc</th>\n",
              "      <th id=\"T_5dc26_level0_col2\" class=\"col_heading level0 col2\" >train_prec</th>\n",
              "      <th id=\"T_5dc26_level0_col3\" class=\"col_heading level0 col3\" >test_prec</th>\n",
              "      <th id=\"T_5dc26_level0_col4\" class=\"col_heading level0 col4\" >train_recall</th>\n",
              "      <th id=\"T_5dc26_level0_col5\" class=\"col_heading level0 col5\" >test_recall</th>\n",
              "      <th id=\"T_5dc26_level0_col6\" class=\"col_heading level0 col6\" >train_f1</th>\n",
              "      <th id=\"T_5dc26_level0_col7\" class=\"col_heading level0 col7\" >test_f1</th>\n",
              "      <th id=\"T_5dc26_level0_col8\" class=\"col_heading level0 col8\" >train_auc</th>\n",
              "      <th id=\"T_5dc26_level0_col9\" class=\"col_heading level0 col9\" >test_auc</th>\n",
              "    </tr>\n",
              "  </thead>\n",
              "  <tbody>\n",
              "    <tr>\n",
              "      <th id=\"T_5dc26_level0_row0\" class=\"row_heading level0 row0\" >Logistic Regression</th>\n",
              "      <td id=\"T_5dc26_row0_col0\" class=\"data row0 col0\" >0.688201</td>\n",
              "      <td id=\"T_5dc26_row0_col1\" class=\"data row0 col1\" >0.685284</td>\n",
              "      <td id=\"T_5dc26_row0_col2\" class=\"data row0 col2\" >0.160394</td>\n",
              "      <td id=\"T_5dc26_row0_col3\" class=\"data row0 col3\" >0.157677</td>\n",
              "      <td id=\"T_5dc26_row0_col4\" class=\"data row0 col4\" >0.675186</td>\n",
              "      <td id=\"T_5dc26_row0_col5\" class=\"data row0 col5\" >0.670438</td>\n",
              "      <td id=\"T_5dc26_row0_col6\" class=\"data row0 col6\" >0.259211</td>\n",
              "      <td id=\"T_5dc26_row0_col7\" class=\"data row0 col7\" >0.255309</td>\n",
              "      <td id=\"T_5dc26_row0_col8\" class=\"data row0 col8\" >0.745930</td>\n",
              "      <td id=\"T_5dc26_row0_col9\" class=\"data row0 col9\" >0.743762</td>\n",
              "    </tr>\n",
              "    <tr>\n",
              "      <th id=\"T_5dc26_level0_row1\" class=\"row_heading level0 row1\" >Logistic Regression CV</th>\n",
              "      <td id=\"T_5dc26_row1_col0\" class=\"data row1 col0\" >0.688100</td>\n",
              "      <td id=\"T_5dc26_row1_col1\" class=\"data row1 col1\" >0.685316</td>\n",
              "      <td id=\"T_5dc26_row1_col2\" class=\"data row1 col2\" >0.160257</td>\n",
              "      <td id=\"T_5dc26_row1_col3\" class=\"data row1 col3\" >0.157692</td>\n",
              "      <td id=\"T_5dc26_row1_col4\" class=\"data row1 col4\" >0.674633</td>\n",
              "      <td id=\"T_5dc26_row1_col5\" class=\"data row1 col5\" >0.670438</td>\n",
              "      <td id=\"T_5dc26_row1_col6\" class=\"data row1 col6\" >0.258991</td>\n",
              "      <td id=\"T_5dc26_row1_col7\" class=\"data row1 col7\" >0.255329</td>\n",
              "      <td id=\"T_5dc26_row1_col8\" class=\"data row1 col8\" >0.745894</td>\n",
              "      <td id=\"T_5dc26_row1_col9\" class=\"data row1 col9\" >0.743784</td>\n",
              "    </tr>\n",
              "    <tr>\n",
              "      <th id=\"T_5dc26_level0_row2\" class=\"row_heading level0 row2\" >Decision Tree</th>\n",
              "      <td id=\"T_5dc26_row2_col0\" class=\"data row2 col0\" >1.000000</td>\n",
              "      <td id=\"T_5dc26_row2_col1\" class=\"data row2 col1\" >0.859487</td>\n",
              "      <td id=\"T_5dc26_row2_col2\" class=\"data row2 col2\" >1.000000</td>\n",
              "      <td id=\"T_5dc26_row2_col3\" class=\"data row2 col3\" >0.156465</td>\n",
              "      <td id=\"T_5dc26_row2_col4\" class=\"data row2 col4\" >1.000000</td>\n",
              "      <td id=\"T_5dc26_row2_col5\" class=\"data row2 col5\" >0.169933</td>\n",
              "      <td id=\"T_5dc26_row2_col6\" class=\"data row2 col6\" >1.000000</td>\n",
              "      <td id=\"T_5dc26_row2_col7\" class=\"data row2 col7\" >0.162921</td>\n",
              "      <td id=\"T_5dc26_row2_col8\" class=\"data row2 col8\" >1.000000</td>\n",
              "      <td id=\"T_5dc26_row2_col9\" class=\"data row2 col9\" >0.544881</td>\n",
              "    </tr>\n",
              "    <tr>\n",
              "      <th id=\"T_5dc26_level0_row3\" class=\"row_heading level0 row3\" >Decision Tree CV</th>\n",
              "      <td id=\"T_5dc26_row3_col0\" class=\"data row3 col0\" >0.688075</td>\n",
              "      <td id=\"T_5dc26_row3_col1\" class=\"data row3 col1\" >0.680910</td>\n",
              "      <td id=\"T_5dc26_row3_col2\" class=\"data row3 col2\" >0.159953</td>\n",
              "      <td id=\"T_5dc26_row3_col3\" class=\"data row3 col3\" >0.150405</td>\n",
              "      <td id=\"T_5dc26_row3_col4\" class=\"data row3 col4\" >0.672821</td>\n",
              "      <td id=\"T_5dc26_row3_col5\" class=\"data row3 col5\" >0.637907</td>\n",
              "      <td id=\"T_5dc26_row3_col6\" class=\"data row3 col6\" >0.258460</td>\n",
              "      <td id=\"T_5dc26_row3_col7\" class=\"data row3 col7\" >0.243417</td>\n",
              "      <td id=\"T_5dc26_row3_col8\" class=\"data row3 col8\" >0.744455</td>\n",
              "      <td id=\"T_5dc26_row3_col9\" class=\"data row3 col9\" >0.712928</td>\n",
              "    </tr>\n",
              "    <tr>\n",
              "      <th id=\"T_5dc26_level0_row4\" class=\"row_heading level0 row4\" >AdaBoosted Decision Tree</th>\n",
              "      <td id=\"T_5dc26_row4_col0\" class=\"data row4 col0\" >0.711578</td>\n",
              "      <td id=\"T_5dc26_row4_col1\" class=\"data row4 col1\" >0.702307</td>\n",
              "      <td id=\"T_5dc26_row4_col2\" class=\"data row4 col2\" >0.172694</td>\n",
              "      <td id=\"T_5dc26_row4_col3\" class=\"data row4 col3\" >0.158032</td>\n",
              "      <td id=\"T_5dc26_row4_col4\" class=\"data row4 col4\" >0.677953</td>\n",
              "      <td id=\"T_5dc26_row4_col5\" class=\"data row4 col5\" >0.623762</td>\n",
              "      <td id=\"T_5dc26_row4_col6\" class=\"data row4 col6\" >0.275270</td>\n",
              "      <td id=\"T_5dc26_row4_col7\" class=\"data row4 col7\" >0.252175</td>\n",
              "      <td id=\"T_5dc26_row4_col8\" class=\"data row4 col8\" >0.758932</td>\n",
              "      <td id=\"T_5dc26_row4_col9\" class=\"data row4 col9\" >0.721342</td>\n",
              "    </tr>\n",
              "    <tr>\n",
              "      <th id=\"T_5dc26_level0_row5\" class=\"row_heading level0 row5\" >Random Forest</th>\n",
              "      <td id=\"T_5dc26_row5_col0\" class=\"data row5 col0\" >0.999967</td>\n",
              "      <td id=\"T_5dc26_row5_col1\" class=\"data row5 col1\" >0.919532</td>\n",
              "      <td id=\"T_5dc26_row5_col2\" class=\"data row5 col2\" >1.000000</td>\n",
              "      <td id=\"T_5dc26_row5_col3\" class=\"data row5 col3\" >0.500000</td>\n",
              "      <td id=\"T_5dc26_row5_col4\" class=\"data row5 col4\" >0.999598</td>\n",
              "      <td id=\"T_5dc26_row5_col5\" class=\"data row5 col5\" >0.001819</td>\n",
              "      <td id=\"T_5dc26_row5_col6\" class=\"data row5 col6\" >0.999799</td>\n",
              "      <td id=\"T_5dc26_row5_col7\" class=\"data row5 col7\" >0.003624</td>\n",
              "      <td id=\"T_5dc26_row5_col8\" class=\"data row5 col8\" >1.000000</td>\n",
              "      <td id=\"T_5dc26_row5_col9\" class=\"data row5 col9\" >0.736460</td>\n",
              "    </tr>\n",
              "    <tr>\n",
              "      <th id=\"T_5dc26_level0_row6\" class=\"row_heading level0 row6\" >Random Forest CV</th>\n",
              "      <td id=\"T_5dc26_row6_col0\" class=\"data row6 col0\" >0.719192</td>\n",
              "      <td id=\"T_5dc26_row6_col1\" class=\"data row6 col1\" >0.711185</td>\n",
              "      <td id=\"T_5dc26_row6_col2\" class=\"data row6 col2\" >0.177501</td>\n",
              "      <td id=\"T_5dc26_row6_col3\" class=\"data row6 col3\" >0.166128</td>\n",
              "      <td id=\"T_5dc26_row6_col4\" class=\"data row6 col4\" >0.681274</td>\n",
              "      <td id=\"T_5dc26_row6_col5\" class=\"data row6 col5\" >0.644171</td>\n",
              "      <td id=\"T_5dc26_row6_col6\" class=\"data row6 col6\" >0.281626</td>\n",
              "      <td id=\"T_5dc26_row6_col7\" class=\"data row6 col7\" >0.264137</td>\n",
              "      <td id=\"T_5dc26_row6_col8\" class=\"data row6 col8\" >0.770360</td>\n",
              "      <td id=\"T_5dc26_row6_col9\" class=\"data row6 col9\" >0.743152</td>\n",
              "    </tr>\n",
              "    <tr>\n",
              "      <th id=\"T_5dc26_level0_row7\" class=\"row_heading level0 row7\" >Histogram-based Gradient Boosting Tree</th>\n",
              "      <td id=\"T_5dc26_row7_col0\" class=\"data row7 col0\" >0.723598</td>\n",
              "      <td id=\"T_5dc26_row7_col1\" class=\"data row7 col1\" >0.711071</td>\n",
              "      <td id=\"T_5dc26_row7_col2\" class=\"data row7 col2\" >0.189000</td>\n",
              "      <td id=\"T_5dc26_row7_col3\" class=\"data row7 col3\" >0.172984</td>\n",
              "      <td id=\"T_5dc26_row7_col4\" class=\"data row7 col4\" >0.735661</td>\n",
              "      <td id=\"T_5dc26_row7_col5\" class=\"data row7 col5\" >0.685189</td>\n",
              "      <td id=\"T_5dc26_row7_col6\" class=\"data row7 col6\" >0.300737</td>\n",
              "      <td id=\"T_5dc26_row7_col7\" class=\"data row7 col7\" >0.276230</td>\n",
              "      <td id=\"T_5dc26_row7_col8\" class=\"data row7 col8\" >0.805845</td>\n",
              "      <td id=\"T_5dc26_row7_col9\" class=\"data row7 col9\" >0.769701</td>\n",
              "    </tr>\n",
              "    <tr>\n",
              "      <th id=\"T_5dc26_level0_row8\" class=\"row_heading level0 row8\" >Tuned HGBoost</th>\n",
              "      <td id=\"T_5dc26_row8_col0\" class=\"data row8 col0\" >0.718334</td>\n",
              "      <td id=\"T_5dc26_row8_col1\" class=\"data row8 col1\" >0.708876</td>\n",
              "      <td id=\"T_5dc26_row8_col2\" class=\"data row8 col2\" >0.183239</td>\n",
              "      <td id=\"T_5dc26_row8_col3\" class=\"data row8 col3\" >0.172497</td>\n",
              "      <td id=\"T_5dc26_row8_col4\" class=\"data row8 col4\" >0.719108</td>\n",
              "      <td id=\"T_5dc26_row8_col5\" class=\"data row8 col5\" >0.689432</td>\n",
              "      <td id=\"T_5dc26_row8_col6\" class=\"data row8 col6\" >0.292057</td>\n",
              "      <td id=\"T_5dc26_row8_col7\" class=\"data row8 col7\" >0.275951</td>\n",
              "      <td id=\"T_5dc26_row8_col8\" class=\"data row8 col8\" >0.792967</td>\n",
              "      <td id=\"T_5dc26_row8_col9\" class=\"data row8 col9\" >0.767705</td>\n",
              "    </tr>\n",
              "    <tr>\n",
              "      <th id=\"T_5dc26_level0_row9\" class=\"row_heading level0 row9\" >XGBoost</th>\n",
              "      <td id=\"T_5dc26_row9_col0\" class=\"data row9 col0\" >0.925974</td>\n",
              "      <td id=\"T_5dc26_row9_col1\" class=\"data row9 col1\" >0.918638</td>\n",
              "      <td id=\"T_5dc26_row9_col2\" class=\"data row9 col2\" >0.812617</td>\n",
              "      <td id=\"T_5dc26_row9_col3\" class=\"data row9 col3\" >0.450980</td>\n",
              "      <td id=\"T_5dc26_row9_col4\" class=\"data row9 col4\" >0.108875</td>\n",
              "      <td id=\"T_5dc26_row9_col5\" class=\"data row9 col5\" >0.051121</td>\n",
              "      <td id=\"T_5dc26_row9_col6\" class=\"data row9 col6\" >0.192023</td>\n",
              "      <td id=\"T_5dc26_row9_col7\" class=\"data row9 col7\" >0.091833</td>\n",
              "      <td id=\"T_5dc26_row9_col8\" class=\"data row9 col8\" >0.866603</td>\n",
              "      <td id=\"T_5dc26_row9_col9\" class=\"data row9 col9\" >0.760074</td>\n",
              "    </tr>\n",
              "    <tr>\n",
              "      <th id=\"T_5dc26_level0_row10\" class=\"row_heading level0 row10\" >XGBoost Random Forest</th>\n",
              "      <td id=\"T_5dc26_row10_col0\" class=\"data row10 col0\" >0.964757</td>\n",
              "      <td id=\"T_5dc26_row10_col1\" class=\"data row10 col1\" >0.907647</td>\n",
              "      <td id=\"T_5dc26_row10_col2\" class=\"data row10 col2\" >0.873086</td>\n",
              "      <td id=\"T_5dc26_row10_col3\" class=\"data row10 col3\" >0.345455</td>\n",
              "      <td id=\"T_5dc26_row10_col4\" class=\"data row10 col4\" >0.659690</td>\n",
              "      <td id=\"T_5dc26_row10_col5\" class=\"data row10 col5\" >0.165084</td>\n",
              "      <td id=\"T_5dc26_row10_col6\" class=\"data row10 col6\" >0.751533</td>\n",
              "      <td id=\"T_5dc26_row10_col7\" class=\"data row10 col7\" >0.223407</td>\n",
              "      <td id=\"T_5dc26_row10_col8\" class=\"data row10 col8\" >0.988605</td>\n",
              "      <td id=\"T_5dc26_row10_col9\" class=\"data row10 col9\" >0.745909</td>\n",
              "    </tr>\n",
              "    <tr>\n",
              "      <th id=\"T_5dc26_level0_row11\" class=\"row_heading level0 row11\" >Gaussian</th>\n",
              "      <td id=\"T_5dc26_row11_col0\" class=\"data row11 col0\" >0.108545</td>\n",
              "      <td id=\"T_5dc26_row11_col1\" class=\"data row11 col1\" >0.108856</td>\n",
              "      <td id=\"T_5dc26_row11_col2\" class=\"data row11 col2\" >0.081954</td>\n",
              "      <td id=\"T_5dc26_row11_col3\" class=\"data row11 col3\" >0.081713</td>\n",
              "      <td id=\"T_5dc26_row11_col4\" class=\"data row11 col4\" >0.983498</td>\n",
              "      <td id=\"T_5dc26_row11_col5\" class=\"data row11 col5\" >0.984037</td>\n",
              "      <td id=\"T_5dc26_row11_col6\" class=\"data row11 col6\" >0.151300</td>\n",
              "      <td id=\"T_5dc26_row11_col7\" class=\"data row11 col7\" >0.150895</td>\n",
              "      <td id=\"T_5dc26_row11_col8\" class=\"data row11 col8\" >0.517714</td>\n",
              "      <td id=\"T_5dc26_row11_col9\" class=\"data row11 col9\" >0.518487</td>\n",
              "    </tr>\n",
              "    <tr>\n",
              "      <th id=\"T_5dc26_level0_row12\" class=\"row_heading level0 row12\" >Bernoulli</th>\n",
              "      <td id=\"T_5dc26_row12_col0\" class=\"data row12 col0\" >0.866504</td>\n",
              "      <td id=\"T_5dc26_row12_col1\" class=\"data row12 col1\" >0.865763</td>\n",
              "      <td id=\"T_5dc26_row12_col2\" class=\"data row12 col2\" >0.194351</td>\n",
              "      <td id=\"T_5dc26_row12_col3\" class=\"data row12 col3\" >0.193057</td>\n",
              "      <td id=\"T_5dc26_row12_col4\" class=\"data row12 col4\" >0.207386</td>\n",
              "      <td id=\"T_5dc26_row12_col5\" class=\"data row12 col5\" >0.210143</td>\n",
              "      <td id=\"T_5dc26_row12_col6\" class=\"data row12 col6\" >0.200657</td>\n",
              "      <td id=\"T_5dc26_row12_col7\" class=\"data row12 col7\" >0.201238</td>\n",
              "      <td id=\"T_5dc26_row12_col8\" class=\"data row12 col8\" >0.680752</td>\n",
              "      <td id=\"T_5dc26_row12_col9\" class=\"data row12 col9\" >0.680338</td>\n",
              "    </tr>\n",
              "  </tbody>\n",
              "</table>\n"
            ],
            "text/plain": [
              "<pandas.io.formats.style.Styler at 0x34323ddf0>"
            ]
          },
          "execution_count": 44,
          "metadata": {},
          "output_type": "execute_result"
        }
      ],
      "source": [
        "bnb_results.style.background_gradient(vmin=0, vmax=1)"
      ]
    },
    {
      "cell_type": "markdown",
      "metadata": {},
      "source": [
        "The highest test ROC AUC score, 2nd highest recall score, and 6th highest accuracy are from the Histogram-based Gradient Boosting Tree"
      ]
    },
    {
      "cell_type": "code",
      "execution_count": null,
      "metadata": {},
      "outputs": [
        {
          "name": "stdout",
          "output_type": "stream",
          "text": [
            "                    Train Evaluation                                       Test Evaluation                   \n",
            "              precision    recall  f1-score   support                precision    recall  f1-score   support \n",
            "                                                                                                             \n",
            "           0       0.97      0.72      0.82    226132             0       0.96      0.71      0.82     56554 \n",
            "           1       0.18      0.72      0.29     19876             1       0.17      0.69      0.28      4949 \n",
            "                                                                                                             \n",
            "    accuracy                           0.72    246008      accuracy                           0.71     61503 \n",
            "   macro avg       0.58      0.72      0.56    246008     macro avg       0.57      0.70      0.55     61503 \n",
            "weighted avg       0.90      0.72      0.78    246008  weighted avg       0.90      0.71      0.77     61503 \n"
          ]
        },
        {
          "data": {
            "image/png": "[encoded data removed]",
            "text/plain": [
              "<Figure size 800x400 with 4 Axes>"
            ]
          },
          "metadata": {},
          "output_type": "display_data"
        },
        {
          "data": {
            "text/html": [
              "<style type=\"text/css\">\n",
              "#T_f1c92_row0_col0 {\n",
              "  background-color: #1278b4;\n",
              "  color: #f1f1f1;\n",
              "}\n",
              "#T_f1c92_row0_col1 {\n",
              "  background-color: #157ab5;\n",
              "  color: #f1f1f1;\n",
              "}\n",
              "#T_f1c92_row0_col2 {\n",
              "  background-color: #e0dded;\n",
              "  color: #000000;\n",
              "}\n",
              "#T_f1c92_row0_col3 {\n",
              "  background-color: #e1dfed;\n",
              "  color: #000000;\n",
              "}\n",
              "#T_f1c92_row0_col4 {\n",
              "  background-color: #1077b4;\n",
              "  color: #f1f1f1;\n",
              "}\n",
              "#T_f1c92_row0_col5 {\n",
              "  background-color: #1c7fb8;\n",
              "  color: #f1f1f1;\n",
              "}\n",
              "#T_f1c92_row0_col6 {\n",
              "  background-color: #c2cbe2;\n",
              "  color: #000000;\n",
              "}\n",
              "#T_f1c92_row0_col7 {\n",
              "  background-color: #c8cde4;\n",
              "  color: #000000;\n",
              "}\n",
              "#T_f1c92_row0_col8 {\n",
              "  background-color: #0569a4;\n",
              "  color: #f1f1f1;\n",
              "}\n",
              "#T_f1c92_row0_col9 {\n",
              "  background-color: #056dab;\n",
              "  color: #f1f1f1;\n",
              "}\n",
              "</style>\n",
              "<table id=\"T_f1c92\">\n",
              "  <thead>\n",
              "    <tr>\n",
              "      <th class=\"blank level0\" >&nbsp;</th>\n",
              "      <th id=\"T_f1c92_level0_col0\" class=\"col_heading level0 col0\" >train_acc</th>\n",
              "      <th id=\"T_f1c92_level0_col1\" class=\"col_heading level0 col1\" >test_acc</th>\n",
              "      <th id=\"T_f1c92_level0_col2\" class=\"col_heading level0 col2\" >train_prec</th>\n",
              "      <th id=\"T_f1c92_level0_col3\" class=\"col_heading level0 col3\" >test_prec</th>\n",
              "      <th id=\"T_f1c92_level0_col4\" class=\"col_heading level0 col4\" >train_recall</th>\n",
              "      <th id=\"T_f1c92_level0_col5\" class=\"col_heading level0 col5\" >test_recall</th>\n",
              "      <th id=\"T_f1c92_level0_col6\" class=\"col_heading level0 col6\" >train_f1</th>\n",
              "      <th id=\"T_f1c92_level0_col7\" class=\"col_heading level0 col7\" >test_f1</th>\n",
              "      <th id=\"T_f1c92_level0_col8\" class=\"col_heading level0 col8\" >train_auc</th>\n",
              "      <th id=\"T_f1c92_level0_col9\" class=\"col_heading level0 col9\" >test_auc</th>\n",
              "    </tr>\n",
              "  </thead>\n",
              "  <tbody>\n",
              "    <tr>\n",
              "      <th id=\"T_f1c92_level0_row0\" class=\"row_heading level0 row0\" >Tuned HGBoost</th>\n",
              "      <td id=\"T_f1c92_row0_col0\" class=\"data row0 col0\" >0.718334</td>\n",
              "      <td id=\"T_f1c92_row0_col1\" class=\"data row0 col1\" >0.708876</td>\n",
              "      <td id=\"T_f1c92_row0_col2\" class=\"data row0 col2\" >0.183239</td>\n",
              "      <td id=\"T_f1c92_row0_col3\" class=\"data row0 col3\" >0.172497</td>\n",
              "      <td id=\"T_f1c92_row0_col4\" class=\"data row0 col4\" >0.719108</td>\n",
              "      <td id=\"T_f1c92_row0_col5\" class=\"data row0 col5\" >0.689432</td>\n",
              "      <td id=\"T_f1c92_row0_col6\" class=\"data row0 col6\" >0.292057</td>\n",
              "      <td id=\"T_f1c92_row0_col7\" class=\"data row0 col7\" >0.275951</td>\n",
              "      <td id=\"T_f1c92_row0_col8\" class=\"data row0 col8\" >0.792967</td>\n",
              "      <td id=\"T_f1c92_row0_col9\" class=\"data row0 col9\" >0.767705</td>\n",
              "    </tr>\n",
              "  </tbody>\n",
              "</table>\n"
            ],
            "text/plain": [
              "<pandas.io.formats.style.Styler at 0x32152bc20>"
            ]
          },
          "execution_count": 55,
          "metadata": {},
          "output_type": "execute_result"
        }
      ],
      "source": [
        "eval_classification(hgb_3, X_train, y_train, X_test, y_test,\n",
        "                                  model_name=\"Tuned HGBoost\").style.background_gradient(vmin=0, vmax=1)"
      ]
    },
    {
      "cell_type": "markdown",
      "metadata": {},
      "source": [
        "## Import test data and preliminary merge"
      ]
    },
    {
      "cell_type": "code",
      "execution_count": null,
      "metadata": {},
      "outputs": [],
      "source": [
        "test_data_file = \"application_test.csv\"\n",
        "application_test = pd.read_csv(input_path + test_data_file)\n",
        "\n",
        "bureau_loans_and_balances = pd.read_csv(lib_path + \"bureau_loans_and_balances.csv\")\n",
        "\n",
        "installments_payments = pd.read_csv(input_path + \"installments_payments.csv\")\n",
        "POS_CASH_balance = pd.read_csv(input_path + \"POS_CASH_balance.csv\")\n",
        "credit_card_balance = pd.read_csv(input_path + \"credit_card_balance.csv\")\n",
        "\n",
        "application_test = pd.merge(application_test, bureau_loans_and_balances, how=\"left\", on=\"SK_ID_CURR\")\n",
        "\n",
        "idx = pd.DataFrame(application_test['SK_ID_CURR'])\n"
      ]
    },
    {
      "cell_type": "markdown",
      "metadata": {},
      "source": [
        "## Processing"
      ]
    },
    {
      "cell_type": "code",
      "execution_count": null,
      "metadata": {},
      "outputs": [],
      "source": [
        "# INSTALL steps\n",
        "installments_payments.drop(columns=\"SK_ID_PREV\", inplace=True)\n",
        "installments_payments.columns = [col + \"_INSTALL\" for col in installments_payments.columns]\n",
        "merge_INSTALL = pd.merge(idx, installments_payments, how=\"inner\", left_on=\"SK_ID_CURR\", right_on=\"SK_ID_CURR_INSTALL\")\n",
        "merge_INSTALL.drop(columns=\"SK_ID_CURR_INSTALL\", inplace=True)\n",
        "merge_INSTALL = merge_INSTALL.sort_values(by=\"NUM_INSTALMENT_NUMBER_INSTALL\", ascending=False).drop_duplicates(subset=[\"SK_ID_CURR\"])\n",
        "\n",
        "# POS steps\n",
        "POS_CASH_balance.drop(columns=\"SK_ID_PREV\", inplace=True)\n",
        "POS_CASH_balance.columns = [col + \"_POS\" for col in POS_CASH_balance.columns]\n",
        "merge_POS = pd.merge(idx, POS_CASH_balance, how=\"inner\", left_on=\"SK_ID_CURR\", right_on=\"SK_ID_CURR_POS\")\n",
        "merge_POS.drop(columns=\"SK_ID_CURR_POS\", inplace=True)\n",
        "merge_POS = merge_POS.sort_values(by=\"MONTHS_BALANCE_POS\", ascending=False).drop_duplicates(subset=[\"SK_ID_CURR\"])\n",
        "\n",
        "# CC step\n",
        "credit_card_balance.drop(columns=\"SK_ID_PREV\", inplace=True)\n",
        "credit_card_balance.columns = [col + \"_CC\" for col in credit_card_balance.columns]\n",
        "merge_CC = pd.merge(idx, credit_card_balance, how=\"inner\", left_on=\"SK_ID_CURR\", right_on=\"SK_ID_CURR_CC\")\n",
        "merge_CC.drop(columns=\"SK_ID_CURR_CC\", inplace=True)\n",
        "merge_CC = merge_CC.sort_values(by=\"MONTHS_BALANCE_CC\", ascending=False).drop_duplicates(subset=[\"SK_ID_CURR\"])\n",
        "\n",
        "# Merge down filtered data\n",
        "balances_and_payments = pd.merge(merge_INSTALL, merge_POS, how=\"outer\", left_on=\"SK_ID_CURR\", right_on=\"SK_ID_CURR\")\n",
        "balances_and_payments = pd.merge(balances_and_payments, merge_CC, how=\"outer\", left_on=\"SK_ID_CURR\", right_on=\"SK_ID_CURR\")\n",
        "\n",
        "# Drop object columns\n",
        "# balances_and_payments.select_dtypes(include=\"object\")\n",
        "balances_and_payments.drop(labels=[\"NAME_CONTRACT_STATUS_POS\", \"NAME_CONTRACT_STATUS_CC\"], axis=1, inplace=True)\n",
        "\n",
        "# Merge down onto test file\n",
        "application_test = pd.merge(application_test, balances_and_payments, how=\"left\", on=\"SK_ID_CURR\")"
      ]
    },
    {
      "cell_type": "code",
      "execution_count": null,
      "metadata": {},
      "outputs": [],
      "source": [
        "# pop off index ids\n",
        "ids = application_test.pop(\"SK_ID_CURR\")\n",
        "\n",
        "# transform data\n",
        "application_test = preprocessor.transform(application_test)\n",
        "\n",
        "# drop columns with collinear relationships (Pearson's correlation coefficients > 0.8)\n",
        "application_test.drop(columns=non_co_cols, inplace=True)\n"
      ]
    },
    {
      "cell_type": "markdown",
      "metadata": {},
      "source": [
        "## Output"
      ]
    },
    {
      "cell_type": "code",
      "execution_count": null,
      "metadata": {},
      "outputs": [],
      "source": [
        "# make predictions\n",
        "preds = hgb_3.predict_proba(application_test)[:,1]\n",
        "\n",
        "output = pd.DataFrame({\"SK_ID_CURR\": ids,\n",
        "                       \"TARGET\": preds})"
      ]
    },
    {
      "cell_type": "code",
      "execution_count": null,
      "metadata": {},
      "outputs": [
        {
          "data": {
            "text/html": [
              "<div>\n",
              "<style scoped>\n",
              "    .dataframe tbody tr th:only-of-type {\n",
              "        vertical-align: middle;\n",
              "    }\n",
              "\n",
              "    .dataframe tbody tr th {\n",
              "        vertical-align: top;\n",
              "    }\n",
              "\n",
              "    .dataframe thead th {\n",
              "        text-align: right;\n",
              "    }\n",
              "</style>\n",
              "<table border=\"1\" class=\"dataframe\">\n",
              "  <thead>\n",
              "    <tr style=\"text-align: right;\">\n",
              "      <th></th>\n",
              "      <th>SK_ID_CURR</th>\n",
              "      <th>TARGET</th>\n",
              "    </tr>\n",
              "  </thead>\n",
              "  <tbody>\n",
              "    <tr>\n",
              "      <th>0</th>\n",
              "      <td>100001</td>\n",
              "      <td>0.349160</td>\n",
              "    </tr>\n",
              "    <tr>\n",
              "      <th>1</th>\n",
              "      <td>100005</td>\n",
              "      <td>0.643881</td>\n",
              "    </tr>\n",
              "    <tr>\n",
              "      <th>2</th>\n",
              "      <td>100013</td>\n",
              "      <td>0.178695</td>\n",
              "    </tr>\n",
              "    <tr>\n",
              "      <th>3</th>\n",
              "      <td>100028</td>\n",
              "      <td>0.232809</td>\n",
              "    </tr>\n",
              "    <tr>\n",
              "      <th>4</th>\n",
              "      <td>100038</td>\n",
              "      <td>0.668103</td>\n",
              "    </tr>\n",
              "    <tr>\n",
              "      <th>...</th>\n",
              "      <td>...</td>\n",
              "      <td>...</td>\n",
              "    </tr>\n",
              "    <tr>\n",
              "      <th>48739</th>\n",
              "      <td>456221</td>\n",
              "      <td>0.341861</td>\n",
              "    </tr>\n",
              "    <tr>\n",
              "      <th>48740</th>\n",
              "      <td>456222</td>\n",
              "      <td>0.420064</td>\n",
              "    </tr>\n",
              "    <tr>\n",
              "      <th>48741</th>\n",
              "      <td>456223</td>\n",
              "      <td>0.282089</td>\n",
              "    </tr>\n",
              "    <tr>\n",
              "      <th>48742</th>\n",
              "      <td>456224</td>\n",
              "      <td>0.337220</td>\n",
              "    </tr>\n",
              "    <tr>\n",
              "      <th>48743</th>\n",
              "      <td>456250</td>\n",
              "      <td>0.641635</td>\n",
              "    </tr>\n",
              "  </tbody>\n",
              "</table>\n",
              "<p>48744 rows × 2 columns</p>\n",
              "</div>"
            ],
            "text/plain": [
              "       SK_ID_CURR    TARGET\n",
              "0          100001  0.349160\n",
              "1          100005  0.643881\n",
              "2          100013  0.178695\n",
              "3          100028  0.232809\n",
              "4          100038  0.668103\n",
              "...           ...       ...\n",
              "48739      456221  0.341861\n",
              "48740      456222  0.420064\n",
              "48741      456223  0.282089\n",
              "48742      456224  0.337220\n",
              "48743      456250  0.641635\n",
              "\n",
              "[48744 rows x 2 columns]"
            ]
          },
          "execution_count": 62,
          "metadata": {},
          "output_type": "execute_result"
        }
      ],
      "source": [
        "output"
      ]
    },
    {
      "cell_type": "markdown",
      "metadata": {
        "id": "D8XomzSqhefN"
      },
      "source": [
        "## Export submission"
      ]
    },
    {
      "cell_type": "code",
      "execution_count": null,
      "metadata": {
        "colab": {
          "base_uri": "https://localhost:8080/",
          "height": 201
        },
        "id": "Wv-YdXQ2hefN",
        "outputId": "19e55608-6f37-45e9-e563-828e41ef1ab1"
      },
      "outputs": [
        {
          "data": {
            "text/html": [
              "<div>\n",
              "<style scoped>\n",
              "    .dataframe tbody tr th:only-of-type {\n",
              "        vertical-align: middle;\n",
              "    }\n",
              "\n",
              "    .dataframe tbody tr th {\n",
              "        vertical-align: top;\n",
              "    }\n",
              "\n",
              "    .dataframe thead th {\n",
              "        text-align: right;\n",
              "    }\n",
              "</style>\n",
              "<table border=\"1\" class=\"dataframe\">\n",
              "  <thead>\n",
              "    <tr style=\"text-align: right;\">\n",
              "      <th></th>\n",
              "      <th>SK_ID_CURR</th>\n",
              "      <th>TARGET</th>\n",
              "    </tr>\n",
              "  </thead>\n",
              "  <tbody>\n",
              "    <tr>\n",
              "      <th>0</th>\n",
              "      <td>100001</td>\n",
              "      <td>0.349160</td>\n",
              "    </tr>\n",
              "    <tr>\n",
              "      <th>1</th>\n",
              "      <td>100005</td>\n",
              "      <td>0.643881</td>\n",
              "    </tr>\n",
              "    <tr>\n",
              "      <th>2</th>\n",
              "      <td>100013</td>\n",
              "      <td>0.178695</td>\n",
              "    </tr>\n",
              "    <tr>\n",
              "      <th>3</th>\n",
              "      <td>100028</td>\n",
              "      <td>0.232809</td>\n",
              "    </tr>\n",
              "    <tr>\n",
              "      <th>4</th>\n",
              "      <td>100038</td>\n",
              "      <td>0.668103</td>\n",
              "    </tr>\n",
              "  </tbody>\n",
              "</table>\n",
              "</div>"
            ],
            "text/plain": [
              "   SK_ID_CURR    TARGET\n",
              "0      100001  0.349160\n",
              "1      100005  0.643881\n",
              "2      100013  0.178695\n",
              "3      100028  0.232809\n",
              "4      100038  0.668103"
            ]
          },
          "execution_count": 63,
          "metadata": {},
          "output_type": "execute_result"
        }
      ],
      "source": [
        "sample_submission_file = \"sample_submission.csv\"\n",
        "sample_submission_df = pd.read_csv(input_path + sample_submission_file)\n",
        "sample_submission_df[\"TARGET\"] = preds\n",
        "submission_path = \"submissions/\"\n",
        "sample_submission_df.to_csv(submission_path + \"02_hgb_3_kaggle.csv\", index=False)\n",
        "sample_submission_df.head()"
      ]
    },
    {
      "cell_type": "markdown",
      "metadata": {},
      "source": [
        "# Save model for future use"
      ]
    },
    {
      "cell_type": "code",
      "execution_count": null,
      "metadata": {},
      "outputs": [],
      "source": [
        "# # saving model to lib folder for future use\n",
        "# to_save = {\"model\" : calibrated_clf}\n",
        "# joblib_filename = \"modelling.joblib\"\n",
        "\n",
        "# joblib.dump(to_save, src_path + joblib_filename)"
      ]
    }
  ],
  "metadata": {
    "colab": {
      "provenance": []
    },
    "kernelspec": {
      "display_name": "datascience",
      "language": "python",
      "name": "python3"
    },
    "language_info": {
      "codemirror_mode": {
        "name": "ipython",
        "version": 3
      },
      "file_extension": ".py",
      "mimetype": "text/x-python",
      "name": "python",
      "nbconvert_exporter": "python",
      "pygments_lexer": "ipython3",
      "version": "3.12.9"
    }
  },
  "nbformat": 4,
  "nbformat_minor": 0
}
