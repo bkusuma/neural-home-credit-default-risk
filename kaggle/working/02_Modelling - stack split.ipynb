{
  "cells": [
    {
      "cell_type": "markdown",
      "metadata": {},
      "source": [
        "# Paths"
      ]
    },
    {
      "cell_type": "code",
      "execution_count": 1,
      "metadata": {},
      "outputs": [],
      "source": [
        "## local machine\n",
        "src_path = '../src'\n",
        "lib_path = '../lib/'\n",
        "input_path = '../../kaggle/input/home-credit-default-risk/'"
      ]
    },
    {
      "cell_type": "code",
      "execution_count": 2,
      "metadata": {
        "colab": {
          "base_uri": "https://localhost:8080/"
        },
        "id": "m91X3UCehefH",
        "outputId": "9325da7e-2173-4955-fea2-e88fa0402074"
      },
      "outputs": [],
      "source": [
        "# # Google Colab\n",
        "# # Load the Drive helper and mount\n",
        "# from google.colab import drive\n",
        "\n",
        "# # This will prompt for authorization.\n",
        "# drive.mount('/content/drive')\n",
        "\n",
        "# # After executing above, Drive files will be accessible in path \"/content/drive/MyDrive\"\n",
        "\n",
        "# # Google Colab\n",
        "# src_path = '/content/drive/MyDrive/kaggle/src'\n",
        "# lib_path = '/content/drive/MyDrive/kaggle/lib'\n",
        "# input_path = '/content/drive/MyDrive/kaggle/input/home-credit-default-risk/'"
      ]
    },
    {
      "cell_type": "code",
      "execution_count": 3,
      "metadata": {},
      "outputs": [],
      "source": [
        "# # Kaggle\n",
        "# src_path = '/kaggle/src'\n",
        "# lib_path = '/kaggle/lib/'\n",
        "# input_path = '/kaggle/input/home-credit-default-risk/'"
      ]
    },
    {
      "cell_type": "markdown",
      "metadata": {
        "id": "nv8ivy2MhefE"
      },
      "source": [
        "# Imports"
      ]
    },
    {
      "cell_type": "code",
      "execution_count": 4,
      "metadata": {
        "id": "6b8K-qBlhefF"
      },
      "outputs": [],
      "source": [
        "import pandas as pd\n",
        "pd.set_option(\"display.max_columns\", 200)\n",
        "\n",
        "import numpy as np\n",
        "\n",
        "import matplotlib.pyplot as plt\n",
        "\n",
        "import seaborn as sns\n",
        "\n",
        "from sklearn.model_selection import train_test_split, cross_validate, GridSearchCV, TunedThresholdClassifierCV\n",
        "from sklearn.preprocessing import StandardScaler, OneHotEncoder\n",
        "from sklearn.impute import SimpleImputer\n",
        "from sklearn.compose import ColumnTransformer, make_column_selector, make_column_transformer\n",
        "from sklearn.pipeline import Pipeline\n",
        "from sklearn.linear_model import LogisticRegression, LogisticRegressionCV, RidgeClassifier, RidgeClassifierCV\n",
        "from sklearn.neighbors import KNeighborsClassifier\n",
        "from sklearn.metrics import roc_auc_score, make_scorer, RocCurveDisplay, PrecisionRecallDisplay\n",
        "from sklearn.tree import DecisionTreeClassifier\n",
        "from sklearn.svm import LinearSVC, SVC\n",
        "from sklearn.ensemble import RandomForestClassifier, HistGradientBoostingClassifier, StackingClassifier, AdaBoostClassifier\n",
        "from sklearn.naive_bayes import GaussianNB, BernoulliNB\n",
        "from sklearn.calibration import CalibratedClassifierCV\n",
        "from sklearn.frozen import FrozenEstimator\n",
        "\n",
        "from sklearn import set_config\n",
        "set_config(transform_output=\"pandas\")\n",
        "\n",
        "from xgboost import XGBClassifier, XGBRFClassifier\n",
        "\n",
        "from lightgbm import LGBMClassifier\n",
        "\n",
        "from category_encoders import HashingEncoder\n",
        "\n",
        "import joblib\n",
        "saved = joblib.load(lib_path + \"data_processing.joblib\")\n",
        "preprocessor = saved[\"preprocessor\"]\n",
        "non_co_cols = saved[\"non_co_cols\"]\n",
        "merged_application_test = saved[\"merged_application_train\"]\n",
        "\n",
        "import sys\n",
        "sys.path.insert(0, src_path)\n",
        "from eval_classification import eval_classification\n",
        "del sys.path[0]"
      ]
    },
    {
      "cell_type": "code",
      "execution_count": 97,
      "metadata": {
        "id": "6dSP9mqFhefH"
      },
      "outputs": [],
      "source": [
        "# split data\n",
        "X = merged_application_test.drop(columns=[\"TARGET\", \"SK_ID_CURR\"])\n",
        "y = merged_application_test[\"TARGET\"].copy()"
      ]
    },
    {
      "cell_type": "code",
      "execution_count": null,
      "metadata": {
        "id": "Q0Ke0pufhefI"
      },
      "outputs": [],
      "source": [
        "# split data 70/20 for training and testing and hold 5 and 5\n",
        "X_train, X_test, y_train, y_test = train_test_split(X, y, train_size=0.7, test_size=0.3, random_state=42)\n",
        "X_test, X_stack, y_test, y_stack = train_test_split(X_test, y_test, train_size=(2/3), test_size=(1/3), random_state=42)\n",
        "X_stack, X_calib, y_stack, y_calib = train_test_split(X_stack, y_stack, train_size=0.5, test_size=0.5, random_state=42)"
      ]
    },
    {
      "cell_type": "code",
      "execution_count": null,
      "metadata": {
        "id": "9Rqa7kP1hefI"
      },
      "outputs": [],
      "source": [
        "# fit data on preprocessor\n",
        "preprocessor.fit(X_train, y_train)\n",
        "\n",
        "# transform data\n",
        "X_train = preprocessor.transform(X_train)\n",
        "X_test = preprocessor.transform(X_test)\n",
        "X_stack = preprocessor.transform(X_stack)\n",
        "X_calib = preprocessor.transform(X_calib)"
      ]
    },
    {
      "cell_type": "code",
      "execution_count": null,
      "metadata": {},
      "outputs": [],
      "source": [
        "# drop columns with collinear relationships (Pearson's correlation coefficients > 0.8)\n",
        "X_train.drop(columns=non_co_cols, inplace=True)\n",
        "X_test.drop(columns=non_co_cols, inplace=True)\n",
        "X_stack.drop(columns=non_co_cols, inplace=True)\n",
        "X_calib.drop(columns=non_co_cols, inplace=True)"
      ]
    },
    {
      "cell_type": "markdown",
      "metadata": {
        "id": "cck_179ehefI"
      },
      "source": [
        "# Model Testing"
      ]
    },
    {
      "cell_type": "markdown",
      "metadata": {
        "id": "axrY81pOhefI"
      },
      "source": [
        "## Logistic Regression"
      ]
    },
    {
      "cell_type": "code",
      "execution_count": null,
      "metadata": {
        "colab": {
          "base_uri": "https://localhost:8080/",
          "height": 551
        },
        "id": "AohnySevhefI",
        "outputId": "649c88e5-f473-4f2a-fd8a-fc9085daabe1"
      },
      "outputs": [
        {
          "name": "stdout",
          "output_type": "stream",
          "text": [
            "                    Train Evaluation                                       Test Evaluation                   \n",
            "              precision    recall  f1-score   support                precision    recall  f1-score   support \n",
            "                                                                                                             \n",
            "           0       0.96      0.69      0.80    197845             0       0.96      0.69      0.80     56514 \n",
            "           1       0.16      0.67      0.26     17412             1       0.16      0.67      0.26      4988 \n",
            "                                                                                                             \n",
            "    accuracy                           0.69    215257      accuracy                           0.69     61502 \n",
            "   macro avg       0.56      0.68      0.53    215257     macro avg       0.56      0.68      0.53     61502 \n",
            "weighted avg       0.90      0.69      0.76    215257  weighted avg       0.89      0.69      0.76     61502 \n"
          ]
        },
        {
          "data": {
            "image/png": "[encoded data removed]",
            "text/plain": [
              "<Figure size 800x400 with 4 Axes>"
            ]
          },
          "metadata": {},
          "output_type": "display_data"
        }
      ],
      "source": [
        "lr = LogisticRegression(class_weight=\"balanced\", random_state=42).fit(X_train, y_train)\n",
        "\n",
        "lr_results = eval_classification(lr, X_train, y_train, X_test, y_test,\n",
        "                              model_name=\"Logistic Regression\")"
      ]
    },
    {
      "cell_type": "code",
      "execution_count": null,
      "metadata": {
        "colab": {
          "base_uri": "https://localhost:8080/",
          "height": 551
        },
        "id": "DDW95loahefI",
        "outputId": "588e23a1-60bc-4f02-9852-9f6dc6e5d082"
      },
      "outputs": [
        {
          "name": "stdout",
          "output_type": "stream",
          "text": [
            "                    Train Evaluation                                       Test Evaluation                   \n",
            "              precision    recall  f1-score   support                precision    recall  f1-score   support \n",
            "                                                                                                             \n",
            "           0       0.96      0.69      0.80    197845             0       0.96      0.69      0.80     56514 \n",
            "           1       0.16      0.67      0.26     17412             1       0.16      0.67      0.26      4988 \n",
            "                                                                                                             \n",
            "    accuracy                           0.69    215257      accuracy                           0.69     61502 \n",
            "   macro avg       0.56      0.68      0.53    215257     macro avg       0.56      0.68      0.53     61502 \n",
            "weighted avg       0.90      0.69      0.76    215257  weighted avg       0.89      0.69      0.76     61502 \n"
          ]
        },
        {
          "data": {
            "image/png": "[encoded data removed]",
            "text/plain": [
              "<Figure size 800x400 with 4 Axes>"
            ]
          },
          "metadata": {},
          "output_type": "display_data"
        }
      ],
      "source": [
        "lr_tuned = LogisticRegressionCV(Cs=9, max_iter=1000, \n",
        "                                class_weight=\"balanced\", scoring=\"roc_auc\", \n",
        "                                n_jobs=-1, random_state=42).fit(X_train, y_train)\n",
        "\n",
        "logreg_cv_results = eval_classification(logreg_cv, X_train, y_train, X_test, y_test,\n",
        "                              model_name=\"Logistic Regression CV\", results_frame=logreg_results)"
      ]
    },
    {
      "cell_type": "code",
      "execution_count": 11,
      "metadata": {},
      "outputs": [
        {
          "data": {
            "text/html": [
              "<div>\n",
              "<style scoped>\n",
              "    .dataframe tbody tr th:only-of-type {\n",
              "        vertical-align: middle;\n",
              "    }\n",
              "\n",
              "    .dataframe tbody tr th {\n",
              "        vertical-align: top;\n",
              "    }\n",
              "\n",
              "    .dataframe thead th {\n",
              "        text-align: right;\n",
              "    }\n",
              "</style>\n",
              "<table border=\"1\" class=\"dataframe\">\n",
              "  <thead>\n",
              "    <tr style=\"text-align: right;\">\n",
              "      <th></th>\n",
              "      <th>train_acc</th>\n",
              "      <th>test_acc</th>\n",
              "      <th>train_prec</th>\n",
              "      <th>test_prec</th>\n",
              "      <th>train_recall</th>\n",
              "      <th>test_recall</th>\n",
              "      <th>train_f1</th>\n",
              "      <th>test_f1</th>\n",
              "      <th>train_auc</th>\n",
              "      <th>test_auc</th>\n",
              "    </tr>\n",
              "  </thead>\n",
              "  <tbody>\n",
              "    <tr>\n",
              "      <th>Logistic Regression</th>\n",
              "      <td>0.688647</td>\n",
              "      <td>0.686970</td>\n",
              "      <td>0.160524</td>\n",
              "      <td>0.158756</td>\n",
              "      <td>0.673616</td>\n",
              "      <td>0.665196</td>\n",
              "      <td>0.259265</td>\n",
              "      <td>0.256335</td>\n",
              "      <td>0.745769</td>\n",
              "      <td>0.739989</td>\n",
              "    </tr>\n",
              "    <tr>\n",
              "      <th>Logistic Regression CV</th>\n",
              "      <td>0.688749</td>\n",
              "      <td>0.686758</td>\n",
              "      <td>0.160526</td>\n",
              "      <td>0.158690</td>\n",
              "      <td>0.673329</td>\n",
              "      <td>0.665397</td>\n",
              "      <td>0.259246</td>\n",
              "      <td>0.256264</td>\n",
              "      <td>0.745610</td>\n",
              "      <td>0.739922</td>\n",
              "    </tr>\n",
              "  </tbody>\n",
              "</table>\n",
              "</div>"
            ],
            "text/plain": [
              "                        train_acc  test_acc  train_prec  test_prec  \\\n",
              "Logistic Regression      0.688647  0.686970    0.160524   0.158756   \n",
              "Logistic Regression CV   0.688749  0.686758    0.160526   0.158690   \n",
              "\n",
              "                        train_recall  test_recall  train_f1   test_f1  \\\n",
              "Logistic Regression         0.673616     0.665196  0.259265  0.256335   \n",
              "Logistic Regression CV      0.673329     0.665397  0.259246  0.256264   \n",
              "\n",
              "                        train_auc  test_auc  \n",
              "Logistic Regression      0.745769  0.739989  \n",
              "Logistic Regression CV   0.745610  0.739922  "
            ]
          },
          "execution_count": 11,
          "metadata": {},
          "output_type": "execute_result"
        }
      ],
      "source": [
        "logreg_cv_results"
      ]
    },
    {
      "cell_type": "code",
      "execution_count": 12,
      "metadata": {},
      "outputs": [
        {
          "data": {
            "text/plain": [
              "{'Cs': 9,\n",
              " 'class_weight': 'balanced',\n",
              " 'cv': None,\n",
              " 'dual': False,\n",
              " 'fit_intercept': True,\n",
              " 'intercept_scaling': 1.0,\n",
              " 'l1_ratios': None,\n",
              " 'max_iter': 1000,\n",
              " 'multi_class': 'deprecated',\n",
              " 'n_jobs': -1,\n",
              " 'penalty': 'l2',\n",
              " 'random_state': 42,\n",
              " 'refit': True,\n",
              " 'scoring': 'roc_auc',\n",
              " 'solver': 'lbfgs',\n",
              " 'tol': 0.0001,\n",
              " 'verbose': 0}"
            ]
          },
          "execution_count": 12,
          "metadata": {},
          "output_type": "execute_result"
        }
      ],
      "source": [
        "logreg_cv.get_params()"
      ]
    },
    {
      "cell_type": "markdown",
      "metadata": {
        "id": "1Kh2Gj_EhefJ"
      },
      "source": [
        "## Decision Trees"
      ]
    },
    {
      "cell_type": "code",
      "execution_count": null,
      "metadata": {
        "colab": {
          "base_uri": "https://localhost:8080/",
          "height": 555
        },
        "id": "6ztaskLdhefJ",
        "outputId": "6a73a290-8983-4822-ed92-4bf120942ecf"
      },
      "outputs": [
        {
          "name": "stdout",
          "output_type": "stream",
          "text": [
            "                    Train Evaluation                                       Test Evaluation                   \n",
            "              precision    recall  f1-score   support                precision    recall  f1-score   support \n",
            "                                                                                                             \n",
            "           0       1.00      1.00      1.00    197845             0       0.93      0.92      0.92     56514 \n",
            "           1       1.00      1.00      1.00     17412             1       0.15      0.16      0.15      4988 \n",
            "                                                                                                             \n",
            "    accuracy                           1.00    215257      accuracy                           0.86     61502 \n",
            "   macro avg       1.00      1.00      1.00    215257     macro avg       0.54      0.54      0.54     61502 \n",
            "weighted avg       1.00      1.00      1.00    215257  weighted avg       0.86      0.86      0.86     61502 \n"
          ]
        },
        {
          "data": {
            "image/png": "[encoded data removed]",
            "text/plain": [
              "<Figure size 800x400 with 4 Axes>"
            ]
          },
          "metadata": {},
          "output_type": "display_data"
        }
      ],
      "source": [
        "dt = DecisionTreeClassifier(random_state=42, class_weight=\"balanced\").fit(X_train, y_train)\n",
        "\n",
        "dt_results = eval_classification(dt, X_train, y_train, X_test, y_test,\n",
        "                                  model_name=\"Decision Tree\", results_frame=logreg_cv_results)"
      ]
    },
    {
      "cell_type": "code",
      "execution_count": 14,
      "metadata": {
        "colab": {
          "base_uri": "https://localhost:8080/"
        },
        "id": "gGXXilYqq-lX",
        "outputId": "1a64287d-3db4-4e84-83b7-5f8d1cb4298b"
      },
      "outputs": [
        {
          "data": {
            "text/plain": [
              "84"
            ]
          },
          "execution_count": 14,
          "metadata": {},
          "output_type": "execute_result"
        }
      ],
      "source": [
        "dt.get_depth()"
      ]
    },
    {
      "cell_type": "code",
      "execution_count": 15,
      "metadata": {},
      "outputs": [
        {
          "data": {
            "text/plain": [
              "{'ccp_alpha': 0.0,\n",
              " 'class_weight': 'balanced',\n",
              " 'criterion': 'gini',\n",
              " 'max_depth': None,\n",
              " 'max_features': None,\n",
              " 'max_leaf_nodes': None,\n",
              " 'min_impurity_decrease': 0.0,\n",
              " 'min_samples_leaf': 1,\n",
              " 'min_samples_split': 2,\n",
              " 'min_weight_fraction_leaf': 0.0,\n",
              " 'monotonic_cst': None,\n",
              " 'random_state': 42,\n",
              " 'splitter': 'best'}"
            ]
          },
          "execution_count": 15,
          "metadata": {},
          "output_type": "execute_result"
        }
      ],
      "source": [
        "dt.get_params()"
      ]
    },
    {
      "cell_type": "code",
      "execution_count": null,
      "metadata": {
        "colab": {
          "base_uri": "https://localhost:8080/",
          "height": 551
        },
        "id": "v9c1wyQ8hefJ",
        "outputId": "f97c64b9-c300-4209-c743-d6bd8a9fce25"
      },
      "outputs": [
        {
          "name": "stdout",
          "output_type": "stream",
          "text": [
            "                    Train Evaluation                                       Test Evaluation                   \n",
            "              precision    recall  f1-score   support                precision    recall  f1-score   support \n",
            "                                                                                                             \n",
            "           0       0.96      0.71      0.82    197845             0       0.95      0.71      0.82     56514 \n",
            "           1       0.16      0.64      0.26     17412             1       0.16      0.60      0.25      4988 \n",
            "                                                                                                             \n",
            "    accuracy                           0.71    215257      accuracy                           0.70     61502 \n",
            "   macro avg       0.56      0.67      0.54    215257     macro avg       0.55      0.66      0.53     61502 \n",
            "weighted avg       0.89      0.71      0.77    215257  weighted avg       0.89      0.70      0.77     61502 \n"
          ]
        },
        {
          "data": {
            "image/png": "[encoded data removed]",
            "text/plain": [
              "<Figure size 800x400 with 4 Axes>"
            ]
          },
          "metadata": {},
          "output_type": "display_data"
        }
      ],
      "source": [
        "dt_params = {'max_depth': [None, 2, 3, 4, 7, 21, 84],\n",
        "             'max_features': [None, \n",
        "}\n",
        "dt_gs = GridSearchCV(dt, dt_params, scoring=\"roc_auc\", n_jobs=-1)\n",
        "dt_gs.fit(X_train, y_train)\n",
        "dt_cv = dt_gs.best_estimator_.fit(X_train, y_train)\n",
        "\n",
        "dt_cv_results = eval_classification(dt_cv, X_train, y_train, X_test, y_test,\n",
        "                                  model_name=\"Decision Tree CV\", results_frame=dt_results)"
      ]
    },
    {
      "cell_type": "code",
      "execution_count": 21,
      "metadata": {},
      "outputs": [
        {
          "data": {
            "text/plain": [
              "{'ccp_alpha': 0.0,\n",
              " 'class_weight': 'balanced',\n",
              " 'criterion': 'gini',\n",
              " 'max_depth': 7,\n",
              " 'max_features': None,\n",
              " 'max_leaf_nodes': None,\n",
              " 'min_impurity_decrease': 0.0,\n",
              " 'min_samples_leaf': 1,\n",
              " 'min_samples_split': 2,\n",
              " 'min_weight_fraction_leaf': 0.0,\n",
              " 'monotonic_cst': None,\n",
              " 'random_state': 42,\n",
              " 'splitter': 'best'}"
            ]
          },
          "execution_count": 21,
          "metadata": {},
          "output_type": "execute_result"
        }
      ],
      "source": [
        "dt_cv.get_params()"
      ]
    },
    {
      "cell_type": "code",
      "execution_count": 19,
      "metadata": {},
      "outputs": [
        {
          "data": {
            "text/html": [
              "<div>\n",
              "<style scoped>\n",
              "    .dataframe tbody tr th:only-of-type {\n",
              "        vertical-align: middle;\n",
              "    }\n",
              "\n",
              "    .dataframe tbody tr th {\n",
              "        vertical-align: top;\n",
              "    }\n",
              "\n",
              "    .dataframe thead th {\n",
              "        text-align: right;\n",
              "    }\n",
              "</style>\n",
              "<table border=\"1\" class=\"dataframe\">\n",
              "  <thead>\n",
              "    <tr style=\"text-align: right;\">\n",
              "      <th></th>\n",
              "      <th>train_acc</th>\n",
              "      <th>test_acc</th>\n",
              "      <th>train_prec</th>\n",
              "      <th>test_prec</th>\n",
              "      <th>train_recall</th>\n",
              "      <th>test_recall</th>\n",
              "      <th>train_f1</th>\n",
              "      <th>test_f1</th>\n",
              "      <th>train_auc</th>\n",
              "      <th>test_auc</th>\n",
              "    </tr>\n",
              "  </thead>\n",
              "  <tbody>\n",
              "    <tr>\n",
              "      <th>Logistic Regression</th>\n",
              "      <td>0.688647</td>\n",
              "      <td>0.686970</td>\n",
              "      <td>0.160524</td>\n",
              "      <td>0.158756</td>\n",
              "      <td>0.673616</td>\n",
              "      <td>0.665196</td>\n",
              "      <td>0.259265</td>\n",
              "      <td>0.256335</td>\n",
              "      <td>0.745769</td>\n",
              "      <td>0.739989</td>\n",
              "    </tr>\n",
              "    <tr>\n",
              "      <th>Logistic Regression CV</th>\n",
              "      <td>0.688749</td>\n",
              "      <td>0.686758</td>\n",
              "      <td>0.160526</td>\n",
              "      <td>0.158690</td>\n",
              "      <td>0.673329</td>\n",
              "      <td>0.665397</td>\n",
              "      <td>0.259246</td>\n",
              "      <td>0.256264</td>\n",
              "      <td>0.745610</td>\n",
              "      <td>0.739922</td>\n",
              "    </tr>\n",
              "    <tr>\n",
              "      <th>Decision Tree</th>\n",
              "      <td>1.000000</td>\n",
              "      <td>0.857940</td>\n",
              "      <td>1.000000</td>\n",
              "      <td>0.148113</td>\n",
              "      <td>1.000000</td>\n",
              "      <td>0.158180</td>\n",
              "      <td>1.000000</td>\n",
              "      <td>0.152981</td>\n",
              "      <td>1.000000</td>\n",
              "      <td>0.538940</td>\n",
              "    </tr>\n",
              "    <tr>\n",
              "      <th>Decision Tree CV</th>\n",
              "      <td>0.760203</td>\n",
              "      <td>0.758447</td>\n",
              "      <td>0.169903</td>\n",
              "      <td>0.166035</td>\n",
              "      <td>0.505571</td>\n",
              "      <td>0.491780</td>\n",
              "      <td>0.254334</td>\n",
              "      <td>0.248254</td>\n",
              "      <td>0.697200</td>\n",
              "      <td>0.692345</td>\n",
              "    </tr>\n",
              "  </tbody>\n",
              "</table>\n",
              "</div>"
            ],
            "text/plain": [
              "                        train_acc  test_acc  train_prec  test_prec  \\\n",
              "Logistic Regression      0.688647  0.686970    0.160524   0.158756   \n",
              "Logistic Regression CV   0.688749  0.686758    0.160526   0.158690   \n",
              "Decision Tree            1.000000  0.857940    1.000000   0.148113   \n",
              "Decision Tree CV         0.760203  0.758447    0.169903   0.166035   \n",
              "\n",
              "                        train_recall  test_recall  train_f1   test_f1  \\\n",
              "Logistic Regression         0.673616     0.665196  0.259265  0.256335   \n",
              "Logistic Regression CV      0.673329     0.665397  0.259246  0.256264   \n",
              "Decision Tree               1.000000     0.158180  1.000000  0.152981   \n",
              "Decision Tree CV            0.505571     0.491780  0.254334  0.248254   \n",
              "\n",
              "                        train_auc  test_auc  \n",
              "Logistic Regression      0.745769  0.739989  \n",
              "Logistic Regression CV   0.745610  0.739922  \n",
              "Decision Tree            1.000000  0.538940  \n",
              "Decision Tree CV         0.697200  0.692345  "
            ]
          },
          "execution_count": 19,
          "metadata": {},
          "output_type": "execute_result"
        }
      ],
      "source": [
        "dt_cv_results"
      ]
    },
    {
      "cell_type": "code",
      "execution_count": 22,
      "metadata": {},
      "outputs": [
        {
          "name": "stdout",
          "output_type": "stream",
          "text": [
            "                    Train Evaluation                                       Test Evaluation                   \n",
            "              precision    recall  f1-score   support                precision    recall  f1-score   support \n",
            "                                                                                                             \n",
            "           0       0.96      0.71      0.82    197845             0       0.95      0.71      0.82     56514 \n",
            "           1       0.16      0.64      0.26     17412             1       0.16      0.60      0.25      4988 \n",
            "                                                                                                             \n",
            "    accuracy                           0.71    215257      accuracy                           0.70     61502 \n",
            "   macro avg       0.56      0.67      0.54    215257     macro avg       0.55      0.66      0.53     61502 \n",
            "weighted avg       0.89      0.71      0.77    215257  weighted avg       0.89      0.70      0.77     61502 \n"
          ]
        },
        {
          "data": {
            "image/png": "[encoded data removed]",
            "text/plain": [
              "<Figure size 800x400 with 4 Axes>"
            ]
          },
          "metadata": {},
          "output_type": "display_data"
        }
      ],
      "source": [
        "bdt = AdaBoostClassifier(dt_cv, random_state=42).fit(X_train, y_train)\n",
        "\n",
        "bdt_results = eval_classification(bdt, X_train, y_train, X_test, y_test,\n",
        "                                  model_name=\"AdaBoosted Decision Tree\", results_frame=dt_cv_results)"
      ]
    },
    {
      "cell_type": "code",
      "execution_count": 23,
      "metadata": {},
      "outputs": [
        {
          "data": {
            "text/html": [
              "<div>\n",
              "<style scoped>\n",
              "    .dataframe tbody tr th:only-of-type {\n",
              "        vertical-align: middle;\n",
              "    }\n",
              "\n",
              "    .dataframe tbody tr th {\n",
              "        vertical-align: top;\n",
              "    }\n",
              "\n",
              "    .dataframe thead th {\n",
              "        text-align: right;\n",
              "    }\n",
              "</style>\n",
              "<table border=\"1\" class=\"dataframe\">\n",
              "  <thead>\n",
              "    <tr style=\"text-align: right;\">\n",
              "      <th></th>\n",
              "      <th>train_acc</th>\n",
              "      <th>test_acc</th>\n",
              "      <th>train_prec</th>\n",
              "      <th>test_prec</th>\n",
              "      <th>train_recall</th>\n",
              "      <th>test_recall</th>\n",
              "      <th>train_f1</th>\n",
              "      <th>test_f1</th>\n",
              "      <th>train_auc</th>\n",
              "      <th>test_auc</th>\n",
              "    </tr>\n",
              "  </thead>\n",
              "  <tbody>\n",
              "    <tr>\n",
              "      <th>Logistic Regression</th>\n",
              "      <td>0.688647</td>\n",
              "      <td>0.686970</td>\n",
              "      <td>0.160524</td>\n",
              "      <td>0.158756</td>\n",
              "      <td>0.673616</td>\n",
              "      <td>0.665196</td>\n",
              "      <td>0.259265</td>\n",
              "      <td>0.256335</td>\n",
              "      <td>0.745769</td>\n",
              "      <td>0.739989</td>\n",
              "    </tr>\n",
              "    <tr>\n",
              "      <th>Logistic Regression CV</th>\n",
              "      <td>0.688749</td>\n",
              "      <td>0.686758</td>\n",
              "      <td>0.160526</td>\n",
              "      <td>0.158690</td>\n",
              "      <td>0.673329</td>\n",
              "      <td>0.665397</td>\n",
              "      <td>0.259246</td>\n",
              "      <td>0.256264</td>\n",
              "      <td>0.745610</td>\n",
              "      <td>0.739922</td>\n",
              "    </tr>\n",
              "    <tr>\n",
              "      <th>Decision Tree</th>\n",
              "      <td>1.000000</td>\n",
              "      <td>0.857940</td>\n",
              "      <td>1.000000</td>\n",
              "      <td>0.148113</td>\n",
              "      <td>1.000000</td>\n",
              "      <td>0.158180</td>\n",
              "      <td>1.000000</td>\n",
              "      <td>0.152981</td>\n",
              "      <td>1.000000</td>\n",
              "      <td>0.538940</td>\n",
              "    </tr>\n",
              "    <tr>\n",
              "      <th>Decision Tree CV</th>\n",
              "      <td>0.706783</td>\n",
              "      <td>0.703636</td>\n",
              "      <td>0.163315</td>\n",
              "      <td>0.155216</td>\n",
              "      <td>0.636630</td>\n",
              "      <td>0.597434</td>\n",
              "      <td>0.259946</td>\n",
              "      <td>0.246413</td>\n",
              "      <td>0.733137</td>\n",
              "      <td>0.706668</td>\n",
              "    </tr>\n",
              "    <tr>\n",
              "      <th>AdaBoosted Decision Tree</th>\n",
              "      <td>0.706783</td>\n",
              "      <td>0.703636</td>\n",
              "      <td>0.163315</td>\n",
              "      <td>0.155216</td>\n",
              "      <td>0.636630</td>\n",
              "      <td>0.597434</td>\n",
              "      <td>0.259946</td>\n",
              "      <td>0.246413</td>\n",
              "      <td>0.712692</td>\n",
              "      <td>0.688920</td>\n",
              "    </tr>\n",
              "  </tbody>\n",
              "</table>\n",
              "</div>"
            ],
            "text/plain": [
              "                          train_acc  test_acc  train_prec  test_prec  \\\n",
              "Logistic Regression        0.688647  0.686970    0.160524   0.158756   \n",
              "Logistic Regression CV     0.688749  0.686758    0.160526   0.158690   \n",
              "Decision Tree              1.000000  0.857940    1.000000   0.148113   \n",
              "Decision Tree CV           0.706783  0.703636    0.163315   0.155216   \n",
              "AdaBoosted Decision Tree   0.706783  0.703636    0.163315   0.155216   \n",
              "\n",
              "                          train_recall  test_recall  train_f1   test_f1  \\\n",
              "Logistic Regression           0.673616     0.665196  0.259265  0.256335   \n",
              "Logistic Regression CV        0.673329     0.665397  0.259246  0.256264   \n",
              "Decision Tree                 1.000000     0.158180  1.000000  0.152981   \n",
              "Decision Tree CV              0.636630     0.597434  0.259946  0.246413   \n",
              "AdaBoosted Decision Tree      0.636630     0.597434  0.259946  0.246413   \n",
              "\n",
              "                          train_auc  test_auc  \n",
              "Logistic Regression        0.745769  0.739989  \n",
              "Logistic Regression CV     0.745610  0.739922  \n",
              "Decision Tree              1.000000  0.538940  \n",
              "Decision Tree CV           0.733137  0.706668  \n",
              "AdaBoosted Decision Tree   0.712692  0.688920  "
            ]
          },
          "execution_count": 23,
          "metadata": {},
          "output_type": "execute_result"
        }
      ],
      "source": [
        "bdt_results"
      ]
    },
    {
      "cell_type": "markdown",
      "metadata": {
        "id": "qEbrXSQghefK"
      },
      "source": [
        "## Random Forests"
      ]
    },
    {
      "cell_type": "code",
      "execution_count": 24,
      "metadata": {
        "colab": {
          "base_uri": "https://localhost:8080/",
          "height": 555
        },
        "id": "nH9a76KzhefK",
        "outputId": "9b309843-cb64-4ea0-eb6d-a35b4eb732a9"
      },
      "outputs": [
        {
          "name": "stdout",
          "output_type": "stream",
          "text": [
            "                    Train Evaluation                                       Test Evaluation                   \n",
            "              precision    recall  f1-score   support                precision    recall  f1-score   support \n",
            "                                                                                                             \n",
            "           0       1.00      1.00      1.00    197845             0       0.92      1.00      0.96     56514 \n",
            "           1       1.00      1.00      1.00     17412             1       0.54      0.00      0.01      4988 \n",
            "                                                                                                             \n",
            "    accuracy                           1.00    215257      accuracy                           0.92     61502 \n",
            "   macro avg       1.00      1.00      1.00    215257     macro avg       0.73      0.50      0.48     61502 \n",
            "weighted avg       1.00      1.00      1.00    215257  weighted avg       0.89      0.92      0.88     61502 \n"
          ]
        },
        {
          "data": {
            "image/png": "[encoded data removed]",
            "text/plain": [
              "<Figure size 800x400 with 4 Axes>"
            ]
          },
          "metadata": {},
          "output_type": "display_data"
        }
      ],
      "source": [
        "rf = RandomForestClassifier(random_state=42, n_jobs=-1, class_weight=\"balanced_subsample\").fit(X_train, y_train)\n",
        "\n",
        "rf_results = eval_classification(rf, X_train, y_train, X_test, y_test,\n",
        "                                  model_name=\"Random Forest\", results_frame=bdt_results)"
      ]
    },
    {
      "cell_type": "code",
      "execution_count": 25,
      "metadata": {},
      "outputs": [
        {
          "data": {
            "text/plain": [
              "74"
            ]
          },
          "execution_count": 25,
          "metadata": {},
          "output_type": "execute_result"
        }
      ],
      "source": [
        "estimators = rf.estimators_\n",
        "depths = [est.get_depth() for est in estimators]\n",
        "max(depths)"
      ]
    },
    {
      "cell_type": "code",
      "execution_count": 41,
      "metadata": {},
      "outputs": [
        {
          "data": {
            "text/plain": [
              "{'bootstrap': True,\n",
              " 'ccp_alpha': 0.0,\n",
              " 'class_weight': 'balanced_subsample',\n",
              " 'criterion': 'gini',\n",
              " 'max_depth': None,\n",
              " 'max_features': 'sqrt',\n",
              " 'max_leaf_nodes': None,\n",
              " 'max_samples': None,\n",
              " 'min_impurity_decrease': 0.0,\n",
              " 'min_samples_leaf': 1,\n",
              " 'min_samples_split': 2,\n",
              " 'min_weight_fraction_leaf': 0.0,\n",
              " 'monotonic_cst': None,\n",
              " 'n_estimators': 100,\n",
              " 'n_jobs': -1,\n",
              " 'oob_score': False,\n",
              " 'random_state': 42,\n",
              " 'verbose': 0,\n",
              " 'warm_start': False}"
            ]
          },
          "execution_count": 41,
          "metadata": {},
          "output_type": "execute_result"
        }
      ],
      "source": [
        "rf.get_params()"
      ]
    },
    {
      "cell_type": "code",
      "execution_count": 42,
      "metadata": {
        "colab": {
          "base_uri": "https://localhost:8080/",
          "height": 341
        },
        "id": "5G92gvOshefK",
        "outputId": "8cd8e86c-4965-498d-f9ec-75a46a4901fc"
      },
      "outputs": [
        {
          "name": "stdout",
          "output_type": "stream",
          "text": [
            "                    Train Evaluation                                       Test Evaluation                   \n",
            "              precision    recall  f1-score   support                precision    recall  f1-score   support \n",
            "                                                                                                             \n",
            "           0       1.00      1.00      1.00    197845             0       0.92      1.00      0.96     56514 \n",
            "           1       1.00      1.00      1.00     17412             1       0.45      0.01      0.03      4988 \n",
            "                                                                                                             \n",
            "    accuracy                           1.00    215257      accuracy                           0.92     61502 \n",
            "   macro avg       1.00      1.00      1.00    215257     macro avg       0.69      0.51      0.49     61502 \n",
            "weighted avg       1.00      1.00      1.00    215257  weighted avg       0.88      0.92      0.88     61502 \n"
          ]
        },
        {
          "data": {
            "image/png": "[encoded data removed]",
            "text/plain": [
              "<Figure size 800x400 with 4 Axes>"
            ]
          },
          "metadata": {},
          "output_type": "display_data"
        }
      ],
      "source": [
        "rf_params = {\"n_estimators\" : [20, 40, 60, 80, 100],\n",
        "             \"max_depth\" : [2, 37, 74]}\n",
        "rf_gs = GridSearchCV(rf, rf_params, scoring=\"roc_auc\", n_jobs=-1)\n",
        "rf_gs.fit(X_train, y_train)\n",
        "rf_cv = rf_gs.best_estimator_.fit(X_train, y_train)\n",
        "\n",
        "rf_cv_results = eval_classification(rf_cv, X_train, y_train, X_test, y_test,\n",
        "                                  model_name=\"Random Forest CV\", results_frame=rf_results)"
      ]
    },
    {
      "cell_type": "code",
      "execution_count": 43,
      "metadata": {},
      "outputs": [
        {
          "data": {
            "text/plain": [
              "{'bootstrap': True,\n",
              " 'ccp_alpha': 0.0,\n",
              " 'class_weight': 'balanced_subsample',\n",
              " 'criterion': 'gini',\n",
              " 'max_depth': 37,\n",
              " 'max_features': 'sqrt',\n",
              " 'max_leaf_nodes': None,\n",
              " 'max_samples': None,\n",
              " 'min_impurity_decrease': 0.0,\n",
              " 'min_samples_leaf': 1,\n",
              " 'min_samples_split': 2,\n",
              " 'min_weight_fraction_leaf': 0.0,\n",
              " 'monotonic_cst': None,\n",
              " 'n_estimators': 100,\n",
              " 'n_jobs': -1,\n",
              " 'oob_score': False,\n",
              " 'random_state': 42,\n",
              " 'verbose': 0,\n",
              " 'warm_start': False}"
            ]
          },
          "execution_count": 43,
          "metadata": {},
          "output_type": "execute_result"
        }
      ],
      "source": [
        "rf_cv.get_params()"
      ]
    },
    {
      "cell_type": "code",
      "execution_count": 44,
      "metadata": {},
      "outputs": [
        {
          "data": {
            "text/html": [
              "<div>\n",
              "<style scoped>\n",
              "    .dataframe tbody tr th:only-of-type {\n",
              "        vertical-align: middle;\n",
              "    }\n",
              "\n",
              "    .dataframe tbody tr th {\n",
              "        vertical-align: top;\n",
              "    }\n",
              "\n",
              "    .dataframe thead th {\n",
              "        text-align: right;\n",
              "    }\n",
              "</style>\n",
              "<table border=\"1\" class=\"dataframe\">\n",
              "  <thead>\n",
              "    <tr style=\"text-align: right;\">\n",
              "      <th></th>\n",
              "      <th>train_acc</th>\n",
              "      <th>test_acc</th>\n",
              "      <th>train_prec</th>\n",
              "      <th>test_prec</th>\n",
              "      <th>train_recall</th>\n",
              "      <th>test_recall</th>\n",
              "      <th>train_f1</th>\n",
              "      <th>test_f1</th>\n",
              "      <th>train_auc</th>\n",
              "      <th>test_auc</th>\n",
              "    </tr>\n",
              "  </thead>\n",
              "  <tbody>\n",
              "    <tr>\n",
              "      <th>Logistic Regression</th>\n",
              "      <td>0.688647</td>\n",
              "      <td>0.686970</td>\n",
              "      <td>0.160524</td>\n",
              "      <td>0.158756</td>\n",
              "      <td>0.673616</td>\n",
              "      <td>0.665196</td>\n",
              "      <td>0.259265</td>\n",
              "      <td>0.256335</td>\n",
              "      <td>0.745769</td>\n",
              "      <td>0.739989</td>\n",
              "    </tr>\n",
              "    <tr>\n",
              "      <th>Logistic Regression CV</th>\n",
              "      <td>0.688749</td>\n",
              "      <td>0.686758</td>\n",
              "      <td>0.160526</td>\n",
              "      <td>0.158690</td>\n",
              "      <td>0.673329</td>\n",
              "      <td>0.665397</td>\n",
              "      <td>0.259246</td>\n",
              "      <td>0.256264</td>\n",
              "      <td>0.745610</td>\n",
              "      <td>0.739922</td>\n",
              "    </tr>\n",
              "    <tr>\n",
              "      <th>Decision Tree</th>\n",
              "      <td>1.000000</td>\n",
              "      <td>0.857940</td>\n",
              "      <td>1.000000</td>\n",
              "      <td>0.148113</td>\n",
              "      <td>1.000000</td>\n",
              "      <td>0.158180</td>\n",
              "      <td>1.000000</td>\n",
              "      <td>0.152981</td>\n",
              "      <td>1.000000</td>\n",
              "      <td>0.538940</td>\n",
              "    </tr>\n",
              "    <tr>\n",
              "      <th>Decision Tree CV</th>\n",
              "      <td>0.706783</td>\n",
              "      <td>0.703636</td>\n",
              "      <td>0.163315</td>\n",
              "      <td>0.155216</td>\n",
              "      <td>0.636630</td>\n",
              "      <td>0.597434</td>\n",
              "      <td>0.259946</td>\n",
              "      <td>0.246413</td>\n",
              "      <td>0.733137</td>\n",
              "      <td>0.706668</td>\n",
              "    </tr>\n",
              "    <tr>\n",
              "      <th>AdaBoosted Decision Tree</th>\n",
              "      <td>0.706783</td>\n",
              "      <td>0.703636</td>\n",
              "      <td>0.163315</td>\n",
              "      <td>0.155216</td>\n",
              "      <td>0.636630</td>\n",
              "      <td>0.597434</td>\n",
              "      <td>0.259946</td>\n",
              "      <td>0.246413</td>\n",
              "      <td>0.712692</td>\n",
              "      <td>0.688920</td>\n",
              "    </tr>\n",
              "    <tr>\n",
              "      <th>Random Forest</th>\n",
              "      <td>0.999972</td>\n",
              "      <td>0.918929</td>\n",
              "      <td>1.000000</td>\n",
              "      <td>0.535714</td>\n",
              "      <td>0.999655</td>\n",
              "      <td>0.003007</td>\n",
              "      <td>0.999828</td>\n",
              "      <td>0.005981</td>\n",
              "      <td>1.000000</td>\n",
              "      <td>0.733311</td>\n",
              "    </tr>\n",
              "    <tr>\n",
              "      <th>Random Forest CV</th>\n",
              "      <td>0.999851</td>\n",
              "      <td>0.918653</td>\n",
              "      <td>0.998508</td>\n",
              "      <td>0.453988</td>\n",
              "      <td>0.999655</td>\n",
              "      <td>0.014836</td>\n",
              "      <td>0.999082</td>\n",
              "      <td>0.028732</td>\n",
              "      <td>0.999998</td>\n",
              "      <td>0.729412</td>\n",
              "    </tr>\n",
              "  </tbody>\n",
              "</table>\n",
              "</div>"
            ],
            "text/plain": [
              "                          train_acc  test_acc  train_prec  test_prec  \\\n",
              "Logistic Regression        0.688647  0.686970    0.160524   0.158756   \n",
              "Logistic Regression CV     0.688749  0.686758    0.160526   0.158690   \n",
              "Decision Tree              1.000000  0.857940    1.000000   0.148113   \n",
              "Decision Tree CV           0.706783  0.703636    0.163315   0.155216   \n",
              "AdaBoosted Decision Tree   0.706783  0.703636    0.163315   0.155216   \n",
              "Random Forest              0.999972  0.918929    1.000000   0.535714   \n",
              "Random Forest CV           0.999851  0.918653    0.998508   0.453988   \n",
              "\n",
              "                          train_recall  test_recall  train_f1   test_f1  \\\n",
              "Logistic Regression           0.673616     0.665196  0.259265  0.256335   \n",
              "Logistic Regression CV        0.673329     0.665397  0.259246  0.256264   \n",
              "Decision Tree                 1.000000     0.158180  1.000000  0.152981   \n",
              "Decision Tree CV              0.636630     0.597434  0.259946  0.246413   \n",
              "AdaBoosted Decision Tree      0.636630     0.597434  0.259946  0.246413   \n",
              "Random Forest                 0.999655     0.003007  0.999828  0.005981   \n",
              "Random Forest CV              0.999655     0.014836  0.999082  0.028732   \n",
              "\n",
              "                          train_auc  test_auc  \n",
              "Logistic Regression        0.745769  0.739989  \n",
              "Logistic Regression CV     0.745610  0.739922  \n",
              "Decision Tree              1.000000  0.538940  \n",
              "Decision Tree CV           0.733137  0.706668  \n",
              "AdaBoosted Decision Tree   0.712692  0.688920  \n",
              "Random Forest              1.000000  0.733311  \n",
              "Random Forest CV           0.999998  0.729412  "
            ]
          },
          "execution_count": 44,
          "metadata": {},
          "output_type": "execute_result"
        }
      ],
      "source": [
        "rf_cv_results"
      ]
    },
    {
      "cell_type": "markdown",
      "metadata": {
        "id": "DADNk09UhefL"
      },
      "source": [
        "## Gradient Boosting Models"
      ]
    },
    {
      "cell_type": "code",
      "execution_count": 45,
      "metadata": {
        "colab": {
          "base_uri": "https://localhost:8080/",
          "height": 551
        },
        "id": "mGSbWjtNhefL",
        "outputId": "ed03a192-bf30-46fb-f6c6-3505de43c040"
      },
      "outputs": [
        {
          "name": "stdout",
          "output_type": "stream",
          "text": [
            "                    Train Evaluation                                       Test Evaluation                   \n",
            "              precision    recall  f1-score   support                precision    recall  f1-score   support \n",
            "                                                                                                             \n",
            "           0       0.97      0.73      0.83    197845             0       0.96      0.72      0.82     56514 \n",
            "           1       0.19      0.74      0.30     17412             1       0.17      0.68      0.28      4988 \n",
            "                                                                                                             \n",
            "    accuracy                           0.73    215257      accuracy                           0.71     61502 \n",
            "   macro avg       0.58      0.73      0.57    215257     macro avg       0.57      0.70      0.55     61502 \n",
            "weighted avg       0.91      0.73      0.79    215257  weighted avg       0.90      0.71      0.78     61502 \n"
          ]
        },
        {
          "data": {
            "image/png": "[encoded data removed]",
            "text/plain": [
              "<Figure size 800x400 with 4 Axes>"
            ]
          },
          "metadata": {},
          "output_type": "display_data"
        }
      ],
      "source": [
        "hgb = HistGradientBoostingClassifier(scoring=\"roc_auc\", random_state=42, class_weight=\"balanced\", max_iter=1000).fit(X_train, y_train)\n",
        "\n",
        "hgb_results = eval_classification(hgb, X_train, y_train, X_test, y_test,\n",
        "                                  model_name=\"Histogram-based Gradient Boosting Tree\", results_frame=rf_cv_results)"
      ]
    },
    {
      "cell_type": "code",
      "execution_count": 46,
      "metadata": {
        "colab": {
          "base_uri": "https://localhost:8080/",
          "height": 551
        },
        "id": "x2h-Uo_1hefL",
        "outputId": "2e735c0e-cfc5-4e5f-cb67-0fffb96910dd"
      },
      "outputs": [
        {
          "name": "stdout",
          "output_type": "stream",
          "text": [
            "                    Train Evaluation                                       Test Evaluation                   \n",
            "              precision    recall  f1-score   support                precision    recall  f1-score   support \n",
            "                                                                                                             \n",
            "           0       0.93      1.00      0.96    197845             0       0.92      0.99      0.96     56514 \n",
            "           1       0.84      0.13      0.22     17412             1       0.45      0.05      0.10      4988 \n",
            "                                                                                                             \n",
            "    accuracy                           0.93    215257      accuracy                           0.92     61502 \n",
            "   macro avg       0.89      0.56      0.59    215257     macro avg       0.69      0.52      0.53     61502 \n",
            "weighted avg       0.92      0.93      0.90    215257  weighted avg       0.88      0.92      0.89     61502 \n"
          ]
        },
        {
          "data": {
            "image/png": "[encoded data removed]",
            "text/plain": [
              "<Figure size 800x400 with 4 Axes>"
            ]
          },
          "metadata": {},
          "output_type": "display_data"
        }
      ],
      "source": [
        "xgb = XGBClassifier(eval_metric=\"auc\", objective=\"binary:logistic\", random_state=42).fit(X_train, y_train)\n",
        "\n",
        "xgb_results = eval_classification(xgb, X_train, y_train, X_test, y_test,\n",
        "                                  model_name=\"XGBoost\", results_frame=hgb_results)"
      ]
    },
    {
      "cell_type": "code",
      "execution_count": 47,
      "metadata": {
        "colab": {
          "base_uri": "https://localhost:8080/",
          "height": 551
        },
        "id": "SrHfpBiBhefL",
        "outputId": "f7f2bcb3-baf3-4ea2-af6e-078cdf382182"
      },
      "outputs": [
        {
          "name": "stdout",
          "output_type": "stream",
          "text": [
            "                    Train Evaluation                                       Test Evaluation                   \n",
            "              precision    recall  f1-score   support                precision    recall  f1-score   support \n",
            "                                                                                                             \n",
            "           0       0.97      0.99      0.98    197845             0       0.93      0.97      0.95     56514 \n",
            "           1       0.87      0.65      0.75     17412             1       0.33      0.16      0.21      4988 \n",
            "                                                                                                             \n",
            "    accuracy                           0.96    215257      accuracy                           0.91     61502 \n",
            "   macro avg       0.92      0.82      0.86    215257     macro avg       0.63      0.56      0.58     61502 \n",
            "weighted avg       0.96      0.96      0.96    215257  weighted avg       0.88      0.91      0.89     61502 \n"
          ]
        },
        {
          "data": {
            "image/png": "[encoded data removed]",
            "text/plain": [
              "<Figure size 800x400 with 4 Axes>"
            ]
          },
          "metadata": {},
          "output_type": "display_data"
        }
      ],
      "source": [
        "xgbrf = XGBRFClassifier(eval_metric=\"auc\", objective=\"binary:logistic\", seed=42, max_depth=37).fit(X_train, y_train)\n",
        "\n",
        "xgbrf_results = eval_classification(xgbrf, X_train, y_train, X_test, y_test,\n",
        "                                  model_name=\"XGBoost Random Forest\", results_frame=xgb_results)"
      ]
    },
    {
      "cell_type": "code",
      "execution_count": 48,
      "metadata": {},
      "outputs": [
        {
          "data": {
            "text/html": [
              "<div>\n",
              "<style scoped>\n",
              "    .dataframe tbody tr th:only-of-type {\n",
              "        vertical-align: middle;\n",
              "    }\n",
              "\n",
              "    .dataframe tbody tr th {\n",
              "        vertical-align: top;\n",
              "    }\n",
              "\n",
              "    .dataframe thead th {\n",
              "        text-align: right;\n",
              "    }\n",
              "</style>\n",
              "<table border=\"1\" class=\"dataframe\">\n",
              "  <thead>\n",
              "    <tr style=\"text-align: right;\">\n",
              "      <th></th>\n",
              "      <th>train_acc</th>\n",
              "      <th>test_acc</th>\n",
              "      <th>train_prec</th>\n",
              "      <th>test_prec</th>\n",
              "      <th>train_recall</th>\n",
              "      <th>test_recall</th>\n",
              "      <th>train_f1</th>\n",
              "      <th>test_f1</th>\n",
              "      <th>train_auc</th>\n",
              "      <th>test_auc</th>\n",
              "    </tr>\n",
              "  </thead>\n",
              "  <tbody>\n",
              "    <tr>\n",
              "      <th>Logistic Regression</th>\n",
              "      <td>0.688647</td>\n",
              "      <td>0.686970</td>\n",
              "      <td>0.160524</td>\n",
              "      <td>0.158756</td>\n",
              "      <td>0.673616</td>\n",
              "      <td>0.665196</td>\n",
              "      <td>0.259265</td>\n",
              "      <td>0.256335</td>\n",
              "      <td>0.745769</td>\n",
              "      <td>0.739989</td>\n",
              "    </tr>\n",
              "    <tr>\n",
              "      <th>Logistic Regression CV</th>\n",
              "      <td>0.688749</td>\n",
              "      <td>0.686758</td>\n",
              "      <td>0.160526</td>\n",
              "      <td>0.158690</td>\n",
              "      <td>0.673329</td>\n",
              "      <td>0.665397</td>\n",
              "      <td>0.259246</td>\n",
              "      <td>0.256264</td>\n",
              "      <td>0.745610</td>\n",
              "      <td>0.739922</td>\n",
              "    </tr>\n",
              "    <tr>\n",
              "      <th>Decision Tree</th>\n",
              "      <td>1.000000</td>\n",
              "      <td>0.857940</td>\n",
              "      <td>1.000000</td>\n",
              "      <td>0.148113</td>\n",
              "      <td>1.000000</td>\n",
              "      <td>0.158180</td>\n",
              "      <td>1.000000</td>\n",
              "      <td>0.152981</td>\n",
              "      <td>1.000000</td>\n",
              "      <td>0.538940</td>\n",
              "    </tr>\n",
              "    <tr>\n",
              "      <th>Decision Tree CV</th>\n",
              "      <td>0.706783</td>\n",
              "      <td>0.703636</td>\n",
              "      <td>0.163315</td>\n",
              "      <td>0.155216</td>\n",
              "      <td>0.636630</td>\n",
              "      <td>0.597434</td>\n",
              "      <td>0.259946</td>\n",
              "      <td>0.246413</td>\n",
              "      <td>0.733137</td>\n",
              "      <td>0.706668</td>\n",
              "    </tr>\n",
              "    <tr>\n",
              "      <th>AdaBoosted Decision Tree</th>\n",
              "      <td>0.706783</td>\n",
              "      <td>0.703636</td>\n",
              "      <td>0.163315</td>\n",
              "      <td>0.155216</td>\n",
              "      <td>0.636630</td>\n",
              "      <td>0.597434</td>\n",
              "      <td>0.259946</td>\n",
              "      <td>0.246413</td>\n",
              "      <td>0.712692</td>\n",
              "      <td>0.688920</td>\n",
              "    </tr>\n",
              "    <tr>\n",
              "      <th>Random Forest</th>\n",
              "      <td>0.999972</td>\n",
              "      <td>0.918929</td>\n",
              "      <td>1.000000</td>\n",
              "      <td>0.535714</td>\n",
              "      <td>0.999655</td>\n",
              "      <td>0.003007</td>\n",
              "      <td>0.999828</td>\n",
              "      <td>0.005981</td>\n",
              "      <td>1.000000</td>\n",
              "      <td>0.733311</td>\n",
              "    </tr>\n",
              "    <tr>\n",
              "      <th>Random Forest CV</th>\n",
              "      <td>0.999851</td>\n",
              "      <td>0.918653</td>\n",
              "      <td>0.998508</td>\n",
              "      <td>0.453988</td>\n",
              "      <td>0.999655</td>\n",
              "      <td>0.014836</td>\n",
              "      <td>0.999082</td>\n",
              "      <td>0.028732</td>\n",
              "      <td>0.999998</td>\n",
              "      <td>0.729412</td>\n",
              "    </tr>\n",
              "    <tr>\n",
              "      <th>Histogram-based Gradient Boosting Tree</th>\n",
              "      <td>0.728292</td>\n",
              "      <td>0.714367</td>\n",
              "      <td>0.192004</td>\n",
              "      <td>0.174911</td>\n",
              "      <td>0.735297</td>\n",
              "      <td>0.678428</td>\n",
              "      <td>0.304496</td>\n",
              "      <td>0.278118</td>\n",
              "      <td>0.809763</td>\n",
              "      <td>0.766911</td>\n",
              "    </tr>\n",
              "    <tr>\n",
              "      <th>XGBoost</th>\n",
              "      <td>0.927538</td>\n",
              "      <td>0.918019</td>\n",
              "      <td>0.844867</td>\n",
              "      <td>0.454082</td>\n",
              "      <td>0.127613</td>\n",
              "      <td>0.053528</td>\n",
              "      <td>0.221734</td>\n",
              "      <td>0.095768</td>\n",
              "      <td>0.870633</td>\n",
              "      <td>0.756757</td>\n",
              "    </tr>\n",
              "    <tr>\n",
              "      <th>XGBoost Random Forest</th>\n",
              "      <td>0.963890</td>\n",
              "      <td>0.905629</td>\n",
              "      <td>0.867929</td>\n",
              "      <td>0.327703</td>\n",
              "      <td>0.652941</td>\n",
              "      <td>0.155573</td>\n",
              "      <td>0.745239</td>\n",
              "      <td>0.210984</td>\n",
              "      <td>0.987932</td>\n",
              "      <td>0.738675</td>\n",
              "    </tr>\n",
              "  </tbody>\n",
              "</table>\n",
              "</div>"
            ],
            "text/plain": [
              "                                        train_acc  test_acc  train_prec  \\\n",
              "Logistic Regression                      0.688647  0.686970    0.160524   \n",
              "Logistic Regression CV                   0.688749  0.686758    0.160526   \n",
              "Decision Tree                            1.000000  0.857940    1.000000   \n",
              "Decision Tree CV                         0.706783  0.703636    0.163315   \n",
              "AdaBoosted Decision Tree                 0.706783  0.703636    0.163315   \n",
              "Random Forest                            0.999972  0.918929    1.000000   \n",
              "Random Forest CV                         0.999851  0.918653    0.998508   \n",
              "Histogram-based Gradient Boosting Tree   0.728292  0.714367    0.192004   \n",
              "XGBoost                                  0.927538  0.918019    0.844867   \n",
              "XGBoost Random Forest                    0.963890  0.905629    0.867929   \n",
              "\n",
              "                                        test_prec  train_recall  test_recall  \\\n",
              "Logistic Regression                      0.158756      0.673616     0.665196   \n",
              "Logistic Regression CV                   0.158690      0.673329     0.665397   \n",
              "Decision Tree                            0.148113      1.000000     0.158180   \n",
              "Decision Tree CV                         0.155216      0.636630     0.597434   \n",
              "AdaBoosted Decision Tree                 0.155216      0.636630     0.597434   \n",
              "Random Forest                            0.535714      0.999655     0.003007   \n",
              "Random Forest CV                         0.453988      0.999655     0.014836   \n",
              "Histogram-based Gradient Boosting Tree   0.174911      0.735297     0.678428   \n",
              "XGBoost                                  0.454082      0.127613     0.053528   \n",
              "XGBoost Random Forest                    0.327703      0.652941     0.155573   \n",
              "\n",
              "                                        train_f1   test_f1  train_auc  \\\n",
              "Logistic Regression                     0.259265  0.256335   0.745769   \n",
              "Logistic Regression CV                  0.259246  0.256264   0.745610   \n",
              "Decision Tree                           1.000000  0.152981   1.000000   \n",
              "Decision Tree CV                        0.259946  0.246413   0.733137   \n",
              "AdaBoosted Decision Tree                0.259946  0.246413   0.712692   \n",
              "Random Forest                           0.999828  0.005981   1.000000   \n",
              "Random Forest CV                        0.999082  0.028732   0.999998   \n",
              "Histogram-based Gradient Boosting Tree  0.304496  0.278118   0.809763   \n",
              "XGBoost                                 0.221734  0.095768   0.870633   \n",
              "XGBoost Random Forest                   0.745239  0.210984   0.987932   \n",
              "\n",
              "                                        test_auc  \n",
              "Logistic Regression                     0.739989  \n",
              "Logistic Regression CV                  0.739922  \n",
              "Decision Tree                           0.538940  \n",
              "Decision Tree CV                        0.706668  \n",
              "AdaBoosted Decision Tree                0.688920  \n",
              "Random Forest                           0.733311  \n",
              "Random Forest CV                        0.729412  \n",
              "Histogram-based Gradient Boosting Tree  0.766911  \n",
              "XGBoost                                 0.756757  \n",
              "XGBoost Random Forest                   0.738675  "
            ]
          },
          "execution_count": 48,
          "metadata": {},
          "output_type": "execute_result"
        }
      ],
      "source": [
        "xgbrf_results"
      ]
    },
    {
      "cell_type": "markdown",
      "metadata": {
        "id": "sJ9Q-cf6hefL"
      },
      "source": [
        "## Naive Bayes algorithms"
      ]
    },
    {
      "cell_type": "code",
      "execution_count": 49,
      "metadata": {
        "colab": {
          "base_uri": "https://localhost:8080/",
          "height": 551
        },
        "id": "HDPHRX2xhefL",
        "outputId": "7c97cfbf-b818-4388-83d4-c86ec485fda1"
      },
      "outputs": [
        {
          "name": "stdout",
          "output_type": "stream",
          "text": [
            "                    Train Evaluation                                       Test Evaluation                   \n",
            "              precision    recall  f1-score   support                precision    recall  f1-score   support \n",
            "                                                                                                             \n",
            "           0       0.96      0.03      0.06    197845             0       0.96      0.03      0.06     56514 \n",
            "           1       0.08      0.98      0.15     17412             1       0.08      0.98      0.15      4988 \n",
            "                                                                                                             \n",
            "    accuracy                           0.11    215257      accuracy                           0.11     61502 \n",
            "   macro avg       0.52      0.51      0.11    215257     macro avg       0.52      0.51      0.11     61502 \n",
            "weighted avg       0.89      0.11      0.07    215257  weighted avg       0.89      0.11      0.07     61502 \n"
          ]
        },
        {
          "data": {
            "image/png": "[encoded data removed]",
            "text/plain": [
              "<Figure size 800x400 with 4 Axes>"
            ]
          },
          "metadata": {},
          "output_type": "display_data"
        }
      ],
      "source": [
        "gnb = GaussianNB().fit(X_train, y_train)\n",
        "\n",
        "gnb_results = eval_classification(gnb, X_train, y_train, X_test, y_test,\n",
        "                                  model_name=\"Gaussian\", results_frame=xgbrf_results)"
      ]
    },
    {
      "cell_type": "code",
      "execution_count": 50,
      "metadata": {
        "colab": {
          "base_uri": "https://localhost:8080/",
          "height": 551
        },
        "id": "AVAshygphefL",
        "outputId": "78bc0fc7-e910-4366-8915-0a5435bc68b2"
      },
      "outputs": [
        {
          "name": "stdout",
          "output_type": "stream",
          "text": [
            "                    Train Evaluation                                       Test Evaluation                   \n",
            "              precision    recall  f1-score   support                precision    recall  f1-score   support \n",
            "                                                                                                             \n",
            "           0       0.93      0.92      0.93    197845             0       0.93      0.92      0.93     56514 \n",
            "           1       0.19      0.21      0.20     17412             1       0.19      0.20      0.20      4988 \n",
            "                                                                                                             \n",
            "    accuracy                           0.87    215257      accuracy                           0.86     61502 \n",
            "   macro avg       0.56      0.57      0.56    215257     macro avg       0.56      0.56      0.56     61502 \n",
            "weighted avg       0.87      0.87      0.87    215257  weighted avg       0.87      0.86      0.87     61502 \n"
          ]
        },
        {
          "data": {
            "image/png": "[encoded data removed]",
            "text/plain": [
              "<Figure size 800x400 with 4 Axes>"
            ]
          },
          "metadata": {},
          "output_type": "display_data"
        }
      ],
      "source": [
        "bnb = BernoulliNB().fit(X_train, y_train)\n",
        "\n",
        "bnb_results = eval_classification(bnb, X_train, y_train, X_test, y_test,\n",
        "                                  model_name=\"Bernoulli\", results_frame=gnb_results)"
      ]
    },
    {
      "cell_type": "code",
      "execution_count": 69,
      "metadata": {},
      "outputs": [
        {
          "name": "stdout",
          "output_type": "stream",
          "text": [
            "                    Train Evaluation                                       Test Evaluation                   \n",
            "              precision    recall  f1-score   support                precision    recall  f1-score   support \n",
            "                                                                                                             \n",
            "           0       0.92      1.00      0.96    197845             0       0.92      1.00      0.96     56514 \n",
            "           1       0.43      0.00      0.00     17412             1       0.29      0.00      0.00      4988 \n",
            "                                                                                                             \n",
            "    accuracy                           0.92    215257      accuracy                           0.92     61502 \n",
            "   macro avg       0.67      0.50      0.48    215257     macro avg       0.60      0.50      0.48     61502 \n",
            "weighted avg       0.88      0.92      0.88    215257  weighted avg       0.87      0.92      0.88     61502 \n"
          ]
        },
        {
          "data": {
            "image/png": "[encoded data removed]",
            "text/plain": [
              "<Figure size 800x400 with 4 Axes>"
            ]
          },
          "metadata": {},
          "output_type": "display_data"
        },
        {
          "ename": "AttributeError",
          "evalue": "'LinearSVC' object has no attribute 'predict_proba'",
          "output_type": "error",
          "traceback": [
            "\u001b[31m---------------------------------------------------------------------------\u001b[39m",
            "\u001b[31mAttributeError\u001b[39m                            Traceback (most recent call last)",
            "\u001b[36mCell\u001b[39m\u001b[36m \u001b[39m\u001b[32mIn[69]\u001b[39m\u001b[32m, line 3\u001b[39m\n\u001b[32m      1\u001b[39m lsvc = LinearSVC().fit(X_train, y_train)\n\u001b[32m----> \u001b[39m\u001b[32m3\u001b[39m lsvc_results = \u001b[43meval_classification\u001b[49m\u001b[43m(\u001b[49m\u001b[43mlsvc\u001b[49m\u001b[43m,\u001b[49m\u001b[43m \u001b[49m\u001b[43mX_train\u001b[49m\u001b[43m,\u001b[49m\u001b[43m \u001b[49m\u001b[43my_train\u001b[49m\u001b[43m,\u001b[49m\u001b[43m \u001b[49m\u001b[43mX_test\u001b[49m\u001b[43m,\u001b[49m\u001b[43m \u001b[49m\u001b[43my_test\u001b[49m\u001b[43m,\u001b[49m\n\u001b[32m      4\u001b[39m \u001b[43m                                  \u001b[49m\u001b[43mmodel_name\u001b[49m\u001b[43m=\u001b[49m\u001b[33;43m\"\u001b[39;49m\u001b[33;43mLinear SVC\u001b[39;49m\u001b[33;43m\"\u001b[39;49m\u001b[43m,\u001b[49m\u001b[43m \u001b[49m\u001b[43mresults_frame\u001b[49m\u001b[43m=\u001b[49m\u001b[43mbnb_results\u001b[49m\u001b[43m)\u001b[49m\n",
            "\u001b[36mFile \u001b[39m\u001b[32m~/Documents/GitHub/home-credit-default-risk/kaggle/working/../src/eval_classification.py:59\u001b[39m, in \u001b[36meval_classification\u001b[39m\u001b[34m(model, X_train, y_train, X_test, y_test, model_name, results_frame, pos_label, average, roc_auc_average)\u001b[39m\n\u001b[32m     57\u001b[39m results[\u001b[33m\"\u001b[39m\u001b[33mtrain_f1\u001b[39m\u001b[33m\"\u001b[39m] = f1_score(y_train, train_pred, pos_label=pos_label, average=average)\n\u001b[32m     58\u001b[39m results[\u001b[33m\"\u001b[39m\u001b[33mtest_f1\u001b[39m\u001b[33m\"\u001b[39m] = f1_score(y_test, test_pred, pos_label=pos_label, average=average)\n\u001b[32m---> \u001b[39m\u001b[32m59\u001b[39m results[\u001b[33m\"\u001b[39m\u001b[33mtrain_auc\u001b[39m\u001b[33m\"\u001b[39m] = roc_auc_score(y_train, \u001b[43mmodel\u001b[49m\u001b[43m.\u001b[49m\u001b[43mpredict_proba\u001b[49m(X_train)[:, \u001b[32m1\u001b[39m], multi_class=\u001b[33m\"\u001b[39m\u001b[33movr\u001b[39m\u001b[33m\"\u001b[39m, average=roc_auc_average)\n\u001b[32m     60\u001b[39m results[\u001b[33m\"\u001b[39m\u001b[33mtest_auc\u001b[39m\u001b[33m\"\u001b[39m] = roc_auc_score(y_test, model.predict_proba(X_test)[:, \u001b[32m1\u001b[39m], multi_class=\u001b[33m\"\u001b[39m\u001b[33movr\u001b[39m\u001b[33m\"\u001b[39m, average=roc_auc_average)  \n\u001b[32m     62\u001b[39m \u001b[38;5;28;01mif\u001b[39;00m results_frame \u001b[38;5;129;01mis\u001b[39;00m \u001b[38;5;129;01mnot\u001b[39;00m \u001b[38;5;28;01mNone\u001b[39;00m:\n",
            "\u001b[31mAttributeError\u001b[39m: 'LinearSVC' object has no attribute 'predict_proba'"
          ]
        }
      ],
      "source": [
        "lsvc = LinearSVC().fit(X_train, y_train)\n",
        "\n",
        "lsvc_results = eval_classification(lsvc, X_train, y_train, X_test, y_test,\n",
        "                                  model_name=\"Linear SVC\", results_frame=bnb_results)"
      ]
    },
    {
      "cell_type": "markdown",
      "metadata": {
        "id": "wZP1b_0bhefM"
      },
      "source": [
        "# Stacking Classifier"
      ]
    },
    {
      "cell_type": "markdown",
      "metadata": {
        "id": "hjvO1LxkhefM"
      },
      "source": [
        "## First we need to pick which models to stack"
      ]
    },
    {
      "cell_type": "code",
      "execution_count": 72,
      "metadata": {
        "colab": {
          "base_uri": "https://localhost:8080/",
          "height": 352
        },
        "id": "r2S5BnUihefM",
        "outputId": "21223d76-7dc6-4d88-9d56-9c51117a7915"
      },
      "outputs": [
        {
          "data": {
            "text/html": [
              "<style type=\"text/css\">\n",
              "#T_78e71_row0_col0, #T_78e71_row1_col0, #T_78e71_row4_col9 {\n",
              "  background-color: #1c7fb8;\n",
              "  color: #f1f1f1;\n",
              "}\n",
              "#T_78e71_row0_col1, #T_78e71_row1_col1 {\n",
              "  background-color: #1e80b8;\n",
              "  color: #f1f1f1;\n",
              "}\n",
              "#T_78e71_row0_col2, #T_78e71_row1_col2, #T_78e71_row3_col2, #T_78e71_row4_col2 {\n",
              "  background-color: #e4e1ef;\n",
              "  color: #000000;\n",
              "}\n",
              "#T_78e71_row0_col3, #T_78e71_row1_col3, #T_78e71_row2_col5 {\n",
              "  background-color: #e5e1ef;\n",
              "  color: #000000;\n",
              "}\n",
              "#T_78e71_row0_col4, #T_78e71_row1_col4 {\n",
              "  background-color: #2383ba;\n",
              "  color: #f1f1f1;\n",
              "}\n",
              "#T_78e71_row0_col5, #T_78e71_row1_col5 {\n",
              "  background-color: #2685bb;\n",
              "  color: #f1f1f1;\n",
              "}\n",
              "#T_78e71_row0_col6, #T_78e71_row1_col6, #T_78e71_row3_col6, #T_78e71_row4_col6 {\n",
              "  background-color: #cdd0e5;\n",
              "  color: #000000;\n",
              "}\n",
              "#T_78e71_row0_col7, #T_78e71_row1_col7 {\n",
              "  background-color: #ced0e6;\n",
              "  color: #000000;\n",
              "}\n",
              "#T_78e71_row0_col8, #T_78e71_row1_col8, #T_78e71_row9_col6 {\n",
              "  background-color: #0771b1;\n",
              "  color: #f1f1f1;\n",
              "}\n",
              "#T_78e71_row0_col9, #T_78e71_row1_col9, #T_78e71_row9_col9 {\n",
              "  background-color: #0872b1;\n",
              "  color: #f1f1f1;\n",
              "}\n",
              "#T_78e71_row2_col0, #T_78e71_row2_col2, #T_78e71_row2_col4, #T_78e71_row2_col6, #T_78e71_row2_col8, #T_78e71_row5_col0, #T_78e71_row5_col2, #T_78e71_row5_col4, #T_78e71_row5_col6, #T_78e71_row5_col8, #T_78e71_row6_col0, #T_78e71_row6_col2, #T_78e71_row6_col4, #T_78e71_row6_col6, #T_78e71_row6_col8 {\n",
              "  background-color: #023858;\n",
              "  color: #f1f1f1;\n",
              "}\n",
              "#T_78e71_row2_col1 {\n",
              "  background-color: #045d92;\n",
              "  color: #f1f1f1;\n",
              "}\n",
              "#T_78e71_row2_col3, #T_78e71_row10_col6, #T_78e71_row10_col7 {\n",
              "  background-color: #e7e3f0;\n",
              "  color: #000000;\n",
              "}\n",
              "#T_78e71_row2_col7, #T_78e71_row3_col3, #T_78e71_row4_col3, #T_78e71_row9_col5 {\n",
              "  background-color: #e6e2ef;\n",
              "  color: #000000;\n",
              "}\n",
              "#T_78e71_row2_col9, #T_78e71_row5_col3 {\n",
              "  background-color: #62a2cb;\n",
              "  color: #f1f1f1;\n",
              "}\n",
              "#T_78e71_row3_col0, #T_78e71_row3_col1, #T_78e71_row3_col9, #T_78e71_row4_col0, #T_78e71_row4_col1 {\n",
              "  background-color: #167bb6;\n",
              "  color: #f1f1f1;\n",
              "}\n",
              "#T_78e71_row3_col4, #T_78e71_row4_col4 {\n",
              "  background-color: #328dbf;\n",
              "  color: #f1f1f1;\n",
              "}\n",
              "#T_78e71_row3_col5, #T_78e71_row4_col5 {\n",
              "  background-color: #4496c3;\n",
              "  color: #f1f1f1;\n",
              "}\n",
              "#T_78e71_row3_col7, #T_78e71_row4_col7 {\n",
              "  background-color: #d1d2e6;\n",
              "  color: #000000;\n",
              "}\n",
              "#T_78e71_row3_col8, #T_78e71_row5_col9 {\n",
              "  background-color: #0c74b2;\n",
              "  color: #f1f1f1;\n",
              "}\n",
              "#T_78e71_row4_col8, #T_78e71_row7_col1 {\n",
              "  background-color: #1379b5;\n",
              "  color: #f1f1f1;\n",
              "}\n",
              "#T_78e71_row5_col1, #T_78e71_row6_col1, #T_78e71_row8_col1 {\n",
              "  background-color: #034d79;\n",
              "  color: #f1f1f1;\n",
              "}\n",
              "#T_78e71_row5_col5 {\n",
              "  background-color: #fff7fb;\n",
              "  color: #000000;\n",
              "}\n",
              "#T_78e71_row5_col7 {\n",
              "  background-color: #fef6fb;\n",
              "  color: #000000;\n",
              "}\n",
              "#T_78e71_row6_col3, #T_78e71_row8_col3 {\n",
              "  background-color: #86b0d3;\n",
              "  color: #000000;\n",
              "}\n",
              "#T_78e71_row6_col5 {\n",
              "  background-color: #fdf5fa;\n",
              "  color: #000000;\n",
              "}\n",
              "#T_78e71_row6_col7 {\n",
              "  background-color: #fbf3f9;\n",
              "  color: #000000;\n",
              "}\n",
              "#T_78e71_row6_col9, #T_78e71_row7_col0 {\n",
              "  background-color: #0d75b3;\n",
              "  color: #f1f1f1;\n",
              "}\n",
              "#T_78e71_row7_col2, #T_78e71_row11_col2 {\n",
              "  background-color: #dddbec;\n",
              "  color: #000000;\n",
              "}\n",
              "#T_78e71_row7_col3 {\n",
              "  background-color: #e1dfed;\n",
              "  color: #000000;\n",
              "}\n",
              "#T_78e71_row7_col4 {\n",
              "  background-color: #0a73b2;\n",
              "  color: #f1f1f1;\n",
              "}\n",
              "#T_78e71_row7_col5 {\n",
              "  background-color: #2182b9;\n",
              "  color: #f1f1f1;\n",
              "}\n",
              "#T_78e71_row7_col6 {\n",
              "  background-color: #bfc9e1;\n",
              "  color: #000000;\n",
              "}\n",
              "#T_78e71_row7_col7 {\n",
              "  background-color: #c6cce3;\n",
              "  color: #000000;\n",
              "}\n",
              "#T_78e71_row7_col8 {\n",
              "  background-color: #05659f;\n",
              "  color: #f1f1f1;\n",
              "}\n",
              "#T_78e71_row7_col9 {\n",
              "  background-color: #056dab;\n",
              "  color: #f1f1f1;\n",
              "}\n",
              "#T_78e71_row8_col0 {\n",
              "  background-color: #034b76;\n",
              "  color: #f1f1f1;\n",
              "}\n",
              "#T_78e71_row8_col2 {\n",
              "  background-color: #045f95;\n",
              "  color: #f1f1f1;\n",
              "}\n",
              "#T_78e71_row8_col4 {\n",
              "  background-color: #ece7f2;\n",
              "  color: #000000;\n",
              "}\n",
              "#T_78e71_row8_col5 {\n",
              "  background-color: #f7f0f7;\n",
              "  color: #000000;\n",
              "}\n",
              "#T_78e71_row8_col6 {\n",
              "  background-color: #d7d6e9;\n",
              "  color: #000000;\n",
              "}\n",
              "#T_78e71_row8_col7 {\n",
              "  background-color: #f1ebf4;\n",
              "  color: #000000;\n",
              "}\n",
              "#T_78e71_row8_col8, #T_78e71_row9_col2 {\n",
              "  background-color: #045b8e;\n",
              "  color: #f1f1f1;\n",
              "}\n",
              "#T_78e71_row8_col9 {\n",
              "  background-color: #056fae;\n",
              "  color: #f1f1f1;\n",
              "}\n",
              "#T_78e71_row9_col0 {\n",
              "  background-color: #034267;\n",
              "  color: #f1f1f1;\n",
              "}\n",
              "#T_78e71_row9_col1 {\n",
              "  background-color: #045280;\n",
              "  color: #f1f1f1;\n",
              "}\n",
              "#T_78e71_row9_col3 {\n",
              "  background-color: #b7c5df;\n",
              "  color: #000000;\n",
              "}\n",
              "#T_78e71_row9_col4 {\n",
              "  background-color: #2a88bc;\n",
              "  color: #f1f1f1;\n",
              "}\n",
              "#T_78e71_row9_col7 {\n",
              "  background-color: #d9d8ea;\n",
              "  color: #000000;\n",
              "}\n",
              "#T_78e71_row9_col8, #T_78e71_row10_col5 {\n",
              "  background-color: #023b5d;\n",
              "  color: #f1f1f1;\n",
              "}\n",
              "#T_78e71_row10_col0 {\n",
              "  background-color: #efe9f3;\n",
              "  color: #000000;\n",
              "}\n",
              "#T_78e71_row10_col1 {\n",
              "  background-color: #eee9f3;\n",
              "  color: #000000;\n",
              "}\n",
              "#T_78e71_row10_col2, #T_78e71_row10_col3 {\n",
              "  background-color: #f2ecf5;\n",
              "  color: #000000;\n",
              "}\n",
              "#T_78e71_row10_col4 {\n",
              "  background-color: #023c5f;\n",
              "  color: #f1f1f1;\n",
              "}\n",
              "#T_78e71_row10_col8, #T_78e71_row10_col9 {\n",
              "  background-color: #6ba5cd;\n",
              "  color: #f1f1f1;\n",
              "}\n",
              "#T_78e71_row11_col0, #T_78e71_row11_col1 {\n",
              "  background-color: #045b8f;\n",
              "  color: #f1f1f1;\n",
              "}\n",
              "#T_78e71_row11_col3 {\n",
              "  background-color: #dedcec;\n",
              "  color: #000000;\n",
              "}\n",
              "#T_78e71_row11_col4 {\n",
              "  background-color: #dad9ea;\n",
              "  color: #000000;\n",
              "}\n",
              "#T_78e71_row11_col5, #T_78e71_row11_col6 {\n",
              "  background-color: #dbdaeb;\n",
              "  color: #000000;\n",
              "}\n",
              "#T_78e71_row11_col7 {\n",
              "  background-color: #dcdaeb;\n",
              "  color: #000000;\n",
              "}\n",
              "#T_78e71_row11_col8, #T_78e71_row11_col9 {\n",
              "  background-color: #2081b9;\n",
              "  color: #f1f1f1;\n",
              "}\n",
              "</style>\n",
              "<table id=\"T_78e71\">\n",
              "  <thead>\n",
              "    <tr>\n",
              "      <th class=\"blank level0\" >&nbsp;</th>\n",
              "      <th id=\"T_78e71_level0_col0\" class=\"col_heading level0 col0\" >train_acc</th>\n",
              "      <th id=\"T_78e71_level0_col1\" class=\"col_heading level0 col1\" >test_acc</th>\n",
              "      <th id=\"T_78e71_level0_col2\" class=\"col_heading level0 col2\" >train_prec</th>\n",
              "      <th id=\"T_78e71_level0_col3\" class=\"col_heading level0 col3\" >test_prec</th>\n",
              "      <th id=\"T_78e71_level0_col4\" class=\"col_heading level0 col4\" >train_recall</th>\n",
              "      <th id=\"T_78e71_level0_col5\" class=\"col_heading level0 col5\" >test_recall</th>\n",
              "      <th id=\"T_78e71_level0_col6\" class=\"col_heading level0 col6\" >train_f1</th>\n",
              "      <th id=\"T_78e71_level0_col7\" class=\"col_heading level0 col7\" >test_f1</th>\n",
              "      <th id=\"T_78e71_level0_col8\" class=\"col_heading level0 col8\" >train_auc</th>\n",
              "      <th id=\"T_78e71_level0_col9\" class=\"col_heading level0 col9\" >test_auc</th>\n",
              "    </tr>\n",
              "  </thead>\n",
              "  <tbody>\n",
              "    <tr>\n",
              "      <th id=\"T_78e71_level0_row0\" class=\"row_heading level0 row0\" >Logistic Regression</th>\n",
              "      <td id=\"T_78e71_row0_col0\" class=\"data row0 col0\" >0.688647</td>\n",
              "      <td id=\"T_78e71_row0_col1\" class=\"data row0 col1\" >0.686970</td>\n",
              "      <td id=\"T_78e71_row0_col2\" class=\"data row0 col2\" >0.160524</td>\n",
              "      <td id=\"T_78e71_row0_col3\" class=\"data row0 col3\" >0.158756</td>\n",
              "      <td id=\"T_78e71_row0_col4\" class=\"data row0 col4\" >0.673616</td>\n",
              "      <td id=\"T_78e71_row0_col5\" class=\"data row0 col5\" >0.665196</td>\n",
              "      <td id=\"T_78e71_row0_col6\" class=\"data row0 col6\" >0.259265</td>\n",
              "      <td id=\"T_78e71_row0_col7\" class=\"data row0 col7\" >0.256335</td>\n",
              "      <td id=\"T_78e71_row0_col8\" class=\"data row0 col8\" >0.745769</td>\n",
              "      <td id=\"T_78e71_row0_col9\" class=\"data row0 col9\" >0.739989</td>\n",
              "    </tr>\n",
              "    <tr>\n",
              "      <th id=\"T_78e71_level0_row1\" class=\"row_heading level0 row1\" >Logistic Regression CV</th>\n",
              "      <td id=\"T_78e71_row1_col0\" class=\"data row1 col0\" >0.688749</td>\n",
              "      <td id=\"T_78e71_row1_col1\" class=\"data row1 col1\" >0.686758</td>\n",
              "      <td id=\"T_78e71_row1_col2\" class=\"data row1 col2\" >0.160526</td>\n",
              "      <td id=\"T_78e71_row1_col3\" class=\"data row1 col3\" >0.158690</td>\n",
              "      <td id=\"T_78e71_row1_col4\" class=\"data row1 col4\" >0.673329</td>\n",
              "      <td id=\"T_78e71_row1_col5\" class=\"data row1 col5\" >0.665397</td>\n",
              "      <td id=\"T_78e71_row1_col6\" class=\"data row1 col6\" >0.259246</td>\n",
              "      <td id=\"T_78e71_row1_col7\" class=\"data row1 col7\" >0.256264</td>\n",
              "      <td id=\"T_78e71_row1_col8\" class=\"data row1 col8\" >0.745610</td>\n",
              "      <td id=\"T_78e71_row1_col9\" class=\"data row1 col9\" >0.739922</td>\n",
              "    </tr>\n",
              "    <tr>\n",
              "      <th id=\"T_78e71_level0_row2\" class=\"row_heading level0 row2\" >Decision Tree</th>\n",
              "      <td id=\"T_78e71_row2_col0\" class=\"data row2 col0\" >1.000000</td>\n",
              "      <td id=\"T_78e71_row2_col1\" class=\"data row2 col1\" >0.857940</td>\n",
              "      <td id=\"T_78e71_row2_col2\" class=\"data row2 col2\" >1.000000</td>\n",
              "      <td id=\"T_78e71_row2_col3\" class=\"data row2 col3\" >0.148113</td>\n",
              "      <td id=\"T_78e71_row2_col4\" class=\"data row2 col4\" >1.000000</td>\n",
              "      <td id=\"T_78e71_row2_col5\" class=\"data row2 col5\" >0.158180</td>\n",
              "      <td id=\"T_78e71_row2_col6\" class=\"data row2 col6\" >1.000000</td>\n",
              "      <td id=\"T_78e71_row2_col7\" class=\"data row2 col7\" >0.152981</td>\n",
              "      <td id=\"T_78e71_row2_col8\" class=\"data row2 col8\" >1.000000</td>\n",
              "      <td id=\"T_78e71_row2_col9\" class=\"data row2 col9\" >0.538940</td>\n",
              "    </tr>\n",
              "    <tr>\n",
              "      <th id=\"T_78e71_level0_row3\" class=\"row_heading level0 row3\" >Decision Tree CV</th>\n",
              "      <td id=\"T_78e71_row3_col0\" class=\"data row3 col0\" >0.706783</td>\n",
              "      <td id=\"T_78e71_row3_col1\" class=\"data row3 col1\" >0.703636</td>\n",
              "      <td id=\"T_78e71_row3_col2\" class=\"data row3 col2\" >0.163315</td>\n",
              "      <td id=\"T_78e71_row3_col3\" class=\"data row3 col3\" >0.155216</td>\n",
              "      <td id=\"T_78e71_row3_col4\" class=\"data row3 col4\" >0.636630</td>\n",
              "      <td id=\"T_78e71_row3_col5\" class=\"data row3 col5\" >0.597434</td>\n",
              "      <td id=\"T_78e71_row3_col6\" class=\"data row3 col6\" >0.259946</td>\n",
              "      <td id=\"T_78e71_row3_col7\" class=\"data row3 col7\" >0.246413</td>\n",
              "      <td id=\"T_78e71_row3_col8\" class=\"data row3 col8\" >0.733137</td>\n",
              "      <td id=\"T_78e71_row3_col9\" class=\"data row3 col9\" >0.706668</td>\n",
              "    </tr>\n",
              "    <tr>\n",
              "      <th id=\"T_78e71_level0_row4\" class=\"row_heading level0 row4\" >AdaBoosted Decision Tree</th>\n",
              "      <td id=\"T_78e71_row4_col0\" class=\"data row4 col0\" >0.706783</td>\n",
              "      <td id=\"T_78e71_row4_col1\" class=\"data row4 col1\" >0.703636</td>\n",
              "      <td id=\"T_78e71_row4_col2\" class=\"data row4 col2\" >0.163315</td>\n",
              "      <td id=\"T_78e71_row4_col3\" class=\"data row4 col3\" >0.155216</td>\n",
              "      <td id=\"T_78e71_row4_col4\" class=\"data row4 col4\" >0.636630</td>\n",
              "      <td id=\"T_78e71_row4_col5\" class=\"data row4 col5\" >0.597434</td>\n",
              "      <td id=\"T_78e71_row4_col6\" class=\"data row4 col6\" >0.259946</td>\n",
              "      <td id=\"T_78e71_row4_col7\" class=\"data row4 col7\" >0.246413</td>\n",
              "      <td id=\"T_78e71_row4_col8\" class=\"data row4 col8\" >0.712692</td>\n",
              "      <td id=\"T_78e71_row4_col9\" class=\"data row4 col9\" >0.688920</td>\n",
              "    </tr>\n",
              "    <tr>\n",
              "      <th id=\"T_78e71_level0_row5\" class=\"row_heading level0 row5\" >Random Forest</th>\n",
              "      <td id=\"T_78e71_row5_col0\" class=\"data row5 col0\" >0.999972</td>\n",
              "      <td id=\"T_78e71_row5_col1\" class=\"data row5 col1\" >0.918929</td>\n",
              "      <td id=\"T_78e71_row5_col2\" class=\"data row5 col2\" >1.000000</td>\n",
              "      <td id=\"T_78e71_row5_col3\" class=\"data row5 col3\" >0.535714</td>\n",
              "      <td id=\"T_78e71_row5_col4\" class=\"data row5 col4\" >0.999655</td>\n",
              "      <td id=\"T_78e71_row5_col5\" class=\"data row5 col5\" >0.003007</td>\n",
              "      <td id=\"T_78e71_row5_col6\" class=\"data row5 col6\" >0.999828</td>\n",
              "      <td id=\"T_78e71_row5_col7\" class=\"data row5 col7\" >0.005981</td>\n",
              "      <td id=\"T_78e71_row5_col8\" class=\"data row5 col8\" >1.000000</td>\n",
              "      <td id=\"T_78e71_row5_col9\" class=\"data row5 col9\" >0.733311</td>\n",
              "    </tr>\n",
              "    <tr>\n",
              "      <th id=\"T_78e71_level0_row6\" class=\"row_heading level0 row6\" >Random Forest CV</th>\n",
              "      <td id=\"T_78e71_row6_col0\" class=\"data row6 col0\" >0.999851</td>\n",
              "      <td id=\"T_78e71_row6_col1\" class=\"data row6 col1\" >0.918653</td>\n",
              "      <td id=\"T_78e71_row6_col2\" class=\"data row6 col2\" >0.998508</td>\n",
              "      <td id=\"T_78e71_row6_col3\" class=\"data row6 col3\" >0.453988</td>\n",
              "      <td id=\"T_78e71_row6_col4\" class=\"data row6 col4\" >0.999655</td>\n",
              "      <td id=\"T_78e71_row6_col5\" class=\"data row6 col5\" >0.014836</td>\n",
              "      <td id=\"T_78e71_row6_col6\" class=\"data row6 col6\" >0.999082</td>\n",
              "      <td id=\"T_78e71_row6_col7\" class=\"data row6 col7\" >0.028732</td>\n",
              "      <td id=\"T_78e71_row6_col8\" class=\"data row6 col8\" >0.999998</td>\n",
              "      <td id=\"T_78e71_row6_col9\" class=\"data row6 col9\" >0.729412</td>\n",
              "    </tr>\n",
              "    <tr>\n",
              "      <th id=\"T_78e71_level0_row7\" class=\"row_heading level0 row7\" >Histogram-based Gradient Boosting Tree</th>\n",
              "      <td id=\"T_78e71_row7_col0\" class=\"data row7 col0\" >0.728292</td>\n",
              "      <td id=\"T_78e71_row7_col1\" class=\"data row7 col1\" >0.714367</td>\n",
              "      <td id=\"T_78e71_row7_col2\" class=\"data row7 col2\" >0.192004</td>\n",
              "      <td id=\"T_78e71_row7_col3\" class=\"data row7 col3\" >0.174911</td>\n",
              "      <td id=\"T_78e71_row7_col4\" class=\"data row7 col4\" >0.735297</td>\n",
              "      <td id=\"T_78e71_row7_col5\" class=\"data row7 col5\" >0.678428</td>\n",
              "      <td id=\"T_78e71_row7_col6\" class=\"data row7 col6\" >0.304496</td>\n",
              "      <td id=\"T_78e71_row7_col7\" class=\"data row7 col7\" >0.278118</td>\n",
              "      <td id=\"T_78e71_row7_col8\" class=\"data row7 col8\" >0.809763</td>\n",
              "      <td id=\"T_78e71_row7_col9\" class=\"data row7 col9\" >0.766911</td>\n",
              "    </tr>\n",
              "    <tr>\n",
              "      <th id=\"T_78e71_level0_row8\" class=\"row_heading level0 row8\" >XGBoost</th>\n",
              "      <td id=\"T_78e71_row8_col0\" class=\"data row8 col0\" >0.927538</td>\n",
              "      <td id=\"T_78e71_row8_col1\" class=\"data row8 col1\" >0.918019</td>\n",
              "      <td id=\"T_78e71_row8_col2\" class=\"data row8 col2\" >0.844867</td>\n",
              "      <td id=\"T_78e71_row8_col3\" class=\"data row8 col3\" >0.454082</td>\n",
              "      <td id=\"T_78e71_row8_col4\" class=\"data row8 col4\" >0.127613</td>\n",
              "      <td id=\"T_78e71_row8_col5\" class=\"data row8 col5\" >0.053528</td>\n",
              "      <td id=\"T_78e71_row8_col6\" class=\"data row8 col6\" >0.221734</td>\n",
              "      <td id=\"T_78e71_row8_col7\" class=\"data row8 col7\" >0.095768</td>\n",
              "      <td id=\"T_78e71_row8_col8\" class=\"data row8 col8\" >0.870633</td>\n",
              "      <td id=\"T_78e71_row8_col9\" class=\"data row8 col9\" >0.756757</td>\n",
              "    </tr>\n",
              "    <tr>\n",
              "      <th id=\"T_78e71_level0_row9\" class=\"row_heading level0 row9\" >XGBoost Random Forest</th>\n",
              "      <td id=\"T_78e71_row9_col0\" class=\"data row9 col0\" >0.963890</td>\n",
              "      <td id=\"T_78e71_row9_col1\" class=\"data row9 col1\" >0.905629</td>\n",
              "      <td id=\"T_78e71_row9_col2\" class=\"data row9 col2\" >0.867929</td>\n",
              "      <td id=\"T_78e71_row9_col3\" class=\"data row9 col3\" >0.327703</td>\n",
              "      <td id=\"T_78e71_row9_col4\" class=\"data row9 col4\" >0.652941</td>\n",
              "      <td id=\"T_78e71_row9_col5\" class=\"data row9 col5\" >0.155573</td>\n",
              "      <td id=\"T_78e71_row9_col6\" class=\"data row9 col6\" >0.745239</td>\n",
              "      <td id=\"T_78e71_row9_col7\" class=\"data row9 col7\" >0.210984</td>\n",
              "      <td id=\"T_78e71_row9_col8\" class=\"data row9 col8\" >0.987932</td>\n",
              "      <td id=\"T_78e71_row9_col9\" class=\"data row9 col9\" >0.738675</td>\n",
              "    </tr>\n",
              "    <tr>\n",
              "      <th id=\"T_78e71_level0_row10\" class=\"row_heading level0 row10\" >Gaussian</th>\n",
              "      <td id=\"T_78e71_row10_col0\" class=\"data row10 col0\" >0.109116</td>\n",
              "      <td id=\"T_78e71_row10_col1\" class=\"data row10 col1\" >0.109687</td>\n",
              "      <td id=\"T_78e71_row10_col2\" class=\"data row10 col2\" >0.082080</td>\n",
              "      <td id=\"T_78e71_row10_col3\" class=\"data row10 col3\" >0.082413</td>\n",
              "      <td id=\"T_78e71_row10_col4\" class=\"data row10 col4\" >0.983345</td>\n",
              "      <td id=\"T_78e71_row10_col5\" class=\"data row10 col5\" >0.984563</td>\n",
              "      <td id=\"T_78e71_row10_col6\" class=\"data row10 col6\" >0.151513</td>\n",
              "      <td id=\"T_78e71_row10_col7\" class=\"data row10 col7\" >0.152095</td>\n",
              "      <td id=\"T_78e71_row10_col8\" class=\"data row10 col8\" >0.516880</td>\n",
              "      <td id=\"T_78e71_row10_col9\" class=\"data row10 col9\" >0.517584</td>\n",
              "    </tr>\n",
              "    <tr>\n",
              "      <th id=\"T_78e71_level0_row11\" class=\"row_heading level0 row11\" >Bernoulli</th>\n",
              "      <td id=\"T_78e71_row11_col0\" class=\"data row11 col0\" >0.866838</td>\n",
              "      <td id=\"T_78e71_row11_col1\" class=\"data row11 col1\" >0.864980</td>\n",
              "      <td id=\"T_78e71_row11_col2\" class=\"data row11 col2\" >0.194704</td>\n",
              "      <td id=\"T_78e71_row11_col3\" class=\"data row11 col3\" >0.189047</td>\n",
              "      <td id=\"T_78e71_row11_col4\" class=\"data row11 col4\" >0.206065</td>\n",
              "      <td id=\"T_78e71_row11_col5\" class=\"data row11 col5\" >0.202085</td>\n",
              "      <td id=\"T_78e71_row11_col6\" class=\"data row11 col6\" >0.200223</td>\n",
              "      <td id=\"T_78e71_row11_col7\" class=\"data row11 col7\" >0.195349</td>\n",
              "      <td id=\"T_78e71_row11_col8\" class=\"data row11 col8\" >0.680901</td>\n",
              "      <td id=\"T_78e71_row11_col9\" class=\"data row11 col9\" >0.680160</td>\n",
              "    </tr>\n",
              "  </tbody>\n",
              "</table>\n"
            ],
            "text/plain": [
              "<pandas.io.formats.style.Styler at 0x321c0fd70>"
            ]
          },
          "execution_count": 72,
          "metadata": {},
          "output_type": "execute_result"
        }
      ],
      "source": [
        "bnb_results.style.background_gradient(vmin=0, vmax=1)"
      ]
    },
    {
      "cell_type": "code",
      "execution_count": 122,
      "metadata": {
        "colab": {
          "base_uri": "https://localhost:8080/",
          "height": 341
        },
        "id": "u5xs7rq6hefM",
        "outputId": "310998c4-1570-4176-a1be-7e9d8a37ca09"
      },
      "outputs": [
        {
          "name": "stderr",
          "output_type": "stream",
          "text": [
            "/opt/anaconda3/envs/datascience/lib/python3.12/site-packages/sklearn/utils/validation.py:2732: UserWarning: X has feature names, but LogisticRegressionCV was fitted without feature names\n",
            "  warnings.warn(\n",
            "/opt/anaconda3/envs/datascience/lib/python3.12/site-packages/sklearn/utils/validation.py:2732: UserWarning: X has feature names, but LogisticRegressionCV was fitted without feature names\n",
            "  warnings.warn(\n"
          ]
        },
        {
          "name": "stdout",
          "output_type": "stream",
          "text": [
            "                    Train Evaluation                                       Test Evaluation                   \n",
            "              precision    recall  f1-score   support                precision    recall  f1-score   support \n",
            "                                                                                                             \n",
            "           0       0.97      0.73      0.83    197845             0       0.96      0.72      0.82     56514 \n",
            "           1       0.20      0.74      0.31     17412             1       0.18      0.68      0.28      4988 \n",
            "                                                                                                             \n",
            "    accuracy                           0.73    215257      accuracy                           0.72     61502 \n",
            "   macro avg       0.58      0.74      0.57    215257     macro avg       0.57      0.70      0.55     61502 \n",
            "weighted avg       0.91      0.73      0.79    215257  weighted avg       0.90      0.72      0.78     61502 \n"
          ]
        },
        {
          "data": {
            "image/png": "[encoded data removed]",
            "text/plain": [
              "<Figure size 800x400 with 4 Axes>"
            ]
          },
          "metadata": {},
          "output_type": "display_data"
        },
        {
          "name": "stderr",
          "output_type": "stream",
          "text": [
            "/opt/anaconda3/envs/datascience/lib/python3.12/site-packages/sklearn/utils/validation.py:2732: UserWarning: X has feature names, but LogisticRegressionCV was fitted without feature names\n",
            "  warnings.warn(\n",
            "/opt/anaconda3/envs/datascience/lib/python3.12/site-packages/sklearn/utils/validation.py:2732: UserWarning: X has feature names, but LogisticRegressionCV was fitted without feature names\n",
            "  warnings.warn(\n"
          ]
        }
      ],
      "source": [
        "# utilizing test data results to pick classifiers, selecting by ROC AUC score, then f1 score, then recall\n",
        "\n",
        "            #   ('logreg_cv', logreg_cv), # #3: recall, #4: f1 (untuned was #3 but picking this instead)\n",
        "            #   ('svc', LinearSVC(random_state=42, class_weight=\"balanced\"))] # adding for variety\n",
        "            #   ('gnb', gnb)] # #1: recall\n",
        "            #   ('xgbrf', xgbrf), # random forest for randomness ;)\n",
        "\n",
        "\n",
        "\n",
        "estimators = [('hgb', hgb), # #1: ROC AUC, f1 #2: recall\n",
        "              ('xgb', xgb), # #2: ROC AUC('gnb', gnb), # #1: recall\n",
        "              ('logreg', logreg), # #3: ROC AUC, #2 f1\n",
        "              ('dt', dt), # #3 f1 of different type than above\n",
        "              ('svc', LinearSVC(random_state=42, class_weight=\"balanced\").fit(X_train, y_train))] # adding for variety\n",
        "\n",
        "stacked_clf = StackingClassifier(estimators=estimators, n_jobs=-1,\n",
        "                                 final_estimator=logreg_cv, cv=\"prefit\").fit(X_stack, y_stack)\n",
        "\n",
        "stacked_clf_results = eval_classification(stacked_clf, X_train, y_train, X_test, y_test, \n",
        "                                          model_name=\"Stacked Classifier\", results_frame=bnb_results)"
      ]
    },
    {
      "cell_type": "code",
      "execution_count": 123,
      "metadata": {
        "id": "y_2bb2bbhefM"
      },
      "outputs": [
        {
          "data": {
            "text/html": [
              "<style type=\"text/css\">\n",
              "#T_4a444_row0_col0, #T_4a444_row1_col0, #T_4a444_row11_col9 {\n",
              "  background-color: #2c89bd;\n",
              "  color: #f1f1f1;\n",
              "}\n",
              "#T_4a444_row0_col1, #T_4a444_row1_col1 {\n",
              "  background-color: #1379b5;\n",
              "  color: #f1f1f1;\n",
              "}\n",
              "#T_4a444_row0_col2, #T_4a444_row1_col2, #T_4a444_row2_col9, #T_4a444_row3_col2, #T_4a444_row4_col2, #T_4a444_row6_col7, #T_4a444_row8_col6 {\n",
              "  background-color: #f2ecf5;\n",
              "  color: #000000;\n",
              "}\n",
              "#T_4a444_row0_col3, #T_4a444_row1_col3 {\n",
              "  background-color: #e2dfee;\n",
              "  color: #000000;\n",
              "}\n",
              "#T_4a444_row0_col4, #T_4a444_row1_col4 {\n",
              "  background-color: #358fc0;\n",
              "  color: #f1f1f1;\n",
              "}\n",
              "#T_4a444_row0_col5, #T_4a444_row1_col5 {\n",
              "  background-color: #2383ba;\n",
              "  color: #f1f1f1;\n",
              "}\n",
              "#T_4a444_row0_col6, #T_4a444_row1_col6, #T_4a444_row3_col6, #T_4a444_row4_col6 {\n",
              "  background-color: #ece7f2;\n",
              "  color: #000000;\n",
              "}\n",
              "#T_4a444_row0_col7, #T_4a444_row1_col7 {\n",
              "  background-color: #034f7d;\n",
              "  color: #f1f1f1;\n",
              "}\n",
              "#T_4a444_row0_col8, #T_4a444_row1_col8 {\n",
              "  background-color: #7eadd1;\n",
              "  color: #f1f1f1;\n",
              "}\n",
              "#T_4a444_row0_col9, #T_4a444_row1_col9 {\n",
              "  background-color: #045687;\n",
              "  color: #f1f1f1;\n",
              "}\n",
              "#T_4a444_row2_col0, #T_4a444_row2_col2, #T_4a444_row2_col4, #T_4a444_row2_col6, #T_4a444_row2_col8, #T_4a444_row5_col0, #T_4a444_row5_col1, #T_4a444_row5_col2, #T_4a444_row5_col3, #T_4a444_row5_col4, #T_4a444_row5_col6, #T_4a444_row5_col8, #T_4a444_row6_col0, #T_4a444_row6_col1, #T_4a444_row6_col2, #T_4a444_row6_col4, #T_4a444_row6_col6, #T_4a444_row6_col8, #T_4a444_row7_col9, #T_4a444_row8_col1, #T_4a444_row10_col5, #T_4a444_row12_col7, #T_4a444_row12_col9 {\n",
              "  background-color: #023858;\n",
              "  color: #f1f1f1;\n",
              "}\n",
              "#T_4a444_row2_col1 {\n",
              "  background-color: #034c78;\n",
              "  color: #f1f1f1;\n",
              "}\n",
              "#T_4a444_row2_col3 {\n",
              "  background-color: #e7e3f0;\n",
              "  color: #000000;\n",
              "}\n",
              "#T_4a444_row2_col5 {\n",
              "  background-color: #e5e1ef;\n",
              "  color: #000000;\n",
              "}\n",
              "#T_4a444_row2_col7, #T_4a444_row10_col7 {\n",
              "  background-color: #63a2cb;\n",
              "  color: #f1f1f1;\n",
              "}\n",
              "#T_4a444_row3_col0, #T_4a444_row4_col0 {\n",
              "  background-color: #2484ba;\n",
              "  color: #f1f1f1;\n",
              "}\n",
              "#T_4a444_row3_col1, #T_4a444_row4_col1, #T_4a444_row8_col8 {\n",
              "  background-color: #0c74b2;\n",
              "  color: #f1f1f1;\n",
              "}\n",
              "#T_4a444_row3_col3, #T_4a444_row4_col3 {\n",
              "  background-color: #e4e1ef;\n",
              "  color: #000000;\n",
              "}\n",
              "#T_4a444_row3_col4, #T_4a444_row4_col4 {\n",
              "  background-color: #4a98c5;\n",
              "  color: #f1f1f1;\n",
              "}\n",
              "#T_4a444_row3_col5, #T_4a444_row4_col5, #T_4a444_row7_col8 {\n",
              "  background-color: #3f93c2;\n",
              "  color: #f1f1f1;\n",
              "}\n",
              "#T_4a444_row3_col7, #T_4a444_row4_col7 {\n",
              "  background-color: #04598c;\n",
              "  color: #f1f1f1;\n",
              "}\n",
              "#T_4a444_row3_col8 {\n",
              "  background-color: #89b1d4;\n",
              "  color: #000000;\n",
              "}\n",
              "#T_4a444_row3_col9 {\n",
              "  background-color: #056fae;\n",
              "  color: #f1f1f1;\n",
              "}\n",
              "#T_4a444_row4_col8 {\n",
              "  background-color: #9ab8d8;\n",
              "  color: #000000;\n",
              "}\n",
              "#T_4a444_row4_col9 {\n",
              "  background-color: #1e80b8;\n",
              "  color: #f1f1f1;\n",
              "}\n",
              "#T_4a444_row5_col5, #T_4a444_row5_col7, #T_4a444_row8_col4, #T_4a444_row10_col0, #T_4a444_row10_col1, #T_4a444_row10_col2, #T_4a444_row10_col3, #T_4a444_row10_col6, #T_4a444_row10_col8, #T_4a444_row10_col9 {\n",
              "  background-color: #fff7fb;\n",
              "  color: #000000;\n",
              "}\n",
              "#T_4a444_row5_col9 {\n",
              "  background-color: #045c90;\n",
              "  color: #f1f1f1;\n",
              "}\n",
              "#T_4a444_row6_col3, #T_4a444_row8_col3 {\n",
              "  background-color: #04649d;\n",
              "  color: #f1f1f1;\n",
              "}\n",
              "#T_4a444_row6_col5 {\n",
              "  background-color: #fdf5fa;\n",
              "  color: #000000;\n",
              "}\n",
              "#T_4a444_row6_col9 {\n",
              "  background-color: #045f95;\n",
              "  color: #f1f1f1;\n",
              "}\n",
              "#T_4a444_row7_col0 {\n",
              "  background-color: #1b7eb7;\n",
              "  color: #f1f1f1;\n",
              "}\n",
              "#T_4a444_row7_col1, #T_4a444_row9_col7 {\n",
              "  background-color: #0570b0;\n",
              "  color: #f1f1f1;\n",
              "}\n",
              "#T_4a444_row7_col2 {\n",
              "  background-color: #ede8f3;\n",
              "  color: #000000;\n",
              "}\n",
              "#T_4a444_row7_col3 {\n",
              "  background-color: #dad9ea;\n",
              "  color: #000000;\n",
              "}\n",
              "#T_4a444_row7_col4, #T_4a444_row12_col0 {\n",
              "  background-color: #197db7;\n",
              "  color: #f1f1f1;\n",
              "}\n",
              "#T_4a444_row7_col5, #T_4a444_row11_col7, #T_4a444_row12_col5 {\n",
              "  background-color: #1c7fb8;\n",
              "  color: #f1f1f1;\n",
              "}\n",
              "#T_4a444_row7_col6 {\n",
              "  background-color: #e0dded;\n",
              "  color: #000000;\n",
              "}\n",
              "#T_4a444_row7_col7 {\n",
              "  background-color: #023a5b;\n",
              "  color: #f1f1f1;\n",
              "}\n",
              "#T_4a444_row8_col0 {\n",
              "  background-color: #034d79;\n",
              "  color: #f1f1f1;\n",
              "}\n",
              "#T_4a444_row8_col2 {\n",
              "  background-color: #046299;\n",
              "  color: #f1f1f1;\n",
              "}\n",
              "#T_4a444_row8_col5, #T_4a444_row11_col6 {\n",
              "  background-color: #f7f0f7;\n",
              "  color: #000000;\n",
              "}\n",
              "#T_4a444_row8_col7 {\n",
              "  background-color: #b7c5df;\n",
              "  color: #000000;\n",
              "}\n",
              "#T_4a444_row8_col9 {\n",
              "  background-color: #03446a;\n",
              "  color: #f1f1f1;\n",
              "}\n",
              "#T_4a444_row9_col0 {\n",
              "  background-color: #034369;\n",
              "  color: #f1f1f1;\n",
              "}\n",
              "#T_4a444_row9_col1, #T_4a444_row10_col4 {\n",
              "  background-color: #023c5f;\n",
              "  color: #f1f1f1;\n",
              "}\n",
              "#T_4a444_row9_col2 {\n",
              "  background-color: #045d92;\n",
              "  color: #f1f1f1;\n",
              "}\n",
              "#T_4a444_row9_col3 {\n",
              "  background-color: #60a1ca;\n",
              "  color: #f1f1f1;\n",
              "}\n",
              "#T_4a444_row9_col4 {\n",
              "  background-color: #4094c3;\n",
              "  color: #f1f1f1;\n",
              "}\n",
              "#T_4a444_row9_col5 {\n",
              "  background-color: #e6e2ef;\n",
              "  color: #000000;\n",
              "}\n",
              "#T_4a444_row9_col6 {\n",
              "  background-color: #187cb6;\n",
              "  color: #f1f1f1;\n",
              "}\n",
              "#T_4a444_row9_col8 {\n",
              "  background-color: #023e62;\n",
              "  color: #f1f1f1;\n",
              "}\n",
              "#T_4a444_row9_col9 {\n",
              "  background-color: #045788;\n",
              "  color: #f1f1f1;\n",
              "}\n",
              "#T_4a444_row11_col0 {\n",
              "  background-color: #045e94;\n",
              "  color: #f1f1f1;\n",
              "}\n",
              "#T_4a444_row11_col1 {\n",
              "  background-color: #034a74;\n",
              "  color: #f1f1f1;\n",
              "}\n",
              "#T_4a444_row11_col2, #T_4a444_row12_col2 {\n",
              "  background-color: #ede7f2;\n",
              "  color: #000000;\n",
              "}\n",
              "#T_4a444_row11_col3 {\n",
              "  background-color: #d3d4e7;\n",
              "  color: #000000;\n",
              "}\n",
              "#T_4a444_row11_col4 {\n",
              "  background-color: #f1ebf5;\n",
              "  color: #000000;\n",
              "}\n",
              "#T_4a444_row11_col5 {\n",
              "  background-color: #dbdaeb;\n",
              "  color: #000000;\n",
              "}\n",
              "#T_4a444_row11_col8 {\n",
              "  background-color: #b3c3de;\n",
              "  color: #000000;\n",
              "}\n",
              "#T_4a444_row12_col1 {\n",
              "  background-color: #056faf;\n",
              "  color: #f1f1f1;\n",
              "}\n",
              "#T_4a444_row12_col3 {\n",
              "  background-color: #d9d8ea;\n",
              "  color: #000000;\n",
              "}\n",
              "#T_4a444_row12_col4 {\n",
              "  background-color: #167bb6;\n",
              "  color: #f1f1f1;\n",
              "}\n",
              "#T_4a444_row12_col6 {\n",
              "  background-color: #dfddec;\n",
              "  color: #000000;\n",
              "}\n",
              "#T_4a444_row12_col8 {\n",
              "  background-color: #3790c0;\n",
              "  color: #f1f1f1;\n",
              "}\n",
              "</style>\n",
              "<table id=\"T_4a444\">\n",
              "  <thead>\n",
              "    <tr>\n",
              "      <th class=\"blank level0\" >&nbsp;</th>\n",
              "      <th id=\"T_4a444_level0_col0\" class=\"col_heading level0 col0\" >train_acc</th>\n",
              "      <th id=\"T_4a444_level0_col1\" class=\"col_heading level0 col1\" >test_acc</th>\n",
              "      <th id=\"T_4a444_level0_col2\" class=\"col_heading level0 col2\" >train_prec</th>\n",
              "      <th id=\"T_4a444_level0_col3\" class=\"col_heading level0 col3\" >test_prec</th>\n",
              "      <th id=\"T_4a444_level0_col4\" class=\"col_heading level0 col4\" >train_recall</th>\n",
              "      <th id=\"T_4a444_level0_col5\" class=\"col_heading level0 col5\" >test_recall</th>\n",
              "      <th id=\"T_4a444_level0_col6\" class=\"col_heading level0 col6\" >train_f1</th>\n",
              "      <th id=\"T_4a444_level0_col7\" class=\"col_heading level0 col7\" >test_f1</th>\n",
              "      <th id=\"T_4a444_level0_col8\" class=\"col_heading level0 col8\" >train_auc</th>\n",
              "      <th id=\"T_4a444_level0_col9\" class=\"col_heading level0 col9\" >test_auc</th>\n",
              "    </tr>\n",
              "  </thead>\n",
              "  <tbody>\n",
              "    <tr>\n",
              "      <th id=\"T_4a444_level0_row0\" class=\"row_heading level0 row0\" >Logistic Regression</th>\n",
              "      <td id=\"T_4a444_row0_col0\" class=\"data row0 col0\" >0.688647</td>\n",
              "      <td id=\"T_4a444_row0_col1\" class=\"data row0 col1\" >0.686970</td>\n",
              "      <td id=\"T_4a444_row0_col2\" class=\"data row0 col2\" >0.160524</td>\n",
              "      <td id=\"T_4a444_row0_col3\" class=\"data row0 col3\" >0.158756</td>\n",
              "      <td id=\"T_4a444_row0_col4\" class=\"data row0 col4\" >0.673616</td>\n",
              "      <td id=\"T_4a444_row0_col5\" class=\"data row0 col5\" >0.665196</td>\n",
              "      <td id=\"T_4a444_row0_col6\" class=\"data row0 col6\" >0.259265</td>\n",
              "      <td id=\"T_4a444_row0_col7\" class=\"data row0 col7\" >0.256335</td>\n",
              "      <td id=\"T_4a444_row0_col8\" class=\"data row0 col8\" >0.745769</td>\n",
              "      <td id=\"T_4a444_row0_col9\" class=\"data row0 col9\" >0.739989</td>\n",
              "    </tr>\n",
              "    <tr>\n",
              "      <th id=\"T_4a444_level0_row1\" class=\"row_heading level0 row1\" >Logistic Regression CV</th>\n",
              "      <td id=\"T_4a444_row1_col0\" class=\"data row1 col0\" >0.688749</td>\n",
              "      <td id=\"T_4a444_row1_col1\" class=\"data row1 col1\" >0.686758</td>\n",
              "      <td id=\"T_4a444_row1_col2\" class=\"data row1 col2\" >0.160526</td>\n",
              "      <td id=\"T_4a444_row1_col3\" class=\"data row1 col3\" >0.158690</td>\n",
              "      <td id=\"T_4a444_row1_col4\" class=\"data row1 col4\" >0.673329</td>\n",
              "      <td id=\"T_4a444_row1_col5\" class=\"data row1 col5\" >0.665397</td>\n",
              "      <td id=\"T_4a444_row1_col6\" class=\"data row1 col6\" >0.259246</td>\n",
              "      <td id=\"T_4a444_row1_col7\" class=\"data row1 col7\" >0.256264</td>\n",
              "      <td id=\"T_4a444_row1_col8\" class=\"data row1 col8\" >0.745610</td>\n",
              "      <td id=\"T_4a444_row1_col9\" class=\"data row1 col9\" >0.739922</td>\n",
              "    </tr>\n",
              "    <tr>\n",
              "      <th id=\"T_4a444_level0_row2\" class=\"row_heading level0 row2\" >Decision Tree</th>\n",
              "      <td id=\"T_4a444_row2_col0\" class=\"data row2 col0\" >1.000000</td>\n",
              "      <td id=\"T_4a444_row2_col1\" class=\"data row2 col1\" >0.857940</td>\n",
              "      <td id=\"T_4a444_row2_col2\" class=\"data row2 col2\" >1.000000</td>\n",
              "      <td id=\"T_4a444_row2_col3\" class=\"data row2 col3\" >0.148113</td>\n",
              "      <td id=\"T_4a444_row2_col4\" class=\"data row2 col4\" >1.000000</td>\n",
              "      <td id=\"T_4a444_row2_col5\" class=\"data row2 col5\" >0.158180</td>\n",
              "      <td id=\"T_4a444_row2_col6\" class=\"data row2 col6\" >1.000000</td>\n",
              "      <td id=\"T_4a444_row2_col7\" class=\"data row2 col7\" >0.152981</td>\n",
              "      <td id=\"T_4a444_row2_col8\" class=\"data row2 col8\" >1.000000</td>\n",
              "      <td id=\"T_4a444_row2_col9\" class=\"data row2 col9\" >0.538940</td>\n",
              "    </tr>\n",
              "    <tr>\n",
              "      <th id=\"T_4a444_level0_row3\" class=\"row_heading level0 row3\" >Decision Tree CV</th>\n",
              "      <td id=\"T_4a444_row3_col0\" class=\"data row3 col0\" >0.706783</td>\n",
              "      <td id=\"T_4a444_row3_col1\" class=\"data row3 col1\" >0.703636</td>\n",
              "      <td id=\"T_4a444_row3_col2\" class=\"data row3 col2\" >0.163315</td>\n",
              "      <td id=\"T_4a444_row3_col3\" class=\"data row3 col3\" >0.155216</td>\n",
              "      <td id=\"T_4a444_row3_col4\" class=\"data row3 col4\" >0.636630</td>\n",
              "      <td id=\"T_4a444_row3_col5\" class=\"data row3 col5\" >0.597434</td>\n",
              "      <td id=\"T_4a444_row3_col6\" class=\"data row3 col6\" >0.259946</td>\n",
              "      <td id=\"T_4a444_row3_col7\" class=\"data row3 col7\" >0.246413</td>\n",
              "      <td id=\"T_4a444_row3_col8\" class=\"data row3 col8\" >0.733137</td>\n",
              "      <td id=\"T_4a444_row3_col9\" class=\"data row3 col9\" >0.706668</td>\n",
              "    </tr>\n",
              "    <tr>\n",
              "      <th id=\"T_4a444_level0_row4\" class=\"row_heading level0 row4\" >AdaBoosted Decision Tree</th>\n",
              "      <td id=\"T_4a444_row4_col0\" class=\"data row4 col0\" >0.706783</td>\n",
              "      <td id=\"T_4a444_row4_col1\" class=\"data row4 col1\" >0.703636</td>\n",
              "      <td id=\"T_4a444_row4_col2\" class=\"data row4 col2\" >0.163315</td>\n",
              "      <td id=\"T_4a444_row4_col3\" class=\"data row4 col3\" >0.155216</td>\n",
              "      <td id=\"T_4a444_row4_col4\" class=\"data row4 col4\" >0.636630</td>\n",
              "      <td id=\"T_4a444_row4_col5\" class=\"data row4 col5\" >0.597434</td>\n",
              "      <td id=\"T_4a444_row4_col6\" class=\"data row4 col6\" >0.259946</td>\n",
              "      <td id=\"T_4a444_row4_col7\" class=\"data row4 col7\" >0.246413</td>\n",
              "      <td id=\"T_4a444_row4_col8\" class=\"data row4 col8\" >0.712692</td>\n",
              "      <td id=\"T_4a444_row4_col9\" class=\"data row4 col9\" >0.688920</td>\n",
              "    </tr>\n",
              "    <tr>\n",
              "      <th id=\"T_4a444_level0_row5\" class=\"row_heading level0 row5\" >Random Forest</th>\n",
              "      <td id=\"T_4a444_row5_col0\" class=\"data row5 col0\" >0.999972</td>\n",
              "      <td id=\"T_4a444_row5_col1\" class=\"data row5 col1\" >0.918929</td>\n",
              "      <td id=\"T_4a444_row5_col2\" class=\"data row5 col2\" >1.000000</td>\n",
              "      <td id=\"T_4a444_row5_col3\" class=\"data row5 col3\" >0.535714</td>\n",
              "      <td id=\"T_4a444_row5_col4\" class=\"data row5 col4\" >0.999655</td>\n",
              "      <td id=\"T_4a444_row5_col5\" class=\"data row5 col5\" >0.003007</td>\n",
              "      <td id=\"T_4a444_row5_col6\" class=\"data row5 col6\" >0.999828</td>\n",
              "      <td id=\"T_4a444_row5_col7\" class=\"data row5 col7\" >0.005981</td>\n",
              "      <td id=\"T_4a444_row5_col8\" class=\"data row5 col8\" >1.000000</td>\n",
              "      <td id=\"T_4a444_row5_col9\" class=\"data row5 col9\" >0.733311</td>\n",
              "    </tr>\n",
              "    <tr>\n",
              "      <th id=\"T_4a444_level0_row6\" class=\"row_heading level0 row6\" >Random Forest CV</th>\n",
              "      <td id=\"T_4a444_row6_col0\" class=\"data row6 col0\" >0.999851</td>\n",
              "      <td id=\"T_4a444_row6_col1\" class=\"data row6 col1\" >0.918653</td>\n",
              "      <td id=\"T_4a444_row6_col2\" class=\"data row6 col2\" >0.998508</td>\n",
              "      <td id=\"T_4a444_row6_col3\" class=\"data row6 col3\" >0.453988</td>\n",
              "      <td id=\"T_4a444_row6_col4\" class=\"data row6 col4\" >0.999655</td>\n",
              "      <td id=\"T_4a444_row6_col5\" class=\"data row6 col5\" >0.014836</td>\n",
              "      <td id=\"T_4a444_row6_col6\" class=\"data row6 col6\" >0.999082</td>\n",
              "      <td id=\"T_4a444_row6_col7\" class=\"data row6 col7\" >0.028732</td>\n",
              "      <td id=\"T_4a444_row6_col8\" class=\"data row6 col8\" >0.999998</td>\n",
              "      <td id=\"T_4a444_row6_col9\" class=\"data row6 col9\" >0.729412</td>\n",
              "    </tr>\n",
              "    <tr>\n",
              "      <th id=\"T_4a444_level0_row7\" class=\"row_heading level0 row7\" >Histogram-based Gradient Boosting Tree</th>\n",
              "      <td id=\"T_4a444_row7_col0\" class=\"data row7 col0\" >0.728292</td>\n",
              "      <td id=\"T_4a444_row7_col1\" class=\"data row7 col1\" >0.714367</td>\n",
              "      <td id=\"T_4a444_row7_col2\" class=\"data row7 col2\" >0.192004</td>\n",
              "      <td id=\"T_4a444_row7_col3\" class=\"data row7 col3\" >0.174911</td>\n",
              "      <td id=\"T_4a444_row7_col4\" class=\"data row7 col4\" >0.735297</td>\n",
              "      <td id=\"T_4a444_row7_col5\" class=\"data row7 col5\" >0.678428</td>\n",
              "      <td id=\"T_4a444_row7_col6\" class=\"data row7 col6\" >0.304496</td>\n",
              "      <td id=\"T_4a444_row7_col7\" class=\"data row7 col7\" >0.278118</td>\n",
              "      <td id=\"T_4a444_row7_col8\" class=\"data row7 col8\" >0.809763</td>\n",
              "      <td id=\"T_4a444_row7_col9\" class=\"data row7 col9\" >0.766911</td>\n",
              "    </tr>\n",
              "    <tr>\n",
              "      <th id=\"T_4a444_level0_row8\" class=\"row_heading level0 row8\" >XGBoost</th>\n",
              "      <td id=\"T_4a444_row8_col0\" class=\"data row8 col0\" >0.927538</td>\n",
              "      <td id=\"T_4a444_row8_col1\" class=\"data row8 col1\" >0.918019</td>\n",
              "      <td id=\"T_4a444_row8_col2\" class=\"data row8 col2\" >0.844867</td>\n",
              "      <td id=\"T_4a444_row8_col3\" class=\"data row8 col3\" >0.454082</td>\n",
              "      <td id=\"T_4a444_row8_col4\" class=\"data row8 col4\" >0.127613</td>\n",
              "      <td id=\"T_4a444_row8_col5\" class=\"data row8 col5\" >0.053528</td>\n",
              "      <td id=\"T_4a444_row8_col6\" class=\"data row8 col6\" >0.221734</td>\n",
              "      <td id=\"T_4a444_row8_col7\" class=\"data row8 col7\" >0.095768</td>\n",
              "      <td id=\"T_4a444_row8_col8\" class=\"data row8 col8\" >0.870633</td>\n",
              "      <td id=\"T_4a444_row8_col9\" class=\"data row8 col9\" >0.756757</td>\n",
              "    </tr>\n",
              "    <tr>\n",
              "      <th id=\"T_4a444_level0_row9\" class=\"row_heading level0 row9\" >XGBoost Random Forest</th>\n",
              "      <td id=\"T_4a444_row9_col0\" class=\"data row9 col0\" >0.963890</td>\n",
              "      <td id=\"T_4a444_row9_col1\" class=\"data row9 col1\" >0.905629</td>\n",
              "      <td id=\"T_4a444_row9_col2\" class=\"data row9 col2\" >0.867929</td>\n",
              "      <td id=\"T_4a444_row9_col3\" class=\"data row9 col3\" >0.327703</td>\n",
              "      <td id=\"T_4a444_row9_col4\" class=\"data row9 col4\" >0.652941</td>\n",
              "      <td id=\"T_4a444_row9_col5\" class=\"data row9 col5\" >0.155573</td>\n",
              "      <td id=\"T_4a444_row9_col6\" class=\"data row9 col6\" >0.745239</td>\n",
              "      <td id=\"T_4a444_row9_col7\" class=\"data row9 col7\" >0.210984</td>\n",
              "      <td id=\"T_4a444_row9_col8\" class=\"data row9 col8\" >0.987932</td>\n",
              "      <td id=\"T_4a444_row9_col9\" class=\"data row9 col9\" >0.738675</td>\n",
              "    </tr>\n",
              "    <tr>\n",
              "      <th id=\"T_4a444_level0_row10\" class=\"row_heading level0 row10\" >Gaussian</th>\n",
              "      <td id=\"T_4a444_row10_col0\" class=\"data row10 col0\" >0.109116</td>\n",
              "      <td id=\"T_4a444_row10_col1\" class=\"data row10 col1\" >0.109687</td>\n",
              "      <td id=\"T_4a444_row10_col2\" class=\"data row10 col2\" >0.082080</td>\n",
              "      <td id=\"T_4a444_row10_col3\" class=\"data row10 col3\" >0.082413</td>\n",
              "      <td id=\"T_4a444_row10_col4\" class=\"data row10 col4\" >0.983345</td>\n",
              "      <td id=\"T_4a444_row10_col5\" class=\"data row10 col5\" >0.984563</td>\n",
              "      <td id=\"T_4a444_row10_col6\" class=\"data row10 col6\" >0.151513</td>\n",
              "      <td id=\"T_4a444_row10_col7\" class=\"data row10 col7\" >0.152095</td>\n",
              "      <td id=\"T_4a444_row10_col8\" class=\"data row10 col8\" >0.516880</td>\n",
              "      <td id=\"T_4a444_row10_col9\" class=\"data row10 col9\" >0.517584</td>\n",
              "    </tr>\n",
              "    <tr>\n",
              "      <th id=\"T_4a444_level0_row11\" class=\"row_heading level0 row11\" >Bernoulli</th>\n",
              "      <td id=\"T_4a444_row11_col0\" class=\"data row11 col0\" >0.866838</td>\n",
              "      <td id=\"T_4a444_row11_col1\" class=\"data row11 col1\" >0.864980</td>\n",
              "      <td id=\"T_4a444_row11_col2\" class=\"data row11 col2\" >0.194704</td>\n",
              "      <td id=\"T_4a444_row11_col3\" class=\"data row11 col3\" >0.189047</td>\n",
              "      <td id=\"T_4a444_row11_col4\" class=\"data row11 col4\" >0.206065</td>\n",
              "      <td id=\"T_4a444_row11_col5\" class=\"data row11 col5\" >0.202085</td>\n",
              "      <td id=\"T_4a444_row11_col6\" class=\"data row11 col6\" >0.200223</td>\n",
              "      <td id=\"T_4a444_row11_col7\" class=\"data row11 col7\" >0.195349</td>\n",
              "      <td id=\"T_4a444_row11_col8\" class=\"data row11 col8\" >0.680901</td>\n",
              "      <td id=\"T_4a444_row11_col9\" class=\"data row11 col9\" >0.680160</td>\n",
              "    </tr>\n",
              "    <tr>\n",
              "      <th id=\"T_4a444_level0_row12\" class=\"row_heading level0 row12\" >Stacked Classifier</th>\n",
              "      <td id=\"T_4a444_row12_col0\" class=\"data row12 col0\" >0.731042</td>\n",
              "      <td id=\"T_4a444_row12_col1\" class=\"data row12 col1\" >0.717261</td>\n",
              "      <td id=\"T_4a444_row12_col2\" class=\"data row12 col2\" >0.195163</td>\n",
              "      <td id=\"T_4a444_row12_col3\" class=\"data row12 col3\" >0.176838</td>\n",
              "      <td id=\"T_4a444_row12_col4\" class=\"data row12 col4\" >0.744257</td>\n",
              "      <td id=\"T_4a444_row12_col5\" class=\"data row12 col5\" >0.680233</td>\n",
              "      <td id=\"T_4a444_row12_col6\" class=\"data row12 col6\" >0.309236</td>\n",
              "      <td id=\"T_4a444_row12_col7\" class=\"data row12 col7\" >0.280703</td>\n",
              "      <td id=\"T_4a444_row12_col8\" class=\"data row12 col8\" >0.817169</td>\n",
              "      <td id=\"T_4a444_row12_col9\" class=\"data row12 col9\" >0.767754</td>\n",
              "    </tr>\n",
              "  </tbody>\n",
              "</table>\n"
            ],
            "text/plain": [
              "<pandas.io.formats.style.Styler at 0x3501170e0>"
            ]
          },
          "execution_count": 123,
          "metadata": {},
          "output_type": "execute_result"
        }
      ],
      "source": [
        "stacked_clf_results.style.background_gradient()"
      ]
    },
    {
      "cell_type": "markdown",
      "metadata": {
        "id": "0i1ciGBRhefN"
      },
      "source": [
        "# Export and Submission"
      ]
    },
    {
      "cell_type": "markdown",
      "metadata": {
        "id": "-B1K2XuChefN"
      },
      "source": [
        "## Import test data and preliminary "
      ]
    },
    {
      "cell_type": "code",
      "execution_count": 82,
      "metadata": {
        "id": "yTZge3p2hefN"
      },
      "outputs": [],
      "source": [
        "test_data_file = \"application_test.csv\"\n",
        "application_test = pd.read_csv(input_path + test_data_file)\n",
        "\n",
        "bureau_loans_and_balances = pd.read_csv(lib_path + \"bureau_loans_and_balances.csv\")\n",
        "\n",
        "installments_payments = pd.read_csv(input_path + \"installments_payments.csv\")\n",
        "POS_CASH_balance = pd.read_csv(input_path + \"POS_CASH_balance.csv\")\n",
        "credit_card_balance = pd.read_csv(input_path + \"credit_card_balance.csv\")\n",
        "\n",
        "application_test = pd.merge(application_test, bureau_loans_and_balances, how=\"left\", on=\"SK_ID_CURR\")\n",
        "\n",
        "idx = pd.DataFrame(application_test['SK_ID_CURR'])\n"
      ]
    },
    {
      "cell_type": "markdown",
      "metadata": {
        "id": "JOUrxpNdhefN"
      },
      "source": [
        "## Processing"
      ]
    },
    {
      "cell_type": "code",
      "execution_count": 83,
      "metadata": {
        "id": "xqtLrbpchefN"
      },
      "outputs": [],
      "source": [
        "# INSTALL steps\n",
        "installments_payments.drop(columns=\"SK_ID_PREV\", inplace=True)\n",
        "installments_payments.columns = [col + \"_INSTALL\" for col in installments_payments.columns]\n",
        "merge_INSTALL = pd.merge(idx, installments_payments, how=\"inner\", left_on=\"SK_ID_CURR\", right_on=\"SK_ID_CURR_INSTALL\")\n",
        "merge_INSTALL.drop(columns=\"SK_ID_CURR_INSTALL\", inplace=True)\n",
        "merge_INSTALL = merge_INSTALL.sort_values(by=\"NUM_INSTALMENT_NUMBER_INSTALL\", ascending=False).drop_duplicates(subset=[\"SK_ID_CURR\"])\n",
        "\n",
        "# POS steps\n",
        "POS_CASH_balance.drop(columns=\"SK_ID_PREV\", inplace=True)\n",
        "POS_CASH_balance.columns = [col + \"_POS\" for col in POS_CASH_balance.columns]\n",
        "merge_POS = pd.merge(idx, POS_CASH_balance, how=\"inner\", left_on=\"SK_ID_CURR\", right_on=\"SK_ID_CURR_POS\")\n",
        "merge_POS.drop(columns=\"SK_ID_CURR_POS\", inplace=True)\n",
        "merge_POS = merge_POS.sort_values(by=\"MONTHS_BALANCE_POS\", ascending=False).drop_duplicates(subset=[\"SK_ID_CURR\"])\n",
        "\n",
        "# CC step\n",
        "credit_card_balance.drop(columns=\"SK_ID_PREV\", inplace=True)\n",
        "credit_card_balance.columns = [col + \"_CC\" for col in credit_card_balance.columns]\n",
        "merge_CC = pd.merge(idx, credit_card_balance, how=\"inner\", left_on=\"SK_ID_CURR\", right_on=\"SK_ID_CURR_CC\")\n",
        "merge_CC.drop(columns=\"SK_ID_CURR_CC\", inplace=True)\n",
        "merge_CC = merge_CC.sort_values(by=\"MONTHS_BALANCE_CC\", ascending=False).drop_duplicates(subset=[\"SK_ID_CURR\"])\n",
        "\n",
        "# Merge down filtered data\n",
        "balances_and_payments = pd.merge(merge_INSTALL, merge_POS, how=\"outer\", left_on=\"SK_ID_CURR\", right_on=\"SK_ID_CURR\")\n",
        "balances_and_payments = pd.merge(balances_and_payments, merge_CC, how=\"outer\", left_on=\"SK_ID_CURR\", right_on=\"SK_ID_CURR\")\n",
        "\n",
        "# Drop object columns\n",
        "# balances_and_payments.select_dtypes(include=\"object\")\n",
        "balances_and_payments.drop(labels=[\"NAME_CONTRACT_STATUS_POS\", \"NAME_CONTRACT_STATUS_CC\"], axis=1, inplace=True)\n",
        "\n",
        "# Merge down onto test file\n",
        "application_test = pd.merge(application_test, balances_and_payments, how=\"left\", on=\"SK_ID_CURR\")"
      ]
    },
    {
      "cell_type": "code",
      "execution_count": 84,
      "metadata": {},
      "outputs": [
        {
          "name": "stderr",
          "output_type": "stream",
          "text": [
            "/opt/anaconda3/envs/datascience/lib/python3.12/site-packages/sklearn/utils/validation.py:2732: UserWarning: X has feature names, but LogisticRegressionCV was fitted without feature names\n",
            "  warnings.warn(\n"
          ]
        }
      ],
      "source": [
        "# pop off index ids\n",
        "ids = application_test.pop(\"SK_ID_CURR\")\n",
        "\n",
        "# transform data\n",
        "application_test = preprocessor.transform(application_test)\n",
        "\n",
        "# drop columns with collinear relationships (Pearson's correlation coefficients > 0.8)\n",
        "application_test.drop(columns=non_co_cols, inplace=True)\n"
      ]
    },
    {
      "cell_type": "markdown",
      "metadata": {
        "id": "KctmibZphefN"
      },
      "source": [
        "## Output"
      ]
    },
    {
      "cell_type": "code",
      "execution_count": 124,
      "metadata": {},
      "outputs": [
        {
          "name": "stderr",
          "output_type": "stream",
          "text": [
            "/opt/anaconda3/envs/datascience/lib/python3.12/site-packages/sklearn/utils/validation.py:2732: UserWarning: X has feature names, but LogisticRegressionCV was fitted without feature names\n",
            "  warnings.warn(\n"
          ]
        }
      ],
      "source": [
        "# make predictions\n",
        "preds = stacked_clf.predict_proba(application_test)[:,1]\n",
        "\n",
        "output = pd.DataFrame({\"SK_ID_CURR\": ids,\n",
        "                       \"TARGET\": preds})"
      ]
    },
    {
      "cell_type": "code",
      "execution_count": 125,
      "metadata": {
        "colab": {
          "base_uri": "https://localhost:8080/",
          "height": 411
        },
        "id": "v1AcFtf2hefN",
        "outputId": "af55f7c4-3948-4ba0-b5fd-46bbcbe368ae"
      },
      "outputs": [
        {
          "data": {
            "text/html": [
              "<div>\n",
              "<style scoped>\n",
              "    .dataframe tbody tr th:only-of-type {\n",
              "        vertical-align: middle;\n",
              "    }\n",
              "\n",
              "    .dataframe tbody tr th {\n",
              "        vertical-align: top;\n",
              "    }\n",
              "\n",
              "    .dataframe thead th {\n",
              "        text-align: right;\n",
              "    }\n",
              "</style>\n",
              "<table border=\"1\" class=\"dataframe\">\n",
              "  <thead>\n",
              "    <tr style=\"text-align: right;\">\n",
              "      <th></th>\n",
              "      <th>SK_ID_CURR</th>\n",
              "      <th>TARGET</th>\n",
              "    </tr>\n",
              "  </thead>\n",
              "  <tbody>\n",
              "    <tr>\n",
              "      <th>0</th>\n",
              "      <td>100001</td>\n",
              "      <td>0.281245</td>\n",
              "    </tr>\n",
              "    <tr>\n",
              "      <th>1</th>\n",
              "      <td>100005</td>\n",
              "      <td>0.668620</td>\n",
              "    </tr>\n",
              "    <tr>\n",
              "      <th>2</th>\n",
              "      <td>100013</td>\n",
              "      <td>0.239856</td>\n",
              "    </tr>\n",
              "    <tr>\n",
              "      <th>3</th>\n",
              "      <td>100028</td>\n",
              "      <td>0.184011</td>\n",
              "    </tr>\n",
              "    <tr>\n",
              "      <th>4</th>\n",
              "      <td>100038</td>\n",
              "      <td>0.706326</td>\n",
              "    </tr>\n",
              "    <tr>\n",
              "      <th>...</th>\n",
              "      <td>...</td>\n",
              "      <td>...</td>\n",
              "    </tr>\n",
              "    <tr>\n",
              "      <th>48739</th>\n",
              "      <td>456221</td>\n",
              "      <td>0.262887</td>\n",
              "    </tr>\n",
              "    <tr>\n",
              "      <th>48740</th>\n",
              "      <td>456222</td>\n",
              "      <td>0.371906</td>\n",
              "    </tr>\n",
              "    <tr>\n",
              "      <th>48741</th>\n",
              "      <td>456223</td>\n",
              "      <td>0.254911</td>\n",
              "    </tr>\n",
              "    <tr>\n",
              "      <th>48742</th>\n",
              "      <td>456224</td>\n",
              "      <td>0.262542</td>\n",
              "    </tr>\n",
              "    <tr>\n",
              "      <th>48743</th>\n",
              "      <td>456250</td>\n",
              "      <td>0.703287</td>\n",
              "    </tr>\n",
              "  </tbody>\n",
              "</table>\n",
              "<p>48744 rows × 2 columns</p>\n",
              "</div>"
            ],
            "text/plain": [
              "       SK_ID_CURR    TARGET\n",
              "0          100001  0.281245\n",
              "1          100005  0.668620\n",
              "2          100013  0.239856\n",
              "3          100028  0.184011\n",
              "4          100038  0.706326\n",
              "...           ...       ...\n",
              "48739      456221  0.262887\n",
              "48740      456222  0.371906\n",
              "48741      456223  0.254911\n",
              "48742      456224  0.262542\n",
              "48743      456250  0.703287\n",
              "\n",
              "[48744 rows x 2 columns]"
            ]
          },
          "execution_count": 125,
          "metadata": {},
          "output_type": "execute_result"
        }
      ],
      "source": [
        "output"
      ]
    },
    {
      "cell_type": "markdown",
      "metadata": {
        "id": "D8XomzSqhefN"
      },
      "source": [
        "## Export"
      ]
    },
    {
      "cell_type": "code",
      "execution_count": 127,
      "metadata": {
        "colab": {
          "base_uri": "https://localhost:8080/",
          "height": 201
        },
        "id": "Wv-YdXQ2hefN",
        "outputId": "19e55608-6f37-45e9-e563-828e41ef1ab1"
      },
      "outputs": [
        {
          "data": {
            "text/html": [
              "<div>\n",
              "<style scoped>\n",
              "    .dataframe tbody tr th:only-of-type {\n",
              "        vertical-align: middle;\n",
              "    }\n",
              "\n",
              "    .dataframe tbody tr th {\n",
              "        vertical-align: top;\n",
              "    }\n",
              "\n",
              "    .dataframe thead th {\n",
              "        text-align: right;\n",
              "    }\n",
              "</style>\n",
              "<table border=\"1\" class=\"dataframe\">\n",
              "  <thead>\n",
              "    <tr style=\"text-align: right;\">\n",
              "      <th></th>\n",
              "      <th>SK_ID_CURR</th>\n",
              "      <th>TARGET</th>\n",
              "    </tr>\n",
              "  </thead>\n",
              "  <tbody>\n",
              "    <tr>\n",
              "      <th>0</th>\n",
              "      <td>100001</td>\n",
              "      <td>0.281245</td>\n",
              "    </tr>\n",
              "    <tr>\n",
              "      <th>1</th>\n",
              "      <td>100005</td>\n",
              "      <td>0.668620</td>\n",
              "    </tr>\n",
              "    <tr>\n",
              "      <th>2</th>\n",
              "      <td>100013</td>\n",
              "      <td>0.239856</td>\n",
              "    </tr>\n",
              "    <tr>\n",
              "      <th>3</th>\n",
              "      <td>100028</td>\n",
              "      <td>0.184011</td>\n",
              "    </tr>\n",
              "    <tr>\n",
              "      <th>4</th>\n",
              "      <td>100038</td>\n",
              "      <td>0.706326</td>\n",
              "    </tr>\n",
              "  </tbody>\n",
              "</table>\n",
              "</div>"
            ],
            "text/plain": [
              "   SK_ID_CURR    TARGET\n",
              "0      100001  0.281245\n",
              "1      100005  0.668620\n",
              "2      100013  0.239856\n",
              "3      100028  0.184011\n",
              "4      100038  0.706326"
            ]
          },
          "execution_count": 127,
          "metadata": {},
          "output_type": "execute_result"
        }
      ],
      "source": [
        "sample_submission_file = \"sample_submission.csv\"\n",
        "submissions_path = \"submissions/\"\n",
        "sample_submission_df = pd.read_csv(input_path + sample_submission_file)\n",
        "sample_submission_df[\"TARGET\"] = preds\n",
        "sample_submission_df.to_csv(submissions_path + \"02_no_forest.csv\", index=False)\n",
        "sample_submission_df.head()"
      ]
    },
    {
      "cell_type": "code",
      "execution_count": 108,
      "metadata": {},
      "outputs": [
        {
          "data": {
            "text/plain": [
              "['../lib/modelling.joblib']"
            ]
          },
          "execution_count": 108,
          "metadata": {},
          "output_type": "execute_result"
        }
      ],
      "source": [
        "# saving model to lib folder for future use\n",
        "to_save = {\"model\" : calibrated_clf}\n",
        "filename = \"modelling.joblib\"\n",
        "\n",
        "joblib.dump(to_save, lib_path + filename)"
      ]
    }
  ],
  "metadata": {
    "colab": {
      "provenance": []
    },
    "kernelspec": {
      "display_name": "datascience",
      "language": "python",
      "name": "python3"
    },
    "language_info": {
      "codemirror_mode": {
        "name": "ipython",
        "version": 3
      },
      "file_extension": ".py",
      "mimetype": "text/x-python",
      "name": "python",
      "nbconvert_exporter": "python",
      "pygments_lexer": "ipython3",
      "version": "3.12.9"
    }
  },
  "nbformat": 4,
  "nbformat_minor": 0
}
